{
 "cells": [
  {
   "cell_type": "markdown",
   "metadata": {
    "id": "MCmll1YMq_u7"
   },
   "source": [
    "# Mount my Google Drive and decompress gz"
   ]
  },
  {
   "cell_type": "code",
   "execution_count": 1,
   "metadata": {
    "colab": {
     "base_uri": "https://localhost:8080/"
    },
    "executionInfo": {
     "elapsed": 21580,
     "status": "ok",
     "timestamp": 1646667457393,
     "user": {
      "displayName": "Carlos P.",
      "photoUrl": "https://lh3.googleusercontent.com/a/default-user=s64",
      "userId": "00408569081660207744"
     },
     "user_tz": -60
    },
    "id": "WtAlvB1PUKr_",
    "outputId": "3cc56639-038c-4e87-d1da-7e71388c778a"
   },
   "outputs": [
    {
     "name": "stdout",
     "output_type": "stream",
     "text": [
      "Mounted at /content/drive\n"
     ]
    }
   ],
   "source": [
    "from google.colab import drive\n",
    "drive.mount('/content/drive')"
   ]
  },
  {
   "cell_type": "code",
   "execution_count": 2,
   "metadata": {
    "colab": {
     "base_uri": "https://localhost:8080/"
    },
    "executionInfo": {
     "elapsed": 178600,
     "status": "ok",
     "timestamp": 1646667638155,
     "user": {
      "displayName": "Carlos P.",
      "photoUrl": "https://lh3.googleusercontent.com/a/default-user=s64",
      "userId": "00408569081660207744"
     },
     "user_tz": -60
    },
    "id": "lwWScuaWq-M-",
    "outputId": "69ce65fd-a4f7-4d31-b1f8-ce01002524cc"
   },
   "outputs": [
    {
     "name": "stdout",
     "output_type": "stream",
     "text": [
      "Done!\n"
     ]
    }
   ],
   "source": [
    "import gzip\n",
    "import shutil\n",
    "with gzip.open('/content/drive/MyDrive/CosmicGenomeScreensMutantExport.tsv.gz', 'rb') as f_in:\n",
    "    with open('DECOMPcosmic.tsv', 'wb') as f_out:\n",
    "        shutil.copyfileobj(f_in, f_out)\n",
    "  \n",
    "print('Done!')\n"
   ]
  },
  {
   "cell_type": "markdown",
   "metadata": {
    "id": "nMZyt-Ou2cbD"
   },
   "source": [
    "# Load Cosmic and merge to its filtered index"
   ]
  },
  {
   "cell_type": "code",
   "execution_count": 1,
   "metadata": {
    "executionInfo": {
     "elapsed": 1359,
     "status": "ok",
     "timestamp": 1646671087937,
     "user": {
      "displayName": "Carlos P.",
      "photoUrl": "https://lh3.googleusercontent.com/a/default-user=s64",
      "userId": "00408569081660207744"
     },
     "user_tz": -60
    },
    "id": "Qv78Dp6XqKcJ"
   },
   "outputs": [],
   "source": [
    "import pandas as pd"
   ]
  },
  {
   "cell_type": "code",
   "execution_count": 2,
   "metadata": {
    "colab": {
     "base_uri": "https://localhost:8080/"
    },
    "executionInfo": {
     "elapsed": 154848,
     "status": "ok",
     "timestamp": 1646671242780,
     "user": {
      "displayName": "Carlos P.",
      "photoUrl": "https://lh3.googleusercontent.com/a/default-user=s64",
      "userId": "00408569081660207744"
     },
     "user_tz": -60
    },
    "id": "76ilL9g7qvYH",
    "outputId": "9802fcf9-24e2-4019-be23-043271978f8a"
   },
   "outputs": [
    {
     "data": {
      "text/plain": [
       "(46212382, 2)"
      ]
     },
     "execution_count": 2,
     "metadata": {},
     "output_type": "execute_result"
    }
   ],
   "source": [
    "Cosmic_cols = pd.read_csv('CosmicGenomeScreensMutantExport.tsv', sep='\\t', usecols=[1,20]) # 1'Accession Number', 20 'Mutation AA'\n",
    "Cosmic_cols.shape\n",
    "# (44398535, 1)"
   ]
  },
  {
   "cell_type": "code",
   "execution_count": 3,
   "metadata": {},
   "outputs": [
    {
     "data": {
      "text/html": [
       "<div>\n",
       "<style scoped>\n",
       "    .dataframe tbody tr th:only-of-type {\n",
       "        vertical-align: middle;\n",
       "    }\n",
       "\n",
       "    .dataframe tbody tr th {\n",
       "        vertical-align: top;\n",
       "    }\n",
       "\n",
       "    .dataframe thead th {\n",
       "        text-align: right;\n",
       "    }\n",
       "</style>\n",
       "<table border=\"1\" class=\"dataframe\">\n",
       "  <thead>\n",
       "    <tr style=\"text-align: right;\">\n",
       "      <th></th>\n",
       "      <th>Accession Number</th>\n",
       "      <th>Mutation AA</th>\n",
       "    </tr>\n",
       "  </thead>\n",
       "  <tbody>\n",
       "    <tr>\n",
       "      <th>0</th>\n",
       "      <td>ENST00000354590.7</td>\n",
       "      <td>p.S315Y</td>\n",
       "    </tr>\n",
       "    <tr>\n",
       "      <th>1</th>\n",
       "      <td>ENST00000354590.7</td>\n",
       "      <td>p.?</td>\n",
       "    </tr>\n",
       "    <tr>\n",
       "      <th>2</th>\n",
       "      <td>ENST00000354590.7</td>\n",
       "      <td>p.Q26*</td>\n",
       "    </tr>\n",
       "    <tr>\n",
       "      <th>3</th>\n",
       "      <td>ENST00000354590.7</td>\n",
       "      <td>p.A106V</td>\n",
       "    </tr>\n",
       "    <tr>\n",
       "      <th>4</th>\n",
       "      <td>ENST00000354590.7</td>\n",
       "      <td>p.T363P</td>\n",
       "    </tr>\n",
       "  </tbody>\n",
       "</table>\n",
       "</div>"
      ],
      "text/plain": [
       "    Accession Number Mutation AA\n",
       "0  ENST00000354590.7     p.S315Y\n",
       "1  ENST00000354590.7         p.?\n",
       "2  ENST00000354590.7      p.Q26*\n",
       "3  ENST00000354590.7     p.A106V\n",
       "4  ENST00000354590.7     p.T363P"
      ]
     },
     "execution_count": 3,
     "metadata": {},
     "output_type": "execute_result"
    }
   ],
   "source": [
    "Cosmic_cols.head()"
   ]
  },
  {
   "cell_type": "code",
   "execution_count": 4,
   "metadata": {
    "colab": {
     "base_uri": "https://localhost:8080/"
    },
    "executionInfo": {
     "elapsed": 3091,
     "status": "ok",
     "timestamp": 1646671245854,
     "user": {
      "displayName": "Carlos P.",
      "photoUrl": "https://lh3.googleusercontent.com/a/default-user=s64",
      "userId": "00408569081660207744"
     },
     "user_tz": -60
    },
    "id": "z7ejIFCAjiR2",
    "outputId": "6901f687-637c-4a1b-db11-602525ec0edc"
   },
   "outputs": [
    {
     "data": {
      "text/plain": [
       "(10378441, 1)"
      ]
     },
     "execution_count": 4,
     "metadata": {},
     "output_type": "execute_result"
    }
   ],
   "source": [
    "index_Cosmic = pd.read_csv('Filtered Cosmic Index.csv')\n",
    "index_Cosmic.set_index(['index'], drop=False, append=False, inplace=True, verify_integrity=True) \n",
    "index_Cosmic.shape\n",
    "# (9539276, 1)"
   ]
  },
  {
   "cell_type": "code",
   "execution_count": 5,
   "metadata": {},
   "outputs": [
    {
     "data": {
      "text/html": [
       "<div>\n",
       "<style scoped>\n",
       "    .dataframe tbody tr th:only-of-type {\n",
       "        vertical-align: middle;\n",
       "    }\n",
       "\n",
       "    .dataframe tbody tr th {\n",
       "        vertical-align: top;\n",
       "    }\n",
       "\n",
       "    .dataframe thead th {\n",
       "        text-align: right;\n",
       "    }\n",
       "</style>\n",
       "<table border=\"1\" class=\"dataframe\">\n",
       "  <thead>\n",
       "    <tr style=\"text-align: right;\">\n",
       "      <th></th>\n",
       "      <th>index</th>\n",
       "    </tr>\n",
       "    <tr>\n",
       "      <th>index</th>\n",
       "      <th></th>\n",
       "    </tr>\n",
       "  </thead>\n",
       "  <tbody>\n",
       "    <tr>\n",
       "      <th>0</th>\n",
       "      <td>0</td>\n",
       "    </tr>\n",
       "    <tr>\n",
       "      <th>3</th>\n",
       "      <td>3</td>\n",
       "    </tr>\n",
       "    <tr>\n",
       "      <th>4</th>\n",
       "      <td>4</td>\n",
       "    </tr>\n",
       "    <tr>\n",
       "      <th>10</th>\n",
       "      <td>10</td>\n",
       "    </tr>\n",
       "    <tr>\n",
       "      <th>11</th>\n",
       "      <td>11</td>\n",
       "    </tr>\n",
       "    <tr>\n",
       "      <th>...</th>\n",
       "      <td>...</td>\n",
       "    </tr>\n",
       "    <tr>\n",
       "      <th>46212358</th>\n",
       "      <td>46212358</td>\n",
       "    </tr>\n",
       "    <tr>\n",
       "      <th>46212365</th>\n",
       "      <td>46212365</td>\n",
       "    </tr>\n",
       "    <tr>\n",
       "      <th>46212372</th>\n",
       "      <td>46212372</td>\n",
       "    </tr>\n",
       "    <tr>\n",
       "      <th>46212375</th>\n",
       "      <td>46212375</td>\n",
       "    </tr>\n",
       "    <tr>\n",
       "      <th>46212378</th>\n",
       "      <td>46212378</td>\n",
       "    </tr>\n",
       "  </tbody>\n",
       "</table>\n",
       "<p>10378441 rows × 1 columns</p>\n",
       "</div>"
      ],
      "text/plain": [
       "             index\n",
       "index             \n",
       "0                0\n",
       "3                3\n",
       "4                4\n",
       "10              10\n",
       "11              11\n",
       "...            ...\n",
       "46212358  46212358\n",
       "46212365  46212365\n",
       "46212372  46212372\n",
       "46212375  46212375\n",
       "46212378  46212378\n",
       "\n",
       "[10378441 rows x 1 columns]"
      ]
     },
     "execution_count": 5,
     "metadata": {},
     "output_type": "execute_result"
    }
   ],
   "source": [
    "index_Cosmic"
   ]
  },
  {
   "cell_type": "code",
   "execution_count": 6,
   "metadata": {
    "colab": {
     "base_uri": "https://localhost:8080/"
    },
    "executionInfo": {
     "elapsed": 1532,
     "status": "ok",
     "timestamp": 1646671247364,
     "user": {
      "displayName": "Carlos P.",
      "photoUrl": "https://lh3.googleusercontent.com/a/default-user=s64",
      "userId": "00408569081660207744"
     },
     "user_tz": -60
    },
    "id": "WJVeQoWwqMH4",
    "outputId": "4baa781e-df37-4514-d516-db47cf64eb60"
   },
   "outputs": [
    {
     "data": {
      "text/plain": [
       "(10378441, 3)"
      ]
     },
     "execution_count": 6,
     "metadata": {},
     "output_type": "execute_result"
    }
   ],
   "source": [
    "df_Cosmic = Cosmic_cols.merge(index_Cosmic, how='inner', left_index=True, right_index=True, validate='1:1' )\n",
    "df_Cosmic.shape\n",
    "# (9539276, 2)"
   ]
  },
  {
   "cell_type": "code",
   "execution_count": 7,
   "metadata": {},
   "outputs": [
    {
     "data": {
      "text/html": [
       "<div>\n",
       "<style scoped>\n",
       "    .dataframe tbody tr th:only-of-type {\n",
       "        vertical-align: middle;\n",
       "    }\n",
       "\n",
       "    .dataframe tbody tr th {\n",
       "        vertical-align: top;\n",
       "    }\n",
       "\n",
       "    .dataframe thead th {\n",
       "        text-align: right;\n",
       "    }\n",
       "</style>\n",
       "<table border=\"1\" class=\"dataframe\">\n",
       "  <thead>\n",
       "    <tr style=\"text-align: right;\">\n",
       "      <th></th>\n",
       "      <th>Accession Number</th>\n",
       "      <th>Mutation AA</th>\n",
       "      <th>index</th>\n",
       "    </tr>\n",
       "  </thead>\n",
       "  <tbody>\n",
       "    <tr>\n",
       "      <th>0</th>\n",
       "      <td>ENST00000354590.7</td>\n",
       "      <td>p.S315Y</td>\n",
       "      <td>0</td>\n",
       "    </tr>\n",
       "    <tr>\n",
       "      <th>3</th>\n",
       "      <td>ENST00000354590.7</td>\n",
       "      <td>p.A106V</td>\n",
       "      <td>3</td>\n",
       "    </tr>\n",
       "    <tr>\n",
       "      <th>4</th>\n",
       "      <td>ENST00000354590.7</td>\n",
       "      <td>p.T363P</td>\n",
       "      <td>4</td>\n",
       "    </tr>\n",
       "    <tr>\n",
       "      <th>10</th>\n",
       "      <td>ENST00000539214.5</td>\n",
       "      <td>p.P268S</td>\n",
       "      <td>10</td>\n",
       "    </tr>\n",
       "    <tr>\n",
       "      <th>11</th>\n",
       "      <td>ENST00000539214.5</td>\n",
       "      <td>p.W40C</td>\n",
       "      <td>11</td>\n",
       "    </tr>\n",
       "    <tr>\n",
       "      <th>...</th>\n",
       "      <td>...</td>\n",
       "      <td>...</td>\n",
       "      <td>...</td>\n",
       "    </tr>\n",
       "    <tr>\n",
       "      <th>46212358</th>\n",
       "      <td>ENST00000642797.1</td>\n",
       "      <td>p.D501E</td>\n",
       "      <td>46212358</td>\n",
       "    </tr>\n",
       "    <tr>\n",
       "      <th>46212365</th>\n",
       "      <td>ENST00000646465.1</td>\n",
       "      <td>p.H1486Q</td>\n",
       "      <td>46212365</td>\n",
       "    </tr>\n",
       "    <tr>\n",
       "      <th>46212372</th>\n",
       "      <td>ENST00000321919.13</td>\n",
       "      <td>p.L287I</td>\n",
       "      <td>46212372</td>\n",
       "    </tr>\n",
       "    <tr>\n",
       "      <th>46212375</th>\n",
       "      <td>ENST00000506092.6</td>\n",
       "      <td>p.P1016L</td>\n",
       "      <td>46212375</td>\n",
       "    </tr>\n",
       "    <tr>\n",
       "      <th>46212378</th>\n",
       "      <td>ENST00000280800.4</td>\n",
       "      <td>p.G205E</td>\n",
       "      <td>46212378</td>\n",
       "    </tr>\n",
       "  </tbody>\n",
       "</table>\n",
       "<p>10378441 rows × 3 columns</p>\n",
       "</div>"
      ],
      "text/plain": [
       "            Accession Number Mutation AA     index\n",
       "0          ENST00000354590.7     p.S315Y         0\n",
       "3          ENST00000354590.7     p.A106V         3\n",
       "4          ENST00000354590.7     p.T363P         4\n",
       "10         ENST00000539214.5     p.P268S        10\n",
       "11         ENST00000539214.5      p.W40C        11\n",
       "...                      ...         ...       ...\n",
       "46212358   ENST00000642797.1     p.D501E  46212358\n",
       "46212365   ENST00000646465.1    p.H1486Q  46212365\n",
       "46212372  ENST00000321919.13     p.L287I  46212372\n",
       "46212375   ENST00000506092.6    p.P1016L  46212375\n",
       "46212378   ENST00000280800.4     p.G205E  46212378\n",
       "\n",
       "[10378441 rows x 3 columns]"
      ]
     },
     "execution_count": 7,
     "metadata": {},
     "output_type": "execute_result"
    }
   ],
   "source": [
    "df_Cosmic"
   ]
  },
  {
   "cell_type": "markdown",
   "metadata": {
    "id": "b_q2qPyouFVl"
   },
   "source": [
    "# Add Uniprot ID to cosmic"
   ]
  },
  {
   "cell_type": "code",
   "execution_count": 8,
   "metadata": {
    "executionInfo": {
     "elapsed": 441,
     "status": "ok",
     "timestamp": 1646671247792,
     "user": {
      "displayName": "Carlos P.",
      "photoUrl": "https://lh3.googleusercontent.com/a/default-user=s64",
      "userId": "00408569081660207744"
     },
     "user_tz": -60
    },
    "id": "1yPFDGUhuMqj"
   },
   "outputs": [],
   "source": [
    "mappit = pd.read_csv('ID_mapping.txt', sep='\\t', header=0, usecols=[2,3,4,])\n",
    "# Mapping data from BioMart."
   ]
  },
  {
   "cell_type": "code",
   "execution_count": 9,
   "metadata": {
    "colab": {
     "base_uri": "https://localhost:8080/",
     "height": 0
    },
    "executionInfo": {
     "elapsed": 17,
     "status": "ok",
     "timestamp": 1646671247794,
     "user": {
      "displayName": "Carlos P.",
      "photoUrl": "https://lh3.googleusercontent.com/a/default-user=s64",
      "userId": "00408569081660207744"
     },
     "user_tz": -60
    },
    "id": "3XdpXFrbuvd9",
    "outputId": "ddec9af2-6bf5-4004-ebf4-0777bf45cdd3"
   },
   "outputs": [
    {
     "data": {
      "text/html": [
       "<div>\n",
       "<style scoped>\n",
       "    .dataframe tbody tr th:only-of-type {\n",
       "        vertical-align: middle;\n",
       "    }\n",
       "\n",
       "    .dataframe tbody tr th {\n",
       "        vertical-align: top;\n",
       "    }\n",
       "\n",
       "    .dataframe thead th {\n",
       "        text-align: right;\n",
       "    }\n",
       "</style>\n",
       "<table border=\"1\" class=\"dataframe\">\n",
       "  <thead>\n",
       "    <tr style=\"text-align: right;\">\n",
       "      <th></th>\n",
       "      <th>UniProtKB isoform ID</th>\n",
       "      <th>UniProtKB/Swiss-Prot ID</th>\n",
       "      <th>Transcript stable ID version</th>\n",
       "    </tr>\n",
       "  </thead>\n",
       "  <tbody>\n",
       "    <tr>\n",
       "      <th>0</th>\n",
       "      <td>NaN</td>\n",
       "      <td>P03886</td>\n",
       "      <td>ENST00000361390.2</td>\n",
       "    </tr>\n",
       "    <tr>\n",
       "      <th>1</th>\n",
       "      <td>NaN</td>\n",
       "      <td>P03891</td>\n",
       "      <td>ENST00000361453.3</td>\n",
       "    </tr>\n",
       "    <tr>\n",
       "      <th>2</th>\n",
       "      <td>NaN</td>\n",
       "      <td>P00395</td>\n",
       "      <td>ENST00000361624.2</td>\n",
       "    </tr>\n",
       "    <tr>\n",
       "      <th>3</th>\n",
       "      <td>NaN</td>\n",
       "      <td>P00403</td>\n",
       "      <td>ENST00000361739.1</td>\n",
       "    </tr>\n",
       "    <tr>\n",
       "      <th>4</th>\n",
       "      <td>NaN</td>\n",
       "      <td>P03928</td>\n",
       "      <td>ENST00000361851.1</td>\n",
       "    </tr>\n",
       "  </tbody>\n",
       "</table>\n",
       "</div>"
      ],
      "text/plain": [
       "  UniProtKB isoform ID UniProtKB/Swiss-Prot ID Transcript stable ID version\n",
       "0                  NaN                  P03886            ENST00000361390.2\n",
       "1                  NaN                  P03891            ENST00000361453.3\n",
       "2                  NaN                  P00395            ENST00000361624.2\n",
       "3                  NaN                  P00403            ENST00000361739.1\n",
       "4                  NaN                  P03928            ENST00000361851.1"
      ]
     },
     "execution_count": 9,
     "metadata": {},
     "output_type": "execute_result"
    }
   ],
   "source": [
    "mappit.head(5)"
   ]
  },
  {
   "cell_type": "code",
   "execution_count": 10,
   "metadata": {
    "colab": {
     "base_uri": "https://localhost:8080/"
    },
    "executionInfo": {
     "elapsed": 15,
     "status": "ok",
     "timestamp": 1646671247795,
     "user": {
      "displayName": "Carlos P.",
      "photoUrl": "https://lh3.googleusercontent.com/a/default-user=s64",
      "userId": "00408569081660207744"
     },
     "user_tz": -60
    },
    "id": "wNh1CuteuMqk",
    "outputId": "4fe06a5d-33dc-4774-ebf8-0074ccc513bc"
   },
   "outputs": [
    {
     "data": {
      "text/plain": [
       "(116677, 3)"
      ]
     },
     "execution_count": 10,
     "metadata": {},
     "output_type": "execute_result"
    }
   ],
   "source": [
    "mappit.shape\n",
    "# (116677, 6)"
   ]
  },
  {
   "cell_type": "code",
   "execution_count": 11,
   "metadata": {
    "executionInfo": {
     "elapsed": 15,
     "status": "ok",
     "timestamp": 1646671247796,
     "user": {
      "displayName": "Carlos P.",
      "photoUrl": "https://lh3.googleusercontent.com/a/default-user=s64",
      "userId": "00408569081660207744"
     },
     "user_tz": -60
    },
    "id": "YOpCmPpZuMqk"
   },
   "outputs": [],
   "source": [
    "# Take only the entries with no alternative isoforms- so only \n",
    "# keep cannonical versions of the prot.\n",
    "# mappit = mappit[mappit['UniProtKB isoform ID'].isnull()]"
   ]
  },
  {
   "cell_type": "code",
   "execution_count": 12,
   "metadata": {
    "executionInfo": {
     "elapsed": 15,
     "status": "ok",
     "timestamp": 1646671247797,
     "user": {
      "displayName": "Carlos P.",
      "photoUrl": "https://lh3.googleusercontent.com/a/default-user=s64",
      "userId": "00408569081660207744"
     },
     "user_tz": -60
    },
    "id": "gcZXxiasuMqk"
   },
   "outputs": [],
   "source": [
    "# mappit.shape\n",
    "# (83632, 6)"
   ]
  },
  {
   "cell_type": "code",
   "execution_count": 13,
   "metadata": {
    "executionInfo": {
     "elapsed": 16,
     "status": "ok",
     "timestamp": 1646671247798,
     "user": {
      "displayName": "Carlos P.",
      "photoUrl": "https://lh3.googleusercontent.com/a/default-user=s64",
      "userId": "00408569081660207744"
     },
     "user_tz": -60
    },
    "id": "v8nTmvIauMql"
   },
   "outputs": [],
   "source": [
    "# Keep only transcripts that correspond to Unique protein IDs- bear in mind more than \n",
    "# one transcript might encode for the same prot (think silent mutations...)\n",
    "mappit.dropna(axis = 0, subset = ['UniProtKB/Swiss-Prot ID'], inplace = True)"
   ]
  },
  {
   "cell_type": "code",
   "execution_count": 14,
   "metadata": {
    "colab": {
     "base_uri": "https://localhost:8080/"
    },
    "executionInfo": {
     "elapsed": 16,
     "status": "ok",
     "timestamp": 1646671247799,
     "user": {
      "displayName": "Carlos P.",
      "photoUrl": "https://lh3.googleusercontent.com/a/default-user=s64",
      "userId": "00408569081660207744"
     },
     "user_tz": -60
    },
    "id": "6weyI6PEuMql",
    "outputId": "e17f0a15-ab29-4c3c-fc73-166ce5eab913"
   },
   "outputs": [
    {
     "data": {
      "text/plain": [
       "(47478, 3)"
      ]
     },
     "execution_count": 14,
     "metadata": {},
     "output_type": "execute_result"
    }
   ],
   "source": [
    "mappit.shape\n",
    "# (14,433,  6)\n",
    "# (47,478,  3) Using non canonical."
   ]
  },
  {
   "cell_type": "code",
   "execution_count": 15,
   "metadata": {
    "executionInfo": {
     "elapsed": 265,
     "status": "ok",
     "timestamp": 1646671248049,
     "user": {
      "displayName": "Carlos P.",
      "photoUrl": "https://lh3.googleusercontent.com/a/default-user=s64",
      "userId": "00408569081660207744"
     },
     "user_tz": -60
    },
    "id": "G1nw0Y5QuMql"
   },
   "outputs": [],
   "source": [
    "mappit = mappit.rename(columns={'Transcript stable ID version': 'trans_version'})\n",
    "df_Cosmic = df_Cosmic.rename(columns={'Accession Number': 'trans_version'})\n",
    "# Homogenize column name to use for merging both df's on it."
   ]
  },
  {
   "cell_type": "code",
   "execution_count": 16,
   "metadata": {
    "executionInfo": {
     "elapsed": 14868,
     "status": "ok",
     "timestamp": 1646671262911,
     "user": {
      "displayName": "Carlos P.",
      "photoUrl": "https://lh3.googleusercontent.com/a/default-user=s64",
      "userId": "00408569081660207744"
     },
     "user_tz": -60
    },
    "id": "0lsrvTGwuMqm"
   },
   "outputs": [],
   "source": [
    "df_Cosmic = df_Cosmic.merge(mappit, how='inner', on='trans_version', validate='m:m' )\n",
    "# New, merged df."
   ]
  },
  {
   "cell_type": "markdown",
   "metadata": {
    "id": "VbE0ASlPr46G"
   },
   "source": [
    "# Load res phspsites and join/clean"
   ]
  },
  {
   "cell_type": "code",
   "execution_count": 17,
   "metadata": {
    "colab": {
     "base_uri": "https://localhost:8080/"
    },
    "executionInfo": {
     "elapsed": 3117,
     "status": "ok",
     "timestamp": 1646671266013,
     "user": {
      "displayName": "Carlos P.",
      "photoUrl": "https://lh3.googleusercontent.com/a/default-user=s64",
      "userId": "00408569081660207744"
     },
     "user_tz": -60
    },
    "id": "EEK09yYkrHpO",
    "outputId": "ffab4d38-1e0f-4547-c3f9-26a142e531cf"
   },
   "outputs": [
    {
     "name": "stderr",
     "output_type": "stream",
     "text": [
      "C:\\Users\\Basit\\Anaconda3\\lib\\site-packages\\IPython\\core\\interactiveshell.py:3146: DtypeWarning: Columns (8) have mixed types.Specify dtype option on import or set low_memory=False.\n",
      "  has_raised = await self.run_ast_nodes(code_ast.body, cell_name,\n"
     ]
    }
   ],
   "source": [
    "phosphodata = pd.read_csv('resolution filtered pdb pfam mapped phosphodata.csv')"
   ]
  },
  {
   "cell_type": "code",
   "execution_count": 18,
   "metadata": {
    "colab": {
     "base_uri": "https://localhost:8080/"
    },
    "executionInfo": {
     "elapsed": 20,
     "status": "ok",
     "timestamp": 1646671266013,
     "user": {
      "displayName": "Carlos P.",
      "photoUrl": "https://lh3.googleusercontent.com/a/default-user=s64",
      "userId": "00408569081660207744"
     },
     "user_tz": -60
    },
    "id": "RaotqryI6wtw",
    "outputId": "7f065a5c-0ac9-4936-889b-e819549f6f72"
   },
   "outputs": [
    {
     "name": "stdout",
     "output_type": "stream",
     "text": [
      "Index(['UP_POS', 'Modification_name', 'PFAM_NAME', 'PDB ID', 'uniprot_acc',\n",
      "       'pfamA_acc', 'seq_start', 'seq_end', 'Resolution (Å)', 'Domain size'],\n",
      "      dtype='object') Index(['trans_version', 'Mutation AA', 'index', 'UniProtKB isoform ID',\n",
      "       'UniProtKB/Swiss-Prot ID'],\n",
      "      dtype='object')\n"
     ]
    }
   ],
   "source": [
    "print(phosphodata.columns, df_Cosmic.columns)"
   ]
  },
  {
   "cell_type": "code",
   "execution_count": 19,
   "metadata": {
    "colab": {
     "base_uri": "https://localhost:8080/"
    },
    "executionInfo": {
     "elapsed": 17,
     "status": "ok",
     "timestamp": 1646671266014,
     "user": {
      "displayName": "Carlos P.",
      "photoUrl": "https://lh3.googleusercontent.com/a/default-user=s64",
      "userId": "00408569081660207744"
     },
     "user_tz": -60
    },
    "id": "46P0u3hj7gbH",
    "outputId": "f85dfcf3-958c-44ff-9a9e-f605c316b68e"
   },
   "outputs": [
    {
     "name": "stdout",
     "output_type": "stream",
     "text": [
      "(3010568, 10) (4504491, 5)\n"
     ]
    }
   ],
   "source": [
    "print(phosphodata.shape, df_Cosmic.shape)"
   ]
  },
  {
   "cell_type": "code",
   "execution_count": 20,
   "metadata": {},
   "outputs": [
    {
     "data": {
      "text/html": [
       "<div>\n",
       "<style scoped>\n",
       "    .dataframe tbody tr th:only-of-type {\n",
       "        vertical-align: middle;\n",
       "    }\n",
       "\n",
       "    .dataframe tbody tr th {\n",
       "        vertical-align: top;\n",
       "    }\n",
       "\n",
       "    .dataframe thead th {\n",
       "        text-align: right;\n",
       "    }\n",
       "</style>\n",
       "<table border=\"1\" class=\"dataframe\">\n",
       "  <thead>\n",
       "    <tr style=\"text-align: right;\">\n",
       "      <th></th>\n",
       "      <th>trans_version</th>\n",
       "      <th>Mutation AA</th>\n",
       "      <th>index</th>\n",
       "      <th>UniProtKB isoform ID</th>\n",
       "      <th>UniProtKB/Swiss-Prot ID</th>\n",
       "    </tr>\n",
       "  </thead>\n",
       "  <tbody>\n",
       "    <tr>\n",
       "      <th>0</th>\n",
       "      <td>ENST00000354590.7</td>\n",
       "      <td>p.S315Y</td>\n",
       "      <td>0</td>\n",
       "      <td>NaN</td>\n",
       "      <td>Q96K62</td>\n",
       "    </tr>\n",
       "    <tr>\n",
       "      <th>1</th>\n",
       "      <td>ENST00000354590.7</td>\n",
       "      <td>p.A106V</td>\n",
       "      <td>3</td>\n",
       "      <td>NaN</td>\n",
       "      <td>Q96K62</td>\n",
       "    </tr>\n",
       "    <tr>\n",
       "      <th>2</th>\n",
       "      <td>ENST00000354590.7</td>\n",
       "      <td>p.T363P</td>\n",
       "      <td>4</td>\n",
       "      <td>NaN</td>\n",
       "      <td>Q96K62</td>\n",
       "    </tr>\n",
       "    <tr>\n",
       "      <th>3</th>\n",
       "      <td>ENST00000354590.7</td>\n",
       "      <td>p.R70S</td>\n",
       "      <td>42</td>\n",
       "      <td>NaN</td>\n",
       "      <td>Q96K62</td>\n",
       "    </tr>\n",
       "    <tr>\n",
       "      <th>4</th>\n",
       "      <td>ENST00000354590.7</td>\n",
       "      <td>p.E254K</td>\n",
       "      <td>43</td>\n",
       "      <td>NaN</td>\n",
       "      <td>Q96K62</td>\n",
       "    </tr>\n",
       "    <tr>\n",
       "      <th>...</th>\n",
       "      <td>...</td>\n",
       "      <td>...</td>\n",
       "      <td>...</td>\n",
       "      <td>...</td>\n",
       "      <td>...</td>\n",
       "    </tr>\n",
       "    <tr>\n",
       "      <th>4504486</th>\n",
       "      <td>ENST00000637303.1</td>\n",
       "      <td>p.M79I</td>\n",
       "      <td>40240094</td>\n",
       "      <td>NaN</td>\n",
       "      <td>A0A1B0GUC4</td>\n",
       "    </tr>\n",
       "    <tr>\n",
       "      <th>4504487</th>\n",
       "      <td>ENST00000380742.8</td>\n",
       "      <td>p.Q252K</td>\n",
       "      <td>39816614</td>\n",
       "      <td>Q16637-2</td>\n",
       "      <td>Q16637</td>\n",
       "    </tr>\n",
       "    <tr>\n",
       "      <th>4504488</th>\n",
       "      <td>ENST00000518075.1</td>\n",
       "      <td>p.K7N</td>\n",
       "      <td>43356033</td>\n",
       "      <td>Q9HD64-2</td>\n",
       "      <td>Q9HD64</td>\n",
       "    </tr>\n",
       "    <tr>\n",
       "      <th>4504489</th>\n",
       "      <td>ENST00000382287.5</td>\n",
       "      <td>p.T3M</td>\n",
       "      <td>43933298</td>\n",
       "      <td>NaN</td>\n",
       "      <td>O14599</td>\n",
       "    </tr>\n",
       "    <tr>\n",
       "      <th>4504490</th>\n",
       "      <td>ENST00000415858.3</td>\n",
       "      <td>p.E227D</td>\n",
       "      <td>45313484</td>\n",
       "      <td>NaN</td>\n",
       "      <td>Q5JQC4</td>\n",
       "    </tr>\n",
       "  </tbody>\n",
       "</table>\n",
       "<p>4504491 rows × 5 columns</p>\n",
       "</div>"
      ],
      "text/plain": [
       "             trans_version Mutation AA     index UniProtKB isoform ID  \\\n",
       "0        ENST00000354590.7     p.S315Y         0                  NaN   \n",
       "1        ENST00000354590.7     p.A106V         3                  NaN   \n",
       "2        ENST00000354590.7     p.T363P         4                  NaN   \n",
       "3        ENST00000354590.7      p.R70S        42                  NaN   \n",
       "4        ENST00000354590.7     p.E254K        43                  NaN   \n",
       "...                    ...         ...       ...                  ...   \n",
       "4504486  ENST00000637303.1      p.M79I  40240094                  NaN   \n",
       "4504487  ENST00000380742.8     p.Q252K  39816614             Q16637-2   \n",
       "4504488  ENST00000518075.1       p.K7N  43356033             Q9HD64-2   \n",
       "4504489  ENST00000382287.5       p.T3M  43933298                  NaN   \n",
       "4504490  ENST00000415858.3     p.E227D  45313484                  NaN   \n",
       "\n",
       "        UniProtKB/Swiss-Prot ID  \n",
       "0                        Q96K62  \n",
       "1                        Q96K62  \n",
       "2                        Q96K62  \n",
       "3                        Q96K62  \n",
       "4                        Q96K62  \n",
       "...                         ...  \n",
       "4504486              A0A1B0GUC4  \n",
       "4504487                  Q16637  \n",
       "4504488                  Q9HD64  \n",
       "4504489                  O14599  \n",
       "4504490                  Q5JQC4  \n",
       "\n",
       "[4504491 rows x 5 columns]"
      ]
     },
     "execution_count": 20,
     "metadata": {},
     "output_type": "execute_result"
    }
   ],
   "source": [
    "df_Cosmic"
   ]
  },
  {
   "cell_type": "code",
   "execution_count": 24,
   "metadata": {},
   "outputs": [
    {
     "data": {
      "text/html": [
       "<div>\n",
       "<style scoped>\n",
       "    .dataframe tbody tr th:only-of-type {\n",
       "        vertical-align: middle;\n",
       "    }\n",
       "\n",
       "    .dataframe tbody tr th {\n",
       "        vertical-align: top;\n",
       "    }\n",
       "\n",
       "    .dataframe thead th {\n",
       "        text-align: right;\n",
       "    }\n",
       "</style>\n",
       "<table border=\"1\" class=\"dataframe\">\n",
       "  <thead>\n",
       "    <tr style=\"text-align: right;\">\n",
       "      <th></th>\n",
       "      <th>UP_POS</th>\n",
       "      <th>Modification_name</th>\n",
       "      <th>PFAM_NAME</th>\n",
       "      <th>PDB ID</th>\n",
       "      <th>uniprot_acc</th>\n",
       "      <th>pfamA_acc</th>\n",
       "      <th>seq_start</th>\n",
       "      <th>seq_end</th>\n",
       "      <th>Resolution (Å)</th>\n",
       "      <th>Domain size</th>\n",
       "    </tr>\n",
       "  </thead>\n",
       "  <tbody>\n",
       "    <tr>\n",
       "      <th>0</th>\n",
       "      <td>39</td>\n",
       "      <td>PhosphoS</td>\n",
       "      <td>14-3-3</td>\n",
       "      <td>2bq0</td>\n",
       "      <td>P31946</td>\n",
       "      <td>PF00244</td>\n",
       "      <td>11</td>\n",
       "      <td>231</td>\n",
       "      <td>2.5</td>\n",
       "      <td>220</td>\n",
       "    </tr>\n",
       "    <tr>\n",
       "      <th>1</th>\n",
       "      <td>39</td>\n",
       "      <td>PhosphoS</td>\n",
       "      <td>14-3-3</td>\n",
       "      <td>2bq0</td>\n",
       "      <td>P31946</td>\n",
       "      <td>PF00244</td>\n",
       "      <td>11</td>\n",
       "      <td>231</td>\n",
       "      <td>2.5</td>\n",
       "      <td>220</td>\n",
       "    </tr>\n",
       "    <tr>\n",
       "      <th>2</th>\n",
       "      <td>39</td>\n",
       "      <td>PhosphoS</td>\n",
       "      <td>14-3-3</td>\n",
       "      <td>2c23</td>\n",
       "      <td>P31946</td>\n",
       "      <td>PF00244</td>\n",
       "      <td>11</td>\n",
       "      <td>231</td>\n",
       "      <td>2.65</td>\n",
       "      <td>220</td>\n",
       "    </tr>\n",
       "    <tr>\n",
       "      <th>3</th>\n",
       "      <td>39</td>\n",
       "      <td>PhosphoS</td>\n",
       "      <td>14-3-3</td>\n",
       "      <td>4dnk</td>\n",
       "      <td>P31946</td>\n",
       "      <td>PF00244</td>\n",
       "      <td>11</td>\n",
       "      <td>231</td>\n",
       "      <td>2.2</td>\n",
       "      <td>220</td>\n",
       "    </tr>\n",
       "    <tr>\n",
       "      <th>4</th>\n",
       "      <td>39</td>\n",
       "      <td>PhosphoS</td>\n",
       "      <td>14-3-3</td>\n",
       "      <td>4dnk</td>\n",
       "      <td>P31946</td>\n",
       "      <td>PF00244</td>\n",
       "      <td>11</td>\n",
       "      <td>231</td>\n",
       "      <td>2.2</td>\n",
       "      <td>220</td>\n",
       "    </tr>\n",
       "    <tr>\n",
       "      <th>...</th>\n",
       "      <td>...</td>\n",
       "      <td>...</td>\n",
       "      <td>...</td>\n",
       "      <td>...</td>\n",
       "      <td>...</td>\n",
       "      <td>...</td>\n",
       "      <td>...</td>\n",
       "      <td>...</td>\n",
       "      <td>...</td>\n",
       "      <td>...</td>\n",
       "    </tr>\n",
       "    <tr>\n",
       "      <th>3010563</th>\n",
       "      <td>135</td>\n",
       "      <td>PhosphoS</td>\n",
       "      <td>Myb_DNA-binding</td>\n",
       "      <td>2yum</td>\n",
       "      <td>Q8IYH5</td>\n",
       "      <td>PF00249</td>\n",
       "      <td>652</td>\n",
       "      <td>703</td>\n",
       "      <td>NaN</td>\n",
       "      <td>51</td>\n",
       "    </tr>\n",
       "    <tr>\n",
       "      <th>3010564</th>\n",
       "      <td>260</td>\n",
       "      <td>PhosphoS</td>\n",
       "      <td>Myb_DNA-binding</td>\n",
       "      <td>2yum</td>\n",
       "      <td>Q8IYH5</td>\n",
       "      <td>PF00249</td>\n",
       "      <td>652</td>\n",
       "      <td>703</td>\n",
       "      <td>NaN</td>\n",
       "      <td>51</td>\n",
       "    </tr>\n",
       "    <tr>\n",
       "      <th>3010565</th>\n",
       "      <td>391</td>\n",
       "      <td>PhosphoS</td>\n",
       "      <td>Myb_DNA-binding</td>\n",
       "      <td>2yum</td>\n",
       "      <td>Q8IYH5</td>\n",
       "      <td>PF00249</td>\n",
       "      <td>652</td>\n",
       "      <td>703</td>\n",
       "      <td>NaN</td>\n",
       "      <td>51</td>\n",
       "    </tr>\n",
       "    <tr>\n",
       "      <th>3010566</th>\n",
       "      <td>606</td>\n",
       "      <td>PhosphoS</td>\n",
       "      <td>Myb_DNA-binding</td>\n",
       "      <td>2yum</td>\n",
       "      <td>Q8IYH5</td>\n",
       "      <td>PF00249</td>\n",
       "      <td>652</td>\n",
       "      <td>703</td>\n",
       "      <td>NaN</td>\n",
       "      <td>51</td>\n",
       "    </tr>\n",
       "    <tr>\n",
       "      <th>3010567</th>\n",
       "      <td>717</td>\n",
       "      <td>PhosphoT</td>\n",
       "      <td>Myb_DNA-binding</td>\n",
       "      <td>2yum</td>\n",
       "      <td>Q8IYH5</td>\n",
       "      <td>PF00249</td>\n",
       "      <td>652</td>\n",
       "      <td>703</td>\n",
       "      <td>NaN</td>\n",
       "      <td>51</td>\n",
       "    </tr>\n",
       "  </tbody>\n",
       "</table>\n",
       "<p>3010568 rows × 10 columns</p>\n",
       "</div>"
      ],
      "text/plain": [
       "         UP_POS Modification_name        PFAM_NAME PDB ID uniprot_acc  \\\n",
       "0            39          PhosphoS           14-3-3   2bq0      P31946   \n",
       "1            39          PhosphoS           14-3-3   2bq0      P31946   \n",
       "2            39          PhosphoS           14-3-3   2c23      P31946   \n",
       "3            39          PhosphoS           14-3-3   4dnk      P31946   \n",
       "4            39          PhosphoS           14-3-3   4dnk      P31946   \n",
       "...         ...               ...              ...    ...         ...   \n",
       "3010563     135          PhosphoS  Myb_DNA-binding   2yum      Q8IYH5   \n",
       "3010564     260          PhosphoS  Myb_DNA-binding   2yum      Q8IYH5   \n",
       "3010565     391          PhosphoS  Myb_DNA-binding   2yum      Q8IYH5   \n",
       "3010566     606          PhosphoS  Myb_DNA-binding   2yum      Q8IYH5   \n",
       "3010567     717          PhosphoT  Myb_DNA-binding   2yum      Q8IYH5   \n",
       "\n",
       "        pfamA_acc  seq_start  seq_end Resolution (Å)  Domain size  \n",
       "0         PF00244         11      231            2.5          220  \n",
       "1         PF00244         11      231            2.5          220  \n",
       "2         PF00244         11      231           2.65          220  \n",
       "3         PF00244         11      231            2.2          220  \n",
       "4         PF00244         11      231            2.2          220  \n",
       "...           ...        ...      ...            ...          ...  \n",
       "3010563   PF00249        652      703            NaN           51  \n",
       "3010564   PF00249        652      703            NaN           51  \n",
       "3010565   PF00249        652      703            NaN           51  \n",
       "3010566   PF00249        652      703            NaN           51  \n",
       "3010567   PF00249        652      703            NaN           51  \n",
       "\n",
       "[3010568 rows x 10 columns]"
      ]
     },
     "execution_count": 24,
     "metadata": {},
     "output_type": "execute_result"
    }
   ],
   "source": [
    "phosphodata"
   ]
  },
  {
   "cell_type": "code",
   "execution_count": 21,
   "metadata": {
    "executionInfo": {
     "elapsed": 16,
     "status": "ok",
     "timestamp": 1646671266015,
     "user": {
      "displayName": "Carlos P.",
      "photoUrl": "https://lh3.googleusercontent.com/a/default-user=s64",
      "userId": "00408569081660207744"
     },
     "user_tz": -60
    },
    "id": "Cboor6fS70mQ"
   },
   "outputs": [],
   "source": [
    "# def to_int(x):\n",
    "#     try:\n",
    "#         return int(x[3:-1])\n",
    "#     except:\n",
    "#         return(int(x[4:-1]))\n",
    "\n",
    "def to_int(x):\n",
    "  return int(x[3:-1])"
   ]
  },
  {
   "cell_type": "code",
   "execution_count": 22,
   "metadata": {
    "executionInfo": {
     "elapsed": 4649,
     "status": "ok",
     "timestamp": 1646671270648,
     "user": {
      "displayName": "Carlos P.",
      "photoUrl": "https://lh3.googleusercontent.com/a/default-user=s64",
      "userId": "00408569081660207744"
     },
     "user_tz": -60
    },
    "id": "wDXjlFhe8mDs"
   },
   "outputs": [],
   "source": [
    "def format_selenocysteine(x):\n",
    "    if x[2:5] != ('Sec'):\n",
    "        return x\n",
    "    elif x[2:5] == ('Sec'):\n",
    "        return x.replace(x[2:5] , 'U')\n",
    "\n",
    "df_Cosmic['Mutation AA'] = df_Cosmic['Mutation AA'].apply(format_selenocysteine)"
   ]
  },
  {
   "cell_type": "code",
   "execution_count": null,
   "metadata": {},
   "outputs": [],
   "source": []
  },
  {
   "cell_type": "code",
   "execution_count": 27,
   "metadata": {},
   "outputs": [
    {
     "name": "stdout",
     "output_type": "stream",
     "text": [
      "0\n",
      "20\n",
      "40\n",
      "60\n",
      "80\n",
      "100\n",
      "120\n",
      "140\n",
      "160\n",
      "180\n",
      "200\n",
      "220\n",
      "240\n",
      "260\n",
      "280\n",
      "300\n",
      "320\n",
      "340\n",
      "360\n",
      "380\n",
      "400\n",
      "420\n",
      "440\n",
      "460\n",
      "480\n",
      "500\n",
      "520\n",
      "540\n",
      "560\n",
      "580\n",
      "600\n",
      "620\n",
      "640\n",
      "660\n",
      "680\n",
      "700\n",
      "720\n",
      "740\n",
      "760\n",
      "780\n",
      "800\n",
      "820\n",
      "840\n",
      "860\n",
      "880\n",
      "900\n",
      "920\n",
      "940\n",
      "960\n",
      "980\n",
      "1000\n",
      "1020\n",
      "1040\n",
      "1060\n",
      "1080\n",
      "1100\n",
      "1120\n",
      "1140\n",
      "1160\n",
      "1180\n",
      "1200\n",
      "1220\n",
      "1240\n",
      "1260\n",
      "1280\n",
      "1300\n",
      "1320\n",
      "1340\n",
      "1360\n",
      "1380\n",
      "1400\n",
      "1420\n",
      "1440\n",
      "1460\n",
      "1480\n",
      "1500\n",
      "1520\n",
      "1540\n",
      "1560\n",
      "1580\n",
      "1600\n",
      "1620\n",
      "1640\n",
      "1660\n",
      "1680\n",
      "1700\n",
      "1720\n",
      "1740\n",
      "1760\n",
      "1780\n",
      "1800\n",
      "1820\n",
      "1840\n",
      "1860\n",
      "1880\n",
      "1900\n",
      "1920\n",
      "1940\n",
      "1960\n",
      "1980\n",
      "2000\n",
      "2020\n",
      "2040\n",
      "2060\n",
      "2080\n",
      "2100\n",
      "2120\n",
      "2140\n",
      "2160\n",
      "2180\n",
      "2200\n",
      "2220\n",
      "2240\n",
      "2260\n",
      "2280\n",
      "2300\n",
      "2320\n",
      "2340\n",
      "2360\n",
      "2380\n",
      "2400\n",
      "2420\n",
      "2440\n",
      "2460\n",
      "2480\n",
      "2500\n",
      "2520\n",
      "2540\n",
      "2560\n",
      "2580\n",
      "2600\n",
      "2620\n",
      "2640\n",
      "2660\n",
      "2680\n",
      "2700\n",
      "2720\n",
      "2740\n",
      "2760\n",
      "2780\n",
      "2800\n",
      "2820\n",
      "2840\n",
      "2860\n",
      "2880\n",
      "2900\n",
      "2920\n",
      "2940\n",
      "2960\n",
      "2980\n",
      "3000\n"
     ]
    }
   ],
   "source": [
    "def preprocess(pfam_phpsites):\n",
    "    \n",
    "    pfam_phpsites = pfam_phpsites.rename(columns={'uniprot_acc': 'Acc ID'})\n",
    "    df = df_Cosmic.merge(pfam_phpsites, how='inner', on='Acc ID', sort=False, indicator=False, copy=False, validate='m:m' )\n",
    "    df['Mutation AA_sliced'] = df['Mutation AA'].apply(lambda x: to_int(x))\n",
    "    df['Distance'] = df['UP_POS'] - df['Mutation AA_sliced']\n",
    "    df = df[df['Distance'] < 6]\n",
    "    df = df[df['Distance'] > -6]\n",
    "    df.to_csv(\"final.csv\", mode=\"a\", header=False, index=False)\n",
    "\n",
    "reader = pd.read_csv(\"resolution filtered pdb pfam mapped phosphodata.csv\", chunksize=1000)\n",
    "df_Cosmic = df_Cosmic.rename(columns={'UniProtKB/Swiss-Prot ID': 'Acc ID'})\n",
    "i = 0\n",
    "for r in reader:\n",
    "    if i%20==0:\n",
    "        print(i)\n",
    "    i += 1\n",
    "    preprocess(r) "
   ]
  },
  {
   "cell_type": "code",
   "execution_count": null,
   "metadata": {},
   "outputs": [],
   "source": []
  },
  {
   "cell_type": "code",
   "execution_count": null,
   "metadata": {},
   "outputs": [],
   "source": []
  },
  {
   "cell_type": "code",
   "execution_count": 58,
   "metadata": {
    "executionInfo": {
     "elapsed": 26,
     "status": "ok",
     "timestamp": 1646671270649,
     "user": {
      "displayName": "Carlos P.",
      "photoUrl": "https://lh3.googleusercontent.com/a/default-user=s64",
      "userId": "00408569081660207744"
     },
     "user_tz": -60
    },
    "id": "jUKnitGSeU7r"
   },
   "outputs": [],
   "source": [
    "#Mutation AA, ACC number\n",
    "#takes long time to run\n",
    "def domain_mapping(Cosmic,pfam_phpsites):\n",
    "    \n",
    "    Cosmic = Cosmic.rename(columns={'UniProtKB/Swiss-Prot ID': 'Acc ID'})\n",
    "    pfam_phpsites = pfam_phpsites.rename(columns={'uniprot_acc': 'Acc ID'})\n",
    "    \n",
    "    n = 100  #chunk row size\n",
    "    list_df = [Cosmic[i:i+n] for i in range(0,Cosmic.shape[0],n)]\n",
    "    for idx,df in enumerate(list_df):\n",
    "        df = df.merge(pfam_phpsites, how='inner', on='Acc ID', sort=False, indicator=False, copy=False, validate='m:m' )\n",
    "        df['Mutation AA_sliced'] = df['Mutation AA'].apply(lambda x: to_int(x))\n",
    "        df['Distance'] = df['UP_POS'] - df['Mutation AA_sliced']\n",
    "        df = df[df['Distance'] < 6]\n",
    "        df = df[df['Distance'] > -6]\n",
    "        list_df[idx] = df\n",
    "        \n",
    "    return pd.concat(list_df)"
   ]
  },
  {
   "cell_type": "code",
   "execution_count": 59,
   "metadata": {
    "id": "tCq88exPrHtj"
   },
   "outputs": [
    {
     "ename": "MemoryError",
     "evalue": "Unable to allocate 4.27 GiB for an array with shape (4, 143429040) and data type int64",
     "output_type": "error",
     "traceback": [
      "\u001b[1;31m---------------------------------------------------------------------------\u001b[0m",
      "\u001b[1;31mMemoryError\u001b[0m                               Traceback (most recent call last)",
      "\u001b[1;32m<ipython-input-59-43fd5b627ddd>\u001b[0m in \u001b[0;36m<module>\u001b[1;34m\u001b[0m\n\u001b[1;32m----> 1\u001b[1;33m \u001b[0mcosmic\u001b[0m \u001b[1;33m=\u001b[0m \u001b[0mdomain_mapping\u001b[0m\u001b[1;33m(\u001b[0m\u001b[0mdf_Cosmic\u001b[0m\u001b[1;33m,\u001b[0m\u001b[0mphosphodata\u001b[0m\u001b[1;33m)\u001b[0m\u001b[1;33m\u001b[0m\u001b[1;33m\u001b[0m\u001b[0m\n\u001b[0m",
      "\u001b[1;32m<ipython-input-58-62f8a99625b3>\u001b[0m in \u001b[0;36mdomain_mapping\u001b[1;34m(Cosmic, pfam_phpsites)\u001b[0m\n\u001b[0;32m      9\u001b[0m     \u001b[0mlist_df\u001b[0m \u001b[1;33m=\u001b[0m \u001b[1;33m[\u001b[0m\u001b[0mCosmic\u001b[0m\u001b[1;33m[\u001b[0m\u001b[0mi\u001b[0m\u001b[1;33m:\u001b[0m\u001b[0mi\u001b[0m\u001b[1;33m+\u001b[0m\u001b[0mn\u001b[0m\u001b[1;33m]\u001b[0m \u001b[1;32mfor\u001b[0m \u001b[0mi\u001b[0m \u001b[1;32min\u001b[0m \u001b[0mrange\u001b[0m\u001b[1;33m(\u001b[0m\u001b[1;36m0\u001b[0m\u001b[1;33m,\u001b[0m\u001b[0mCosmic\u001b[0m\u001b[1;33m.\u001b[0m\u001b[0mshape\u001b[0m\u001b[1;33m[\u001b[0m\u001b[1;36m0\u001b[0m\u001b[1;33m]\u001b[0m\u001b[1;33m,\u001b[0m\u001b[0mn\u001b[0m\u001b[1;33m)\u001b[0m\u001b[1;33m]\u001b[0m\u001b[1;33m\u001b[0m\u001b[1;33m\u001b[0m\u001b[0m\n\u001b[0;32m     10\u001b[0m     \u001b[1;32mfor\u001b[0m \u001b[0midx\u001b[0m\u001b[1;33m,\u001b[0m\u001b[0mdf\u001b[0m \u001b[1;32min\u001b[0m \u001b[0menumerate\u001b[0m\u001b[1;33m(\u001b[0m\u001b[0mlist_df\u001b[0m\u001b[1;33m)\u001b[0m\u001b[1;33m:\u001b[0m\u001b[1;33m\u001b[0m\u001b[1;33m\u001b[0m\u001b[0m\n\u001b[1;32m---> 11\u001b[1;33m         \u001b[0mdf\u001b[0m \u001b[1;33m=\u001b[0m \u001b[0mdf\u001b[0m\u001b[1;33m.\u001b[0m\u001b[0mmerge\u001b[0m\u001b[1;33m(\u001b[0m\u001b[0mpfam_phpsites\u001b[0m\u001b[1;33m,\u001b[0m \u001b[0mhow\u001b[0m\u001b[1;33m=\u001b[0m\u001b[1;34m'inner'\u001b[0m\u001b[1;33m,\u001b[0m \u001b[0mon\u001b[0m\u001b[1;33m=\u001b[0m\u001b[1;34m'Acc ID'\u001b[0m\u001b[1;33m,\u001b[0m \u001b[0msort\u001b[0m\u001b[1;33m=\u001b[0m\u001b[1;32mFalse\u001b[0m\u001b[1;33m,\u001b[0m \u001b[0mindicator\u001b[0m\u001b[1;33m=\u001b[0m\u001b[1;32mFalse\u001b[0m\u001b[1;33m,\u001b[0m \u001b[0mcopy\u001b[0m\u001b[1;33m=\u001b[0m\u001b[1;32mFalse\u001b[0m\u001b[1;33m,\u001b[0m \u001b[0mvalidate\u001b[0m\u001b[1;33m=\u001b[0m\u001b[1;34m'm:m'\u001b[0m \u001b[1;33m)\u001b[0m\u001b[1;33m\u001b[0m\u001b[1;33m\u001b[0m\u001b[0m\n\u001b[0m\u001b[0;32m     12\u001b[0m         \u001b[0mdf\u001b[0m\u001b[1;33m[\u001b[0m\u001b[1;34m'Mutation AA_sliced'\u001b[0m\u001b[1;33m]\u001b[0m \u001b[1;33m=\u001b[0m \u001b[0mdf\u001b[0m\u001b[1;33m[\u001b[0m\u001b[1;34m'Mutation AA'\u001b[0m\u001b[1;33m]\u001b[0m\u001b[1;33m.\u001b[0m\u001b[0mapply\u001b[0m\u001b[1;33m(\u001b[0m\u001b[1;32mlambda\u001b[0m \u001b[0mx\u001b[0m\u001b[1;33m:\u001b[0m \u001b[0mto_int\u001b[0m\u001b[1;33m(\u001b[0m\u001b[0mx\u001b[0m\u001b[1;33m)\u001b[0m\u001b[1;33m)\u001b[0m\u001b[1;33m\u001b[0m\u001b[1;33m\u001b[0m\u001b[0m\n\u001b[0;32m     13\u001b[0m         \u001b[0mdf\u001b[0m\u001b[1;33m[\u001b[0m\u001b[1;34m'Distance'\u001b[0m\u001b[1;33m]\u001b[0m \u001b[1;33m=\u001b[0m \u001b[0mdf\u001b[0m\u001b[1;33m[\u001b[0m\u001b[1;34m'UP_POS'\u001b[0m\u001b[1;33m]\u001b[0m \u001b[1;33m-\u001b[0m \u001b[0mdf\u001b[0m\u001b[1;33m[\u001b[0m\u001b[1;34m'Mutation AA_sliced'\u001b[0m\u001b[1;33m]\u001b[0m\u001b[1;33m\u001b[0m\u001b[1;33m\u001b[0m\u001b[0m\n",
      "\u001b[1;32m~\\Anaconda3\\lib\\site-packages\\pandas\\core\\frame.py\u001b[0m in \u001b[0;36mmerge\u001b[1;34m(self, right, how, on, left_on, right_on, left_index, right_index, sort, suffixes, copy, indicator, validate)\u001b[0m\n\u001b[0;32m   7944\u001b[0m         \u001b[1;32mfrom\u001b[0m \u001b[0mpandas\u001b[0m\u001b[1;33m.\u001b[0m\u001b[0mcore\u001b[0m\u001b[1;33m.\u001b[0m\u001b[0mreshape\u001b[0m\u001b[1;33m.\u001b[0m\u001b[0mmerge\u001b[0m \u001b[1;32mimport\u001b[0m \u001b[0mmerge\u001b[0m\u001b[1;33m\u001b[0m\u001b[1;33m\u001b[0m\u001b[0m\n\u001b[0;32m   7945\u001b[0m \u001b[1;33m\u001b[0m\u001b[0m\n\u001b[1;32m-> 7946\u001b[1;33m         return merge(\n\u001b[0m\u001b[0;32m   7947\u001b[0m             \u001b[0mself\u001b[0m\u001b[1;33m,\u001b[0m\u001b[1;33m\u001b[0m\u001b[1;33m\u001b[0m\u001b[0m\n\u001b[0;32m   7948\u001b[0m             \u001b[0mright\u001b[0m\u001b[1;33m,\u001b[0m\u001b[1;33m\u001b[0m\u001b[1;33m\u001b[0m\u001b[0m\n",
      "\u001b[1;32m~\\Anaconda3\\lib\\site-packages\\pandas\\core\\reshape\\merge.py\u001b[0m in \u001b[0;36mmerge\u001b[1;34m(left, right, how, on, left_on, right_on, left_index, right_index, sort, suffixes, copy, indicator, validate)\u001b[0m\n\u001b[0;32m     87\u001b[0m         \u001b[0mvalidate\u001b[0m\u001b[1;33m=\u001b[0m\u001b[0mvalidate\u001b[0m\u001b[1;33m,\u001b[0m\u001b[1;33m\u001b[0m\u001b[1;33m\u001b[0m\u001b[0m\n\u001b[0;32m     88\u001b[0m     )\n\u001b[1;32m---> 89\u001b[1;33m     \u001b[1;32mreturn\u001b[0m \u001b[0mop\u001b[0m\u001b[1;33m.\u001b[0m\u001b[0mget_result\u001b[0m\u001b[1;33m(\u001b[0m\u001b[1;33m)\u001b[0m\u001b[1;33m\u001b[0m\u001b[1;33m\u001b[0m\u001b[0m\n\u001b[0m\u001b[0;32m     90\u001b[0m \u001b[1;33m\u001b[0m\u001b[0m\n\u001b[0;32m     91\u001b[0m \u001b[1;33m\u001b[0m\u001b[0m\n",
      "\u001b[1;32m~\\Anaconda3\\lib\\site-packages\\pandas\\core\\reshape\\merge.py\u001b[0m in \u001b[0;36mget_result\u001b[1;34m(self)\u001b[0m\n\u001b[0;32m    675\u001b[0m         \u001b[0mrindexers\u001b[0m \u001b[1;33m=\u001b[0m \u001b[1;33m{\u001b[0m\u001b[1;36m1\u001b[0m\u001b[1;33m:\u001b[0m \u001b[0mright_indexer\u001b[0m\u001b[1;33m}\u001b[0m \u001b[1;32mif\u001b[0m \u001b[0mright_indexer\u001b[0m \u001b[1;32mis\u001b[0m \u001b[1;32mnot\u001b[0m \u001b[1;32mNone\u001b[0m \u001b[1;32melse\u001b[0m \u001b[1;33m{\u001b[0m\u001b[1;33m}\u001b[0m\u001b[1;33m\u001b[0m\u001b[1;33m\u001b[0m\u001b[0m\n\u001b[0;32m    676\u001b[0m \u001b[1;33m\u001b[0m\u001b[0m\n\u001b[1;32m--> 677\u001b[1;33m         result_data = concatenate_block_managers(\n\u001b[0m\u001b[0;32m    678\u001b[0m             \u001b[1;33m[\u001b[0m\u001b[1;33m(\u001b[0m\u001b[0mself\u001b[0m\u001b[1;33m.\u001b[0m\u001b[0mleft\u001b[0m\u001b[1;33m.\u001b[0m\u001b[0m_mgr\u001b[0m\u001b[1;33m,\u001b[0m \u001b[0mlindexers\u001b[0m\u001b[1;33m)\u001b[0m\u001b[1;33m,\u001b[0m \u001b[1;33m(\u001b[0m\u001b[0mself\u001b[0m\u001b[1;33m.\u001b[0m\u001b[0mright\u001b[0m\u001b[1;33m.\u001b[0m\u001b[0m_mgr\u001b[0m\u001b[1;33m,\u001b[0m \u001b[0mrindexers\u001b[0m\u001b[1;33m)\u001b[0m\u001b[1;33m]\u001b[0m\u001b[1;33m,\u001b[0m\u001b[1;33m\u001b[0m\u001b[1;33m\u001b[0m\u001b[0m\n\u001b[0;32m    679\u001b[0m             \u001b[0maxes\u001b[0m\u001b[1;33m=\u001b[0m\u001b[1;33m[\u001b[0m\u001b[0mllabels\u001b[0m\u001b[1;33m.\u001b[0m\u001b[0mappend\u001b[0m\u001b[1;33m(\u001b[0m\u001b[0mrlabels\u001b[0m\u001b[1;33m)\u001b[0m\u001b[1;33m,\u001b[0m \u001b[0mjoin_index\u001b[0m\u001b[1;33m]\u001b[0m\u001b[1;33m,\u001b[0m\u001b[1;33m\u001b[0m\u001b[1;33m\u001b[0m\u001b[0m\n",
      "\u001b[1;32m~\\Anaconda3\\lib\\site-packages\\pandas\\core\\internals\\concat.py\u001b[0m in \u001b[0;36mconcatenate_block_managers\u001b[1;34m(mgrs_indexers, axes, concat_axis, copy)\u001b[0m\n\u001b[0;32m     77\u001b[0m         \u001b[1;32melse\u001b[0m\u001b[1;33m:\u001b[0m\u001b[1;33m\u001b[0m\u001b[1;33m\u001b[0m\u001b[0m\n\u001b[0;32m     78\u001b[0m             b = make_block(\n\u001b[1;32m---> 79\u001b[1;33m                 \u001b[0m_concatenate_join_units\u001b[0m\u001b[1;33m(\u001b[0m\u001b[0mjoin_units\u001b[0m\u001b[1;33m,\u001b[0m \u001b[0mconcat_axis\u001b[0m\u001b[1;33m,\u001b[0m \u001b[0mcopy\u001b[0m\u001b[1;33m=\u001b[0m\u001b[0mcopy\u001b[0m\u001b[1;33m,\u001b[0m\u001b[1;33m)\u001b[0m\u001b[1;33m,\u001b[0m\u001b[1;33m\u001b[0m\u001b[1;33m\u001b[0m\u001b[0m\n\u001b[0m\u001b[0;32m     80\u001b[0m                 \u001b[0mplacement\u001b[0m\u001b[1;33m=\u001b[0m\u001b[0mplacement\u001b[0m\u001b[1;33m,\u001b[0m\u001b[1;33m\u001b[0m\u001b[1;33m\u001b[0m\u001b[0m\n\u001b[0;32m     81\u001b[0m             )\n",
      "\u001b[1;32m~\\Anaconda3\\lib\\site-packages\\pandas\\core\\internals\\concat.py\u001b[0m in \u001b[0;36m_concatenate_join_units\u001b[1;34m(join_units, concat_axis, copy)\u001b[0m\n\u001b[0;32m    314\u001b[0m     \u001b[0mempty_dtype\u001b[0m\u001b[1;33m,\u001b[0m \u001b[0mupcasted_na\u001b[0m \u001b[1;33m=\u001b[0m \u001b[0m_get_empty_dtype_and_na\u001b[0m\u001b[1;33m(\u001b[0m\u001b[0mjoin_units\u001b[0m\u001b[1;33m)\u001b[0m\u001b[1;33m\u001b[0m\u001b[1;33m\u001b[0m\u001b[0m\n\u001b[0;32m    315\u001b[0m \u001b[1;33m\u001b[0m\u001b[0m\n\u001b[1;32m--> 316\u001b[1;33m     to_concat = [\n\u001b[0m\u001b[0;32m    317\u001b[0m         \u001b[0mju\u001b[0m\u001b[1;33m.\u001b[0m\u001b[0mget_reindexed_values\u001b[0m\u001b[1;33m(\u001b[0m\u001b[0mempty_dtype\u001b[0m\u001b[1;33m=\u001b[0m\u001b[0mempty_dtype\u001b[0m\u001b[1;33m,\u001b[0m \u001b[0mupcasted_na\u001b[0m\u001b[1;33m=\u001b[0m\u001b[0mupcasted_na\u001b[0m\u001b[1;33m)\u001b[0m\u001b[1;33m\u001b[0m\u001b[1;33m\u001b[0m\u001b[0m\n\u001b[0;32m    318\u001b[0m         \u001b[1;32mfor\u001b[0m \u001b[0mju\u001b[0m \u001b[1;32min\u001b[0m \u001b[0mjoin_units\u001b[0m\u001b[1;33m\u001b[0m\u001b[1;33m\u001b[0m\u001b[0m\n",
      "\u001b[1;32m~\\Anaconda3\\lib\\site-packages\\pandas\\core\\internals\\concat.py\u001b[0m in \u001b[0;36m<listcomp>\u001b[1;34m(.0)\u001b[0m\n\u001b[0;32m    315\u001b[0m \u001b[1;33m\u001b[0m\u001b[0m\n\u001b[0;32m    316\u001b[0m     to_concat = [\n\u001b[1;32m--> 317\u001b[1;33m         \u001b[0mju\u001b[0m\u001b[1;33m.\u001b[0m\u001b[0mget_reindexed_values\u001b[0m\u001b[1;33m(\u001b[0m\u001b[0mempty_dtype\u001b[0m\u001b[1;33m=\u001b[0m\u001b[0mempty_dtype\u001b[0m\u001b[1;33m,\u001b[0m \u001b[0mupcasted_na\u001b[0m\u001b[1;33m=\u001b[0m\u001b[0mupcasted_na\u001b[0m\u001b[1;33m)\u001b[0m\u001b[1;33m\u001b[0m\u001b[1;33m\u001b[0m\u001b[0m\n\u001b[0m\u001b[0;32m    318\u001b[0m         \u001b[1;32mfor\u001b[0m \u001b[0mju\u001b[0m \u001b[1;32min\u001b[0m \u001b[0mjoin_units\u001b[0m\u001b[1;33m\u001b[0m\u001b[1;33m\u001b[0m\u001b[0m\n\u001b[0;32m    319\u001b[0m     ]\n",
      "\u001b[1;32m~\\Anaconda3\\lib\\site-packages\\pandas\\core\\internals\\concat.py\u001b[0m in \u001b[0;36mget_reindexed_values\u001b[1;34m(self, empty_dtype, upcasted_na)\u001b[0m\n\u001b[0;32m    299\u001b[0m         \u001b[1;32melse\u001b[0m\u001b[1;33m:\u001b[0m\u001b[1;33m\u001b[0m\u001b[1;33m\u001b[0m\u001b[0m\n\u001b[0;32m    300\u001b[0m             \u001b[1;32mfor\u001b[0m \u001b[0max\u001b[0m\u001b[1;33m,\u001b[0m \u001b[0mindexer\u001b[0m \u001b[1;32min\u001b[0m \u001b[0mself\u001b[0m\u001b[1;33m.\u001b[0m\u001b[0mindexers\u001b[0m\u001b[1;33m.\u001b[0m\u001b[0mitems\u001b[0m\u001b[1;33m(\u001b[0m\u001b[1;33m)\u001b[0m\u001b[1;33m:\u001b[0m\u001b[1;33m\u001b[0m\u001b[1;33m\u001b[0m\u001b[0m\n\u001b[1;32m--> 301\u001b[1;33m                 \u001b[0mvalues\u001b[0m \u001b[1;33m=\u001b[0m \u001b[0malgos\u001b[0m\u001b[1;33m.\u001b[0m\u001b[0mtake_nd\u001b[0m\u001b[1;33m(\u001b[0m\u001b[0mvalues\u001b[0m\u001b[1;33m,\u001b[0m \u001b[0mindexer\u001b[0m\u001b[1;33m,\u001b[0m \u001b[0maxis\u001b[0m\u001b[1;33m=\u001b[0m\u001b[0max\u001b[0m\u001b[1;33m,\u001b[0m \u001b[0mfill_value\u001b[0m\u001b[1;33m=\u001b[0m\u001b[0mfill_value\u001b[0m\u001b[1;33m)\u001b[0m\u001b[1;33m\u001b[0m\u001b[1;33m\u001b[0m\u001b[0m\n\u001b[0m\u001b[0;32m    302\u001b[0m \u001b[1;33m\u001b[0m\u001b[0m\n\u001b[0;32m    303\u001b[0m         \u001b[1;32mreturn\u001b[0m \u001b[0mvalues\u001b[0m\u001b[1;33m\u001b[0m\u001b[1;33m\u001b[0m\u001b[0m\n",
      "\u001b[1;32m~\\Anaconda3\\lib\\site-packages\\pandas\\core\\algorithms.py\u001b[0m in \u001b[0;36mtake_nd\u001b[1;34m(arr, indexer, axis, out, fill_value, allow_fill)\u001b[0m\n\u001b[0;32m   1706\u001b[0m             \u001b[0mout\u001b[0m \u001b[1;33m=\u001b[0m \u001b[0mnp\u001b[0m\u001b[1;33m.\u001b[0m\u001b[0mempty\u001b[0m\u001b[1;33m(\u001b[0m\u001b[0mout_shape\u001b[0m\u001b[1;33m,\u001b[0m \u001b[0mdtype\u001b[0m\u001b[1;33m=\u001b[0m\u001b[0mdtype\u001b[0m\u001b[1;33m,\u001b[0m \u001b[0morder\u001b[0m\u001b[1;33m=\u001b[0m\u001b[1;34m\"F\"\u001b[0m\u001b[1;33m)\u001b[0m\u001b[1;33m\u001b[0m\u001b[1;33m\u001b[0m\u001b[0m\n\u001b[0;32m   1707\u001b[0m         \u001b[1;32melse\u001b[0m\u001b[1;33m:\u001b[0m\u001b[1;33m\u001b[0m\u001b[1;33m\u001b[0m\u001b[0m\n\u001b[1;32m-> 1708\u001b[1;33m             \u001b[0mout\u001b[0m \u001b[1;33m=\u001b[0m \u001b[0mnp\u001b[0m\u001b[1;33m.\u001b[0m\u001b[0mempty\u001b[0m\u001b[1;33m(\u001b[0m\u001b[0mout_shape\u001b[0m\u001b[1;33m,\u001b[0m \u001b[0mdtype\u001b[0m\u001b[1;33m=\u001b[0m\u001b[0mdtype\u001b[0m\u001b[1;33m)\u001b[0m\u001b[1;33m\u001b[0m\u001b[1;33m\u001b[0m\u001b[0m\n\u001b[0m\u001b[0;32m   1709\u001b[0m \u001b[1;33m\u001b[0m\u001b[0m\n\u001b[0;32m   1710\u001b[0m     func = _get_take_nd_function(\n",
      "\u001b[1;31mMemoryError\u001b[0m: Unable to allocate 4.27 GiB for an array with shape (4, 143429040) and data type int64"
     ]
    }
   ],
   "source": [
    "cosmic = domain_mapping(df_Cosmic,phosphodata)"
   ]
  },
  {
   "cell_type": "code",
   "execution_count": null,
   "metadata": {
    "id": "50oevCfNw5V-"
   },
   "outputs": [],
   "source": [
    "print(cosmic.columns, cosmic.shape)\n",
    "# (248587, 16)"
   ]
  },
  {
   "cell_type": "code",
   "execution_count": null,
   "metadata": {},
   "outputs": [],
   "source": [
    "cosmic.sort_values('Resolution (Å)', ascending=True).drop_duplicates(['UP_POS','uniprot_acc','pfamA_acc'],keep='first')"
   ]
  },
  {
   "cell_type": "markdown",
   "metadata": {
    "id": "H7HG3dnNN_FF"
   },
   "source": []
  },
  {
   "cell_type": "markdown",
   "metadata": {
    "id": "KnuJjVqcN_H3"
   },
   "source": []
  },
  {
   "cell_type": "code",
   "execution_count": null,
   "metadata": {
    "id": "oeXhOVMblK6R"
   },
   "outputs": [],
   "source": [
    "cosmic.to_csv('/content/drive/My Drive/almost final domains dataset.csv', header=True, index=False)"
   ]
  },
  {
   "cell_type": "code",
   "execution_count": null,
   "metadata": {
    "id": "KMIntgGUMZeb"
   },
   "outputs": [],
   "source": [
    "# resolutions_unique = cosmic.sort_values('Resolution (Å)', ascending=True).drop_duplicates(['UP_POS','uniprot_acc','pfamA_acc'],keep='first')"
   ]
  },
  {
   "cell_type": "code",
   "execution_count": null,
   "metadata": {
    "id": "KnxM-M6_-nLj"
   },
   "outputs": [],
   "source": [
    "# cosmic = cosmic[['index', 'UniProtKB isoform ID',\n",
    "#        'Acc ID', 'UP_POS', 'Modification_name', 'PFAM_NAME', 'PDB ID',\n",
    "#        'pfamA_acc', 'seq_start', 'seq_end', 'Resolution (Å)', 'Domain size',\n",
    "#        'Distance']]"
   ]
  },
  {
   "cell_type": "code",
   "execution_count": null,
   "metadata": {
    "id": "chtUi60JI_Vp"
   },
   "outputs": [],
   "source": [
    "# cosmic.head(50)"
   ]
  },
  {
   "cell_type": "code",
   "execution_count": null,
   "metadata": {
    "id": "o-X0p5dAKkWN"
   },
   "outputs": [],
   "source": [
    "# def check_domain_in_boundary(df):\n",
    "#     return df[df.apply(lambda x: (x['UP_POS'] >= x['seq_start']) & (x['UP_POS']<= x['seq_end']), axis=1)]\n",
    "\n",
    "# inside_domain = check_domain_in_boundary(cosmic)"
   ]
  },
  {
   "cell_type": "code",
   "execution_count": null,
   "metadata": {
    "id": "whh_jmvvIaBb"
   },
   "outputs": [],
   "source": [
    "# inside_domain.shape"
   ]
  },
  {
   "cell_type": "code",
   "execution_count": null,
   "metadata": {
    "id": "z3VgFP1D-Hv5"
   },
   "outputs": [],
   "source": [
    "# prot = cosmic[cosmic['Acc ID'] ==  'O75874']"
   ]
  },
  {
   "cell_type": "code",
   "execution_count": 1,
   "metadata": {},
   "outputs": [],
   "source": [
    "import pandas as pd"
   ]
  },
  {
   "cell_type": "code",
   "execution_count": 2,
   "metadata": {},
   "outputs": [
    {
     "name": "stderr",
     "output_type": "stream",
     "text": [
      "C:\\Users\\Basit\\Anaconda3\\lib\\site-packages\\IPython\\core\\interactiveshell.py:3146: DtypeWarning: Columns (3,12) have mixed types.Specify dtype option on import or set low_memory=False.\n",
      "  has_raised = await self.run_ast_nodes(code_ast.body, cell_name,\n"
     ]
    }
   ],
   "source": [
    "final = pd.read_csv('final.csv')"
   ]
  },
  {
   "cell_type": "code",
   "execution_count": 4,
   "metadata": {},
   "outputs": [],
   "source": [
    "cols = ['Transcript','Mutation AA','index','uniprot_isoform','uniprotID','position_scop3p','php_relation_AA','PFAM_name','PFAM_ID','pfamA_acc','seq_start','seq_end','Resolution (Å)','Domain size','position_cosmic','distance']"
   ]
  },
  {
   "cell_type": "code",
   "execution_count": 5,
   "metadata": {},
   "outputs": [],
   "source": [
    "final.columns = cols"
   ]
  },
  {
   "cell_type": "code",
   "execution_count": 6,
   "metadata": {},
   "outputs": [
    {
     "data": {
      "text/html": [
       "<div>\n",
       "<style scoped>\n",
       "    .dataframe tbody tr th:only-of-type {\n",
       "        vertical-align: middle;\n",
       "    }\n",
       "\n",
       "    .dataframe tbody tr th {\n",
       "        vertical-align: top;\n",
       "    }\n",
       "\n",
       "    .dataframe thead th {\n",
       "        text-align: right;\n",
       "    }\n",
       "</style>\n",
       "<table border=\"1\" class=\"dataframe\">\n",
       "  <thead>\n",
       "    <tr style=\"text-align: right;\">\n",
       "      <th></th>\n",
       "      <th>Transcript</th>\n",
       "      <th>Mutation AA</th>\n",
       "      <th>index</th>\n",
       "      <th>uniprot_isoform</th>\n",
       "      <th>uniprotID</th>\n",
       "      <th>position_scop3p</th>\n",
       "      <th>php_relation_AA</th>\n",
       "      <th>PFAM_name</th>\n",
       "      <th>PFAM_ID</th>\n",
       "      <th>pfamA_acc</th>\n",
       "      <th>seq_start</th>\n",
       "      <th>seq_end</th>\n",
       "      <th>Resolution (Å)</th>\n",
       "      <th>Domain size</th>\n",
       "      <th>position_cosmic</th>\n",
       "      <th>distance</th>\n",
       "    </tr>\n",
       "  </thead>\n",
       "  <tbody>\n",
       "    <tr>\n",
       "      <th>0</th>\n",
       "      <td>ENST00000571732.5</td>\n",
       "      <td>p.R34G</td>\n",
       "      <td>746719</td>\n",
       "      <td>P62258-2</td>\n",
       "      <td>P62258</td>\n",
       "      <td>38</td>\n",
       "      <td>PhosphoT</td>\n",
       "      <td>14-3-3</td>\n",
       "      <td>3ual</td>\n",
       "      <td>PF00244</td>\n",
       "      <td>10</td>\n",
       "      <td>232</td>\n",
       "      <td>1.8</td>\n",
       "      <td>222</td>\n",
       "      <td>34</td>\n",
       "      <td>4</td>\n",
       "    </tr>\n",
       "    <tr>\n",
       "      <th>1</th>\n",
       "      <td>ENST00000571732.5</td>\n",
       "      <td>p.R34G</td>\n",
       "      <td>746719</td>\n",
       "      <td>P62258-2</td>\n",
       "      <td>P62258</td>\n",
       "      <td>38</td>\n",
       "      <td>PhosphoT</td>\n",
       "      <td>14-3-3</td>\n",
       "      <td>3ubw</td>\n",
       "      <td>PF00244</td>\n",
       "      <td>10</td>\n",
       "      <td>232</td>\n",
       "      <td>1.9</td>\n",
       "      <td>222</td>\n",
       "      <td>34</td>\n",
       "      <td>4</td>\n",
       "    </tr>\n",
       "    <tr>\n",
       "      <th>2</th>\n",
       "      <td>ENST00000571732.5</td>\n",
       "      <td>p.R34G</td>\n",
       "      <td>746719</td>\n",
       "      <td>P62258-2</td>\n",
       "      <td>P62258</td>\n",
       "      <td>38</td>\n",
       "      <td>PhosphoT</td>\n",
       "      <td>14-3-3</td>\n",
       "      <td>6eih</td>\n",
       "      <td>PF00244</td>\n",
       "      <td>10</td>\n",
       "      <td>232</td>\n",
       "      <td>2.7</td>\n",
       "      <td>222</td>\n",
       "      <td>34</td>\n",
       "      <td>4</td>\n",
       "    </tr>\n",
       "    <tr>\n",
       "      <th>3</th>\n",
       "      <td>ENST00000571732.5</td>\n",
       "      <td>p.R34G</td>\n",
       "      <td>746719</td>\n",
       "      <td>P62258-2</td>\n",
       "      <td>P62258</td>\n",
       "      <td>38</td>\n",
       "      <td>PhosphoT</td>\n",
       "      <td>14-3-3</td>\n",
       "      <td>7c8e</td>\n",
       "      <td>PF00244</td>\n",
       "      <td>10</td>\n",
       "      <td>232</td>\n",
       "      <td>3.16</td>\n",
       "      <td>222</td>\n",
       "      <td>34</td>\n",
       "      <td>4</td>\n",
       "    </tr>\n",
       "    <tr>\n",
       "      <th>4</th>\n",
       "      <td>ENST00000571732.5</td>\n",
       "      <td>p.R34G</td>\n",
       "      <td>746719</td>\n",
       "      <td>P62258-2</td>\n",
       "      <td>P62258</td>\n",
       "      <td>38</td>\n",
       "      <td>PhosphoT</td>\n",
       "      <td>14-3-3</td>\n",
       "      <td>7c8e</td>\n",
       "      <td>PF00244</td>\n",
       "      <td>10</td>\n",
       "      <td>232</td>\n",
       "      <td>3.16</td>\n",
       "      <td>222</td>\n",
       "      <td>34</td>\n",
       "      <td>4</td>\n",
       "    </tr>\n",
       "  </tbody>\n",
       "</table>\n",
       "</div>"
      ],
      "text/plain": [
       "          Transcript Mutation AA   index uniprot_isoform uniprotID  \\\n",
       "0  ENST00000571732.5      p.R34G  746719        P62258-2    P62258   \n",
       "1  ENST00000571732.5      p.R34G  746719        P62258-2    P62258   \n",
       "2  ENST00000571732.5      p.R34G  746719        P62258-2    P62258   \n",
       "3  ENST00000571732.5      p.R34G  746719        P62258-2    P62258   \n",
       "4  ENST00000571732.5      p.R34G  746719        P62258-2    P62258   \n",
       "\n",
       "   position_scop3p php_relation_AA PFAM_name PFAM_ID pfamA_acc  seq_start  \\\n",
       "0               38        PhosphoT    14-3-3    3ual   PF00244         10   \n",
       "1               38        PhosphoT    14-3-3    3ubw   PF00244         10   \n",
       "2               38        PhosphoT    14-3-3    6eih   PF00244         10   \n",
       "3               38        PhosphoT    14-3-3    7c8e   PF00244         10   \n",
       "4               38        PhosphoT    14-3-3    7c8e   PF00244         10   \n",
       "\n",
       "   seq_end Resolution (Å)  Domain size  position_cosmic  distance  \n",
       "0      232            1.8          222               34         4  \n",
       "1      232            1.9          222               34         4  \n",
       "2      232            2.7          222               34         4  \n",
       "3      232           3.16          222               34         4  \n",
       "4      232           3.16          222               34         4  "
      ]
     },
     "execution_count": 6,
     "metadata": {},
     "output_type": "execute_result"
    }
   ],
   "source": [
    "final.head()"
   ]
  },
  {
   "cell_type": "code",
   "execution_count": 7,
   "metadata": {},
   "outputs": [],
   "source": [
    "#final.to_csv('final.csv')"
   ]
  },
  {
   "cell_type": "code",
   "execution_count": null,
   "metadata": {},
   "outputs": [],
   "source": [
    "final[['Resolution (Å)']] = final[['Resolution (Å)']].fillna(100)"
   ]
  },
  {
   "cell_type": "code",
   "execution_count": 20,
   "metadata": {},
   "outputs": [],
   "source": [
    "tmp = []\n",
    "for i,v in enumerate(final['Resolution (Å)']):\n",
    "    tmp.append(float(str(v).split(',')[0]))\n",
    "    "
   ]
  },
  {
   "cell_type": "code",
   "execution_count": 21,
   "metadata": {},
   "outputs": [],
   "source": [
    "final['Resolution (Å)'] = tmp"
   ]
  },
  {
   "cell_type": "code",
   "execution_count": null,
   "metadata": {},
   "outputs": [],
   "source": []
  },
  {
   "cell_type": "code",
   "execution_count": null,
   "metadata": {},
   "outputs": [],
   "source": []
  },
  {
   "cell_type": "code",
   "execution_count": 22,
   "metadata": {},
   "outputs": [
    {
     "data": {
      "text/html": [
       "<div>\n",
       "<style scoped>\n",
       "    .dataframe tbody tr th:only-of-type {\n",
       "        vertical-align: middle;\n",
       "    }\n",
       "\n",
       "    .dataframe tbody tr th {\n",
       "        vertical-align: top;\n",
       "    }\n",
       "\n",
       "    .dataframe thead th {\n",
       "        text-align: right;\n",
       "    }\n",
       "</style>\n",
       "<table border=\"1\" class=\"dataframe\">\n",
       "  <thead>\n",
       "    <tr style=\"text-align: right;\">\n",
       "      <th></th>\n",
       "      <th>Transcript</th>\n",
       "      <th>Mutation AA</th>\n",
       "      <th>index</th>\n",
       "      <th>uniprot_isoform</th>\n",
       "      <th>uniprotID</th>\n",
       "      <th>position_scop3p</th>\n",
       "      <th>php_relation_AA</th>\n",
       "      <th>PFAM_name</th>\n",
       "      <th>PFAM_ID</th>\n",
       "      <th>pfamA_acc</th>\n",
       "      <th>seq_start</th>\n",
       "      <th>seq_end</th>\n",
       "      <th>Resolution (Å)</th>\n",
       "      <th>Domain size</th>\n",
       "      <th>position_cosmic</th>\n",
       "      <th>distance</th>\n",
       "    </tr>\n",
       "  </thead>\n",
       "  <tbody>\n",
       "    <tr>\n",
       "      <th>0</th>\n",
       "      <td>ENST00000571732.5</td>\n",
       "      <td>p.R34G</td>\n",
       "      <td>746719</td>\n",
       "      <td>P62258-2</td>\n",
       "      <td>P62258</td>\n",
       "      <td>38</td>\n",
       "      <td>PhosphoT</td>\n",
       "      <td>14-3-3</td>\n",
       "      <td>3ual</td>\n",
       "      <td>PF00244</td>\n",
       "      <td>10</td>\n",
       "      <td>232</td>\n",
       "      <td>1.80</td>\n",
       "      <td>222</td>\n",
       "      <td>34</td>\n",
       "      <td>4</td>\n",
       "    </tr>\n",
       "    <tr>\n",
       "      <th>1</th>\n",
       "      <td>ENST00000571732.5</td>\n",
       "      <td>p.R34G</td>\n",
       "      <td>746719</td>\n",
       "      <td>P62258-2</td>\n",
       "      <td>P62258</td>\n",
       "      <td>38</td>\n",
       "      <td>PhosphoT</td>\n",
       "      <td>14-3-3</td>\n",
       "      <td>3ubw</td>\n",
       "      <td>PF00244</td>\n",
       "      <td>10</td>\n",
       "      <td>232</td>\n",
       "      <td>1.90</td>\n",
       "      <td>222</td>\n",
       "      <td>34</td>\n",
       "      <td>4</td>\n",
       "    </tr>\n",
       "    <tr>\n",
       "      <th>2</th>\n",
       "      <td>ENST00000571732.5</td>\n",
       "      <td>p.R34G</td>\n",
       "      <td>746719</td>\n",
       "      <td>P62258-2</td>\n",
       "      <td>P62258</td>\n",
       "      <td>38</td>\n",
       "      <td>PhosphoT</td>\n",
       "      <td>14-3-3</td>\n",
       "      <td>6eih</td>\n",
       "      <td>PF00244</td>\n",
       "      <td>10</td>\n",
       "      <td>232</td>\n",
       "      <td>2.70</td>\n",
       "      <td>222</td>\n",
       "      <td>34</td>\n",
       "      <td>4</td>\n",
       "    </tr>\n",
       "    <tr>\n",
       "      <th>3</th>\n",
       "      <td>ENST00000571732.5</td>\n",
       "      <td>p.R34G</td>\n",
       "      <td>746719</td>\n",
       "      <td>P62258-2</td>\n",
       "      <td>P62258</td>\n",
       "      <td>38</td>\n",
       "      <td>PhosphoT</td>\n",
       "      <td>14-3-3</td>\n",
       "      <td>7c8e</td>\n",
       "      <td>PF00244</td>\n",
       "      <td>10</td>\n",
       "      <td>232</td>\n",
       "      <td>3.16</td>\n",
       "      <td>222</td>\n",
       "      <td>34</td>\n",
       "      <td>4</td>\n",
       "    </tr>\n",
       "    <tr>\n",
       "      <th>4</th>\n",
       "      <td>ENST00000571732.5</td>\n",
       "      <td>p.R34G</td>\n",
       "      <td>746719</td>\n",
       "      <td>P62258-2</td>\n",
       "      <td>P62258</td>\n",
       "      <td>38</td>\n",
       "      <td>PhosphoT</td>\n",
       "      <td>14-3-3</td>\n",
       "      <td>7c8e</td>\n",
       "      <td>PF00244</td>\n",
       "      <td>10</td>\n",
       "      <td>232</td>\n",
       "      <td>3.16</td>\n",
       "      <td>222</td>\n",
       "      <td>34</td>\n",
       "      <td>4</td>\n",
       "    </tr>\n",
       "    <tr>\n",
       "      <th>...</th>\n",
       "      <td>...</td>\n",
       "      <td>...</td>\n",
       "      <td>...</td>\n",
       "      <td>...</td>\n",
       "      <td>...</td>\n",
       "      <td>...</td>\n",
       "      <td>...</td>\n",
       "      <td>...</td>\n",
       "      <td>...</td>\n",
       "      <td>...</td>\n",
       "      <td>...</td>\n",
       "      <td>...</td>\n",
       "      <td>...</td>\n",
       "      <td>...</td>\n",
       "      <td>...</td>\n",
       "      <td>...</td>\n",
       "    </tr>\n",
       "    <tr>\n",
       "      <th>38421722</th>\n",
       "      <td>ENST00000554173.1</td>\n",
       "      <td>p.S61G</td>\n",
       "      <td>38311653</td>\n",
       "      <td>NaN</td>\n",
       "      <td>Q9UK55</td>\n",
       "      <td>61</td>\n",
       "      <td>PhosphoS</td>\n",
       "      <td>Serpin</td>\n",
       "      <td>3h5c</td>\n",
       "      <td>PF00079</td>\n",
       "      <td>77</td>\n",
       "      <td>441</td>\n",
       "      <td>3.26</td>\n",
       "      <td>364</td>\n",
       "      <td>61</td>\n",
       "      <td>0</td>\n",
       "    </tr>\n",
       "    <tr>\n",
       "      <th>38421723</th>\n",
       "      <td>ENST00000554173.1</td>\n",
       "      <td>p.E57K</td>\n",
       "      <td>44485870</td>\n",
       "      <td>NaN</td>\n",
       "      <td>Q9UK55</td>\n",
       "      <td>56</td>\n",
       "      <td>PhosphoS</td>\n",
       "      <td>Serpin</td>\n",
       "      <td>3f1s</td>\n",
       "      <td>PF00079</td>\n",
       "      <td>77</td>\n",
       "      <td>441</td>\n",
       "      <td>2.30</td>\n",
       "      <td>364</td>\n",
       "      <td>57</td>\n",
       "      <td>-1</td>\n",
       "    </tr>\n",
       "    <tr>\n",
       "      <th>38421724</th>\n",
       "      <td>ENST00000554173.1</td>\n",
       "      <td>p.E57K</td>\n",
       "      <td>44485870</td>\n",
       "      <td>NaN</td>\n",
       "      <td>Q9UK55</td>\n",
       "      <td>56</td>\n",
       "      <td>PhosphoS</td>\n",
       "      <td>Serpin</td>\n",
       "      <td>3h5c</td>\n",
       "      <td>PF00079</td>\n",
       "      <td>77</td>\n",
       "      <td>441</td>\n",
       "      <td>3.26</td>\n",
       "      <td>364</td>\n",
       "      <td>57</td>\n",
       "      <td>-1</td>\n",
       "    </tr>\n",
       "    <tr>\n",
       "      <th>38421725</th>\n",
       "      <td>ENST00000554173.1</td>\n",
       "      <td>p.E57K</td>\n",
       "      <td>44485870</td>\n",
       "      <td>NaN</td>\n",
       "      <td>Q9UK55</td>\n",
       "      <td>61</td>\n",
       "      <td>PhosphoS</td>\n",
       "      <td>Serpin</td>\n",
       "      <td>3f1s</td>\n",
       "      <td>PF00079</td>\n",
       "      <td>77</td>\n",
       "      <td>441</td>\n",
       "      <td>2.30</td>\n",
       "      <td>364</td>\n",
       "      <td>57</td>\n",
       "      <td>4</td>\n",
       "    </tr>\n",
       "    <tr>\n",
       "      <th>38421726</th>\n",
       "      <td>ENST00000554173.1</td>\n",
       "      <td>p.E57K</td>\n",
       "      <td>44485870</td>\n",
       "      <td>NaN</td>\n",
       "      <td>Q9UK55</td>\n",
       "      <td>61</td>\n",
       "      <td>PhosphoS</td>\n",
       "      <td>Serpin</td>\n",
       "      <td>3h5c</td>\n",
       "      <td>PF00079</td>\n",
       "      <td>77</td>\n",
       "      <td>441</td>\n",
       "      <td>3.26</td>\n",
       "      <td>364</td>\n",
       "      <td>57</td>\n",
       "      <td>4</td>\n",
       "    </tr>\n",
       "  </tbody>\n",
       "</table>\n",
       "<p>38421727 rows × 16 columns</p>\n",
       "</div>"
      ],
      "text/plain": [
       "                 Transcript Mutation AA     index uniprot_isoform uniprotID  \\\n",
       "0         ENST00000571732.5      p.R34G    746719        P62258-2    P62258   \n",
       "1         ENST00000571732.5      p.R34G    746719        P62258-2    P62258   \n",
       "2         ENST00000571732.5      p.R34G    746719        P62258-2    P62258   \n",
       "3         ENST00000571732.5      p.R34G    746719        P62258-2    P62258   \n",
       "4         ENST00000571732.5      p.R34G    746719        P62258-2    P62258   \n",
       "...                     ...         ...       ...             ...       ...   \n",
       "38421722  ENST00000554173.1      p.S61G  38311653             NaN    Q9UK55   \n",
       "38421723  ENST00000554173.1      p.E57K  44485870             NaN    Q9UK55   \n",
       "38421724  ENST00000554173.1      p.E57K  44485870             NaN    Q9UK55   \n",
       "38421725  ENST00000554173.1      p.E57K  44485870             NaN    Q9UK55   \n",
       "38421726  ENST00000554173.1      p.E57K  44485870             NaN    Q9UK55   \n",
       "\n",
       "          position_scop3p php_relation_AA PFAM_name PFAM_ID pfamA_acc  \\\n",
       "0                      38        PhosphoT    14-3-3    3ual   PF00244   \n",
       "1                      38        PhosphoT    14-3-3    3ubw   PF00244   \n",
       "2                      38        PhosphoT    14-3-3    6eih   PF00244   \n",
       "3                      38        PhosphoT    14-3-3    7c8e   PF00244   \n",
       "4                      38        PhosphoT    14-3-3    7c8e   PF00244   \n",
       "...                   ...             ...       ...     ...       ...   \n",
       "38421722               61        PhosphoS    Serpin    3h5c   PF00079   \n",
       "38421723               56        PhosphoS    Serpin    3f1s   PF00079   \n",
       "38421724               56        PhosphoS    Serpin    3h5c   PF00079   \n",
       "38421725               61        PhosphoS    Serpin    3f1s   PF00079   \n",
       "38421726               61        PhosphoS    Serpin    3h5c   PF00079   \n",
       "\n",
       "          seq_start  seq_end  Resolution (Å)  Domain size  position_cosmic  \\\n",
       "0                10      232            1.80          222               34   \n",
       "1                10      232            1.90          222               34   \n",
       "2                10      232            2.70          222               34   \n",
       "3                10      232            3.16          222               34   \n",
       "4                10      232            3.16          222               34   \n",
       "...             ...      ...             ...          ...              ...   \n",
       "38421722         77      441            3.26          364               61   \n",
       "38421723         77      441            2.30          364               57   \n",
       "38421724         77      441            3.26          364               57   \n",
       "38421725         77      441            2.30          364               57   \n",
       "38421726         77      441            3.26          364               57   \n",
       "\n",
       "          distance  \n",
       "0                4  \n",
       "1                4  \n",
       "2                4  \n",
       "3                4  \n",
       "4                4  \n",
       "...            ...  \n",
       "38421722         0  \n",
       "38421723        -1  \n",
       "38421724        -1  \n",
       "38421725         4  \n",
       "38421726         4  \n",
       "\n",
       "[38421727 rows x 16 columns]"
      ]
     },
     "execution_count": 22,
     "metadata": {},
     "output_type": "execute_result"
    }
   ],
   "source": [
    "final"
   ]
  },
  {
   "cell_type": "code",
   "execution_count": 24,
   "metadata": {},
   "outputs": [
    {
     "data": {
      "text/html": [
       "<div>\n",
       "<style scoped>\n",
       "    .dataframe tbody tr th:only-of-type {\n",
       "        vertical-align: middle;\n",
       "    }\n",
       "\n",
       "    .dataframe tbody tr th {\n",
       "        vertical-align: top;\n",
       "    }\n",
       "\n",
       "    .dataframe thead th {\n",
       "        text-align: right;\n",
       "    }\n",
       "</style>\n",
       "<table border=\"1\" class=\"dataframe\">\n",
       "  <thead>\n",
       "    <tr style=\"text-align: right;\">\n",
       "      <th></th>\n",
       "      <th>Transcript</th>\n",
       "      <th>Mutation AA</th>\n",
       "      <th>index</th>\n",
       "      <th>uniprot_isoform</th>\n",
       "      <th>uniprotID</th>\n",
       "      <th>position_scop3p</th>\n",
       "      <th>php_relation_AA</th>\n",
       "      <th>PFAM_name</th>\n",
       "      <th>PFAM_ID</th>\n",
       "      <th>pfamA_acc</th>\n",
       "      <th>seq_start</th>\n",
       "      <th>seq_end</th>\n",
       "      <th>Resolution (Å)</th>\n",
       "      <th>Domain size</th>\n",
       "      <th>position_cosmic</th>\n",
       "      <th>distance</th>\n",
       "    </tr>\n",
       "  </thead>\n",
       "  <tbody>\n",
       "    <tr>\n",
       "      <th>5745503</th>\n",
       "      <td>ENST00000447182.6</td>\n",
       "      <td>p.M91T</td>\n",
       "      <td>2614700</td>\n",
       "      <td>O00560-2</td>\n",
       "      <td>O00560</td>\n",
       "      <td>88</td>\n",
       "      <td>PhosphoS</td>\n",
       "      <td>PDZ</td>\n",
       "      <td>1r6j</td>\n",
       "      <td>PF00595</td>\n",
       "      <td>198</td>\n",
       "      <td>270</td>\n",
       "      <td>0.73</td>\n",
       "      <td>72</td>\n",
       "      <td>91</td>\n",
       "      <td>-3</td>\n",
       "    </tr>\n",
       "    <tr>\n",
       "      <th>5740906</th>\n",
       "      <td>ENST00000447182.6</td>\n",
       "      <td>p.H41Q</td>\n",
       "      <td>35580882</td>\n",
       "      <td>O00560-2</td>\n",
       "      <td>O00560</td>\n",
       "      <td>46</td>\n",
       "      <td>PhosphoY</td>\n",
       "      <td>PDZ</td>\n",
       "      <td>1r6j</td>\n",
       "      <td>PF00595</td>\n",
       "      <td>198</td>\n",
       "      <td>270</td>\n",
       "      <td>0.73</td>\n",
       "      <td>72</td>\n",
       "      <td>41</td>\n",
       "      <td>5</td>\n",
       "    </tr>\n",
       "    <tr>\n",
       "      <th>5747388</th>\n",
       "      <td>ENST00000413219.6</td>\n",
       "      <td>p.M92T</td>\n",
       "      <td>30431617</td>\n",
       "      <td>O00560-1</td>\n",
       "      <td>O00560</td>\n",
       "      <td>91</td>\n",
       "      <td>PhosphoY</td>\n",
       "      <td>PDZ</td>\n",
       "      <td>1r6j</td>\n",
       "      <td>PF00595</td>\n",
       "      <td>114</td>\n",
       "      <td>191</td>\n",
       "      <td>0.73</td>\n",
       "      <td>77</td>\n",
       "      <td>92</td>\n",
       "      <td>-1</td>\n",
       "    </tr>\n",
       "    <tr>\n",
       "      <th>5746074</th>\n",
       "      <td>ENST00000424270.6</td>\n",
       "      <td>p.R61C</td>\n",
       "      <td>9628125</td>\n",
       "      <td>O00560-3</td>\n",
       "      <td>O00560</td>\n",
       "      <td>56</td>\n",
       "      <td>PhosphoY</td>\n",
       "      <td>PDZ</td>\n",
       "      <td>1r6j</td>\n",
       "      <td>PF00595</td>\n",
       "      <td>114</td>\n",
       "      <td>191</td>\n",
       "      <td>0.73</td>\n",
       "      <td>77</td>\n",
       "      <td>61</td>\n",
       "      <td>-5</td>\n",
       "    </tr>\n",
       "    <tr>\n",
       "      <th>1760490</th>\n",
       "      <td>ENST00000366844.7</td>\n",
       "      <td>p.K483N</td>\n",
       "      <td>39486804</td>\n",
       "      <td>Q8N8S7-1</td>\n",
       "      <td>Q8N8S7</td>\n",
       "      <td>487</td>\n",
       "      <td>PhosphoT</td>\n",
       "      <td>WH1</td>\n",
       "      <td>7a5m</td>\n",
       "      <td>PF00568</td>\n",
       "      <td>1</td>\n",
       "      <td>108</td>\n",
       "      <td>0.78</td>\n",
       "      <td>107</td>\n",
       "      <td>483</td>\n",
       "      <td>4</td>\n",
       "    </tr>\n",
       "    <tr>\n",
       "      <th>...</th>\n",
       "      <td>...</td>\n",
       "      <td>...</td>\n",
       "      <td>...</td>\n",
       "      <td>...</td>\n",
       "      <td>...</td>\n",
       "      <td>...</td>\n",
       "      <td>...</td>\n",
       "      <td>...</td>\n",
       "      <td>...</td>\n",
       "      <td>...</td>\n",
       "      <td>...</td>\n",
       "      <td>...</td>\n",
       "      <td>...</td>\n",
       "      <td>...</td>\n",
       "      <td>...</td>\n",
       "      <td>...</td>\n",
       "    </tr>\n",
       "    <tr>\n",
       "      <th>1736401</th>\n",
       "      <td>ENST00000236957.9</td>\n",
       "      <td>p.A82V</td>\n",
       "      <td>17262534</td>\n",
       "      <td>NaN</td>\n",
       "      <td>P24534</td>\n",
       "      <td>79</td>\n",
       "      <td>PhosphoY</td>\n",
       "      <td>EF1_GNE</td>\n",
       "      <td>1b64</td>\n",
       "      <td>PF00736</td>\n",
       "      <td>141</td>\n",
       "      <td>225</td>\n",
       "      <td>100.00</td>\n",
       "      <td>84</td>\n",
       "      <td>82</td>\n",
       "      <td>-3</td>\n",
       "    </tr>\n",
       "    <tr>\n",
       "      <th>1736333</th>\n",
       "      <td>ENST00000392221.5</td>\n",
       "      <td>p.L123V</td>\n",
       "      <td>39503914</td>\n",
       "      <td>NaN</td>\n",
       "      <td>P24534</td>\n",
       "      <td>128</td>\n",
       "      <td>PhosphoS</td>\n",
       "      <td>EF1_GNE</td>\n",
       "      <td>1b64</td>\n",
       "      <td>PF00736</td>\n",
       "      <td>141</td>\n",
       "      <td>225</td>\n",
       "      <td>100.00</td>\n",
       "      <td>84</td>\n",
       "      <td>123</td>\n",
       "      <td>5</td>\n",
       "    </tr>\n",
       "    <tr>\n",
       "      <th>1736331</th>\n",
       "      <td>ENST00000392221.5</td>\n",
       "      <td>p.S112N</td>\n",
       "      <td>39271865</td>\n",
       "      <td>NaN</td>\n",
       "      <td>P24534</td>\n",
       "      <td>112</td>\n",
       "      <td>PhosphoS</td>\n",
       "      <td>EF1_GNE</td>\n",
       "      <td>1b64</td>\n",
       "      <td>PF00736</td>\n",
       "      <td>141</td>\n",
       "      <td>225</td>\n",
       "      <td>100.00</td>\n",
       "      <td>84</td>\n",
       "      <td>112</td>\n",
       "      <td>0</td>\n",
       "    </tr>\n",
       "    <tr>\n",
       "      <th>1736328</th>\n",
       "      <td>ENST00000392221.5</td>\n",
       "      <td>p.G105V</td>\n",
       "      <td>34334397</td>\n",
       "      <td>NaN</td>\n",
       "      <td>P24534</td>\n",
       "      <td>106</td>\n",
       "      <td>PhosphoS</td>\n",
       "      <td>EF1_GNE</td>\n",
       "      <td>1b64</td>\n",
       "      <td>PF00736</td>\n",
       "      <td>141</td>\n",
       "      <td>225</td>\n",
       "      <td>100.00</td>\n",
       "      <td>84</td>\n",
       "      <td>105</td>\n",
       "      <td>1</td>\n",
       "    </tr>\n",
       "    <tr>\n",
       "      <th>5145270</th>\n",
       "      <td>ENST00000216200.9</td>\n",
       "      <td>p.R76S</td>\n",
       "      <td>18476235</td>\n",
       "      <td>NaN</td>\n",
       "      <td>P20472</td>\n",
       "      <td>72</td>\n",
       "      <td>PhosphoS</td>\n",
       "      <td>EF-hand_7</td>\n",
       "      <td>1rk9</td>\n",
       "      <td>PF13499</td>\n",
       "      <td>41</td>\n",
       "      <td>108</td>\n",
       "      <td>100.00</td>\n",
       "      <td>67</td>\n",
       "      <td>76</td>\n",
       "      <td>-4</td>\n",
       "    </tr>\n",
       "  </tbody>\n",
       "</table>\n",
       "<p>30417 rows × 16 columns</p>\n",
       "</div>"
      ],
      "text/plain": [
       "                Transcript Mutation AA     index uniprot_isoform uniprotID  \\\n",
       "5745503  ENST00000447182.6      p.M91T   2614700        O00560-2    O00560   \n",
       "5740906  ENST00000447182.6      p.H41Q  35580882        O00560-2    O00560   \n",
       "5747388  ENST00000413219.6      p.M92T  30431617        O00560-1    O00560   \n",
       "5746074  ENST00000424270.6      p.R61C   9628125        O00560-3    O00560   \n",
       "1760490  ENST00000366844.7     p.K483N  39486804        Q8N8S7-1    Q8N8S7   \n",
       "...                    ...         ...       ...             ...       ...   \n",
       "1736401  ENST00000236957.9      p.A82V  17262534             NaN    P24534   \n",
       "1736333  ENST00000392221.5     p.L123V  39503914             NaN    P24534   \n",
       "1736331  ENST00000392221.5     p.S112N  39271865             NaN    P24534   \n",
       "1736328  ENST00000392221.5     p.G105V  34334397             NaN    P24534   \n",
       "5145270  ENST00000216200.9      p.R76S  18476235             NaN    P20472   \n",
       "\n",
       "         position_scop3p php_relation_AA  PFAM_name PFAM_ID pfamA_acc  \\\n",
       "5745503               88        PhosphoS        PDZ    1r6j   PF00595   \n",
       "5740906               46        PhosphoY        PDZ    1r6j   PF00595   \n",
       "5747388               91        PhosphoY        PDZ    1r6j   PF00595   \n",
       "5746074               56        PhosphoY        PDZ    1r6j   PF00595   \n",
       "1760490              487        PhosphoT        WH1    7a5m   PF00568   \n",
       "...                  ...             ...        ...     ...       ...   \n",
       "1736401               79        PhosphoY    EF1_GNE    1b64   PF00736   \n",
       "1736333              128        PhosphoS    EF1_GNE    1b64   PF00736   \n",
       "1736331              112        PhosphoS    EF1_GNE    1b64   PF00736   \n",
       "1736328              106        PhosphoS    EF1_GNE    1b64   PF00736   \n",
       "5145270               72        PhosphoS  EF-hand_7    1rk9   PF13499   \n",
       "\n",
       "         seq_start  seq_end  Resolution (Å)  Domain size  position_cosmic  \\\n",
       "5745503        198      270            0.73           72               91   \n",
       "5740906        198      270            0.73           72               41   \n",
       "5747388        114      191            0.73           77               92   \n",
       "5746074        114      191            0.73           77               61   \n",
       "1760490          1      108            0.78          107              483   \n",
       "...            ...      ...             ...          ...              ...   \n",
       "1736401        141      225          100.00           84               82   \n",
       "1736333        141      225          100.00           84              123   \n",
       "1736331        141      225          100.00           84              112   \n",
       "1736328        141      225          100.00           84              105   \n",
       "5145270         41      108          100.00           67               76   \n",
       "\n",
       "         distance  \n",
       "5745503        -3  \n",
       "5740906         5  \n",
       "5747388        -1  \n",
       "5746074        -5  \n",
       "1760490         4  \n",
       "...           ...  \n",
       "1736401        -3  \n",
       "1736333         5  \n",
       "1736331         0  \n",
       "1736328         1  \n",
       "5145270        -4  \n",
       "\n",
       "[30417 rows x 16 columns]"
      ]
     },
     "execution_count": 24,
     "metadata": {},
     "output_type": "execute_result"
    }
   ],
   "source": [
    "final.sort_values('Resolution (Å)', ascending=True).drop_duplicates(['position_scop3p','uniprotID','pfamA_acc'],keep='first')"
   ]
  },
  {
   "cell_type": "code",
   "execution_count": null,
   "metadata": {},
   "outputs": [],
   "source": []
  },
  {
   "cell_type": "code",
   "execution_count": 26,
   "metadata": {},
   "outputs": [],
   "source": [
    "data = pd.read_csv('original canonical only merged dataframe.csv')"
   ]
  },
  {
   "cell_type": "code",
   "execution_count": 27,
   "metadata": {},
   "outputs": [
    {
     "data": {
      "text/html": [
       "<div>\n",
       "<style scoped>\n",
       "    .dataframe tbody tr th:only-of-type {\n",
       "        vertical-align: middle;\n",
       "    }\n",
       "\n",
       "    .dataframe tbody tr th {\n",
       "        vertical-align: top;\n",
       "    }\n",
       "\n",
       "    .dataframe thead th {\n",
       "        text-align: right;\n",
       "    }\n",
       "</style>\n",
       "<table border=\"1\" class=\"dataframe\">\n",
       "  <thead>\n",
       "    <tr style=\"text-align: right;\">\n",
       "      <th></th>\n",
       "      <th>Mutation AA</th>\n",
       "      <th>index</th>\n",
       "      <th>ACC_ID</th>\n",
       "      <th>UP_POS</th>\n",
       "      <th>Modification_name</th>\n",
       "      <th>sliced AA</th>\n",
       "      <th>Distance</th>\n",
       "    </tr>\n",
       "  </thead>\n",
       "  <tbody>\n",
       "    <tr>\n",
       "      <th>0</th>\n",
       "      <td>p.P359L</td>\n",
       "      <td>1057</td>\n",
       "      <td>Q9UQF2</td>\n",
       "      <td>355</td>\n",
       "      <td>PhosphoS</td>\n",
       "      <td>359</td>\n",
       "      <td>-4</td>\n",
       "    </tr>\n",
       "    <tr>\n",
       "      <th>1</th>\n",
       "      <td>p.S895F</td>\n",
       "      <td>1591</td>\n",
       "      <td>Q69YQ0</td>\n",
       "      <td>893</td>\n",
       "      <td>PhosphoS</td>\n",
       "      <td>895</td>\n",
       "      <td>-2</td>\n",
       "    </tr>\n",
       "    <tr>\n",
       "      <th>2</th>\n",
       "      <td>p.S45P</td>\n",
       "      <td>1758</td>\n",
       "      <td>P35222</td>\n",
       "      <td>45</td>\n",
       "      <td>PhosphoS</td>\n",
       "      <td>45</td>\n",
       "      <td>0</td>\n",
       "    </tr>\n",
       "    <tr>\n",
       "      <th>3</th>\n",
       "      <td>p.T338I</td>\n",
       "      <td>2369</td>\n",
       "      <td>Q9H0H5</td>\n",
       "      <td>342</td>\n",
       "      <td>PhosphoT</td>\n",
       "      <td>338</td>\n",
       "      <td>4</td>\n",
       "    </tr>\n",
       "    <tr>\n",
       "      <th>4</th>\n",
       "      <td>p.S45P</td>\n",
       "      <td>3130</td>\n",
       "      <td>P35222</td>\n",
       "      <td>45</td>\n",
       "      <td>PhosphoS</td>\n",
       "      <td>45</td>\n",
       "      <td>0</td>\n",
       "    </tr>\n",
       "    <tr>\n",
       "      <th>...</th>\n",
       "      <td>...</td>\n",
       "      <td>...</td>\n",
       "      <td>...</td>\n",
       "      <td>...</td>\n",
       "      <td>...</td>\n",
       "      <td>...</td>\n",
       "      <td>...</td>\n",
       "    </tr>\n",
       "    <tr>\n",
       "      <th>57836</th>\n",
       "      <td>p.S33P</td>\n",
       "      <td>44393309</td>\n",
       "      <td>P35222</td>\n",
       "      <td>30</td>\n",
       "      <td>PhosphoY</td>\n",
       "      <td>33</td>\n",
       "      <td>-3</td>\n",
       "    </tr>\n",
       "    <tr>\n",
       "      <th>57837</th>\n",
       "      <td>p.P1746S</td>\n",
       "      <td>44393579</td>\n",
       "      <td>Q14686</td>\n",
       "      <td>1749</td>\n",
       "      <td>PhosphoT</td>\n",
       "      <td>1746</td>\n",
       "      <td>3</td>\n",
       "    </tr>\n",
       "    <tr>\n",
       "      <th>57838</th>\n",
       "      <td>p.P1746S</td>\n",
       "      <td>44393579</td>\n",
       "      <td>Q14686</td>\n",
       "      <td>1751</td>\n",
       "      <td>PhosphoS</td>\n",
       "      <td>1746</td>\n",
       "      <td>5</td>\n",
       "    </tr>\n",
       "    <tr>\n",
       "      <th>57839</th>\n",
       "      <td>p.E382K</td>\n",
       "      <td>44396386</td>\n",
       "      <td>P08172</td>\n",
       "      <td>380</td>\n",
       "      <td>PhosphoS</td>\n",
       "      <td>382</td>\n",
       "      <td>-2</td>\n",
       "    </tr>\n",
       "    <tr>\n",
       "      <th>57840</th>\n",
       "      <td>p.S45P</td>\n",
       "      <td>44397357</td>\n",
       "      <td>P35222</td>\n",
       "      <td>45</td>\n",
       "      <td>PhosphoS</td>\n",
       "      <td>45</td>\n",
       "      <td>0</td>\n",
       "    </tr>\n",
       "  </tbody>\n",
       "</table>\n",
       "<p>57841 rows × 7 columns</p>\n",
       "</div>"
      ],
      "text/plain": [
       "      Mutation AA     index  ACC_ID  UP_POS Modification_name  sliced AA  \\\n",
       "0         p.P359L      1057  Q9UQF2     355          PhosphoS        359   \n",
       "1         p.S895F      1591  Q69YQ0     893          PhosphoS        895   \n",
       "2          p.S45P      1758  P35222      45          PhosphoS         45   \n",
       "3         p.T338I      2369  Q9H0H5     342          PhosphoT        338   \n",
       "4          p.S45P      3130  P35222      45          PhosphoS         45   \n",
       "...           ...       ...     ...     ...               ...        ...   \n",
       "57836      p.S33P  44393309  P35222      30          PhosphoY         33   \n",
       "57837    p.P1746S  44393579  Q14686    1749          PhosphoT       1746   \n",
       "57838    p.P1746S  44393579  Q14686    1751          PhosphoS       1746   \n",
       "57839     p.E382K  44396386  P08172     380          PhosphoS        382   \n",
       "57840      p.S45P  44397357  P35222      45          PhosphoS         45   \n",
       "\n",
       "       Distance  \n",
       "0            -4  \n",
       "1            -2  \n",
       "2             0  \n",
       "3             4  \n",
       "4             0  \n",
       "...         ...  \n",
       "57836        -3  \n",
       "57837         3  \n",
       "57838         5  \n",
       "57839        -2  \n",
       "57840         0  \n",
       "\n",
       "[57841 rows x 7 columns]"
      ]
     },
     "execution_count": 27,
     "metadata": {},
     "output_type": "execute_result"
    }
   ],
   "source": [
    "data"
   ]
  },
  {
   "cell_type": "code",
   "execution_count": null,
   "metadata": {},
   "outputs": [],
   "source": []
  }
 ],
 "metadata": {
  "colab": {
   "authorship_tag": "ABX9TyPYfb/pz/rlA2MG8g777axv",
   "collapsed_sections": [
    "MCmll1YMq_u7",
    "nMZyt-Ou2cbD",
    "b_q2qPyouFVl"
   ],
   "name": "resolution phspsites map to cosmic.ipynb",
   "provenance": []
  },
  "kernelspec": {
   "display_name": "Python 3",
   "language": "python",
   "name": "python3"
  },
  "language_info": {
   "codemirror_mode": {
    "name": "ipython",
    "version": 3
   },
   "file_extension": ".py",
   "mimetype": "text/x-python",
   "name": "python",
   "nbconvert_exporter": "python",
   "pygments_lexer": "ipython3",
   "version": "3.8.5"
  }
 },
 "nbformat": 4,
 "nbformat_minor": 1
}
