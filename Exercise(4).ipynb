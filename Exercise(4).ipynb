{
 "cells": [
  {
   "cell_type": "markdown",
   "metadata": {
    "id": "MCmll1YMq_u7"
   },
   "source": [
    "# Mount my Google Drive and decompress gz"
   ]
  },
  {
   "cell_type": "code",
   "execution_count": null,
   "metadata": {
    "colab": {
     "base_uri": "https://localhost:8080/"
    },
    "id": "WtAlvB1PUKr_",
    "outputId": "ee14d239-6e4b-464c-dc55-7274d750b904"
   },
   "outputs": [
    {
     "name": "stdout",
     "output_type": "stream",
     "text": [
      "Mounted at /content/drive\n"
     ]
    }
   ],
   "source": [
    "from google.colab import drive\n",
    "drive.mount('/content/drive')"
   ]
  },
  {
   "cell_type": "code",
   "execution_count": null,
   "metadata": {
    "colab": {
     "base_uri": "https://localhost:8080/"
    },
    "id": "lwWScuaWq-M-",
    "outputId": "e0f42a28-b252-4dad-8790-72e7fe38dcd7"
   },
   "outputs": [
    {
     "name": "stdout",
     "output_type": "stream",
     "text": [
      "Done!\n"
     ]
    }
   ],
   "source": [
    "import gzip\n",
    "import shutil\n",
    "with gzip.open('/content/drive/MyDrive/CosmicGenomeScreensMutantExport.tsv.gz', 'rb') as f_in:\n",
    "    with open('DECOMPcosmic.tsv', 'wb') as f_out:\n",
    "        shutil.copyfileobj(f_in, f_out)\n",
    "  \n",
    "print('Done!')\n"
   ]
  },
  {
   "cell_type": "markdown",
   "metadata": {
    "id": "_lV31RxeqvMA"
   },
   "source": [
    "# COSMIC DF"
   ]
  },
  {
   "cell_type": "markdown",
   "metadata": {
    "id": "zqxRCkm8xtuz"
   },
   "source": [
    "### Load tsv as pandas dataframe (minimal columns)"
   ]
  },
  {
   "cell_type": "code",
   "execution_count": 2,
   "metadata": {
    "id": "VOP48qa2xCEa"
   },
   "outputs": [],
   "source": [
    "import pandas as pd"
   ]
  },
  {
   "cell_type": "code",
   "execution_count": 3,
   "metadata": {
    "id": "KZebmL3_xTbn"
   },
   "outputs": [],
   "source": [
    "# df_Cosmic = pd.read_csv('/content/DECOMPcosmic.tsv', sep='\\t', usecols=[30], chunksize=100)\n",
    "# sample = df_Cosmic.get_chunk()\n",
    "# sample = sample.loc[sample['Mutation somatic status'].str.contains('somatic', case=False, na=False)]\n",
    "# sample.head(40)\n",
    "\n",
    "df_Cosmic = pd.read_csv('CosmicGenomeScreensMutantExport.tsv', sep='\\t', usecols=[7,11,20,21,29])\n",
    "# df_Cosmic['Mutation somatic status'].tail(20)\n",
    "# df_Cosmic['Mutation AA'].head(35)"
   ]
  },
  {
   "cell_type": "code",
   "execution_count": 4,
   "metadata": {},
   "outputs": [],
   "source": [
    "df_Cosmic = df_Cosmic.reset_index()"
   ]
  },
  {
   "cell_type": "code",
   "execution_count": 5,
   "metadata": {
    "colab": {
     "base_uri": "https://localhost:8080/"
    },
    "id": "s1w7azmwQ1Nv",
    "outputId": "abac6400-02c9-4cd0-e251-412aecf8e0cb"
   },
   "outputs": [
    {
     "name": "stdout",
     "output_type": "stream",
     "text": [
      "(46212382, 6) Index(['index', 'Primary site', 'Primary histology', 'Mutation AA',\n",
      "       'Mutation Description', 'Mutation somatic status'],\n",
      "      dtype='object')\n"
     ]
    }
   ],
   "source": [
    "print(df_Cosmic.shape, df_Cosmic.columns)\n",
    "\n",
    "#(44,398,535  ,    7) Index([0'Gene name', 1'Accession Number', 7'Primary site', 11'Primary histology',\n",
    "      #  20'Mutation AA', 21'Mutation Description', 30'Mutation somatic status'],\n",
    "      # dtype='object')"
   ]
  },
  {
   "cell_type": "code",
   "execution_count": 7,
   "metadata": {},
   "outputs": [],
   "source": [
    "df_Cosmic = df_Cosmic[df_Cosmic['Mutation AA'].apply(lambda x: x[2] in ['S','T','Y'])]"
   ]
  },
  {
   "cell_type": "code",
   "execution_count": 8,
   "metadata": {},
   "outputs": [
    {
     "data": {
      "text/html": [
       "<div>\n",
       "<style scoped>\n",
       "    .dataframe tbody tr th:only-of-type {\n",
       "        vertical-align: middle;\n",
       "    }\n",
       "\n",
       "    .dataframe tbody tr th {\n",
       "        vertical-align: top;\n",
       "    }\n",
       "\n",
       "    .dataframe thead th {\n",
       "        text-align: right;\n",
       "    }\n",
       "</style>\n",
       "<table border=\"1\" class=\"dataframe\">\n",
       "  <thead>\n",
       "    <tr style=\"text-align: right;\">\n",
       "      <th></th>\n",
       "      <th>index</th>\n",
       "      <th>Primary site</th>\n",
       "      <th>Primary histology</th>\n",
       "      <th>Mutation AA</th>\n",
       "      <th>Mutation Description</th>\n",
       "      <th>Mutation somatic status</th>\n",
       "    </tr>\n",
       "  </thead>\n",
       "  <tbody>\n",
       "    <tr>\n",
       "      <th>4</th>\n",
       "      <td>4</td>\n",
       "      <td>stomach</td>\n",
       "      <td>carcinoma</td>\n",
       "      <td>p.T363P</td>\n",
       "      <td>Substitution - Missense</td>\n",
       "      <td>Confirmed somatic variant</td>\n",
       "    </tr>\n",
       "    <tr>\n",
       "      <th>54</th>\n",
       "      <td>54</td>\n",
       "      <td>liver</td>\n",
       "      <td>carcinoma</td>\n",
       "      <td>p.Y71C</td>\n",
       "      <td>Substitution - Missense</td>\n",
       "      <td>Confirmed somatic variant</td>\n",
       "    </tr>\n",
       "    <tr>\n",
       "      <th>76</th>\n",
       "      <td>76</td>\n",
       "      <td>oesophagus</td>\n",
       "      <td>carcinoma</td>\n",
       "      <td>p.S742F</td>\n",
       "      <td>Substitution - Missense</td>\n",
       "      <td>Confirmed somatic variant</td>\n",
       "    </tr>\n",
       "    <tr>\n",
       "      <th>118</th>\n",
       "      <td>118</td>\n",
       "      <td>lung</td>\n",
       "      <td>carcinoma</td>\n",
       "      <td>p.S1364C</td>\n",
       "      <td>Substitution - Missense</td>\n",
       "      <td>Confirmed somatic variant</td>\n",
       "    </tr>\n",
       "    <tr>\n",
       "      <th>120</th>\n",
       "      <td>120</td>\n",
       "      <td>biliary_tract</td>\n",
       "      <td>carcinoma</td>\n",
       "      <td>p.S942R</td>\n",
       "      <td>Substitution - Missense</td>\n",
       "      <td>Confirmed somatic variant</td>\n",
       "    </tr>\n",
       "    <tr>\n",
       "      <th>...</th>\n",
       "      <td>...</td>\n",
       "      <td>...</td>\n",
       "      <td>...</td>\n",
       "      <td>...</td>\n",
       "      <td>...</td>\n",
       "      <td>...</td>\n",
       "    </tr>\n",
       "    <tr>\n",
       "      <th>46212234</th>\n",
       "      <td>46212234</td>\n",
       "      <td>kidney</td>\n",
       "      <td>carcinoma</td>\n",
       "      <td>p.T4198A</td>\n",
       "      <td>Substitution - Missense</td>\n",
       "      <td>Confirmed somatic variant</td>\n",
       "    </tr>\n",
       "    <tr>\n",
       "      <th>46212240</th>\n",
       "      <td>46212240</td>\n",
       "      <td>skin</td>\n",
       "      <td>carcinoma</td>\n",
       "      <td>p.S829F</td>\n",
       "      <td>Substitution - Missense</td>\n",
       "      <td>Confirmed somatic variant</td>\n",
       "    </tr>\n",
       "    <tr>\n",
       "      <th>46212296</th>\n",
       "      <td>46212296</td>\n",
       "      <td>skin</td>\n",
       "      <td>carcinoma</td>\n",
       "      <td>p.S772L</td>\n",
       "      <td>Substitution - Missense</td>\n",
       "      <td>Confirmed somatic variant</td>\n",
       "    </tr>\n",
       "    <tr>\n",
       "      <th>46212337</th>\n",
       "      <td>46212337</td>\n",
       "      <td>large_intestine</td>\n",
       "      <td>carcinoma</td>\n",
       "      <td>p.S37F</td>\n",
       "      <td>Substitution - Missense</td>\n",
       "      <td>Confirmed somatic variant</td>\n",
       "    </tr>\n",
       "    <tr>\n",
       "      <th>46212356</th>\n",
       "      <td>46212356</td>\n",
       "      <td>lung</td>\n",
       "      <td>carcinoma</td>\n",
       "      <td>p.Y553N</td>\n",
       "      <td>Substitution - Missense</td>\n",
       "      <td>Confirmed somatic variant</td>\n",
       "    </tr>\n",
       "  </tbody>\n",
       "</table>\n",
       "<p>1507325 rows × 6 columns</p>\n",
       "</div>"
      ],
      "text/plain": [
       "             index     Primary site Primary histology Mutation AA  \\\n",
       "4                4          stomach         carcinoma     p.T363P   \n",
       "54              54            liver         carcinoma      p.Y71C   \n",
       "76              76       oesophagus         carcinoma     p.S742F   \n",
       "118            118             lung         carcinoma    p.S1364C   \n",
       "120            120    biliary_tract         carcinoma     p.S942R   \n",
       "...            ...              ...               ...         ...   \n",
       "46212234  46212234           kidney         carcinoma    p.T4198A   \n",
       "46212240  46212240             skin         carcinoma     p.S829F   \n",
       "46212296  46212296             skin         carcinoma     p.S772L   \n",
       "46212337  46212337  large_intestine         carcinoma      p.S37F   \n",
       "46212356  46212356             lung         carcinoma     p.Y553N   \n",
       "\n",
       "             Mutation Description    Mutation somatic status  \n",
       "4         Substitution - Missense  Confirmed somatic variant  \n",
       "54        Substitution - Missense  Confirmed somatic variant  \n",
       "76        Substitution - Missense  Confirmed somatic variant  \n",
       "118       Substitution - Missense  Confirmed somatic variant  \n",
       "120       Substitution - Missense  Confirmed somatic variant  \n",
       "...                           ...                        ...  \n",
       "46212234  Substitution - Missense  Confirmed somatic variant  \n",
       "46212240  Substitution - Missense  Confirmed somatic variant  \n",
       "46212296  Substitution - Missense  Confirmed somatic variant  \n",
       "46212337  Substitution - Missense  Confirmed somatic variant  \n",
       "46212356  Substitution - Missense  Confirmed somatic variant  \n",
       "\n",
       "[1507325 rows x 6 columns]"
      ]
     },
     "execution_count": 8,
     "metadata": {},
     "output_type": "execute_result"
    }
   ],
   "source": [
    "df_Cosmic[~df_Cosmic['Mutation AA'].apply(lambda x: x[-1] in ['S','T','Y'])]"
   ]
  },
  {
   "cell_type": "code",
   "execution_count": null,
   "metadata": {},
   "outputs": [],
   "source": []
  },
  {
   "cell_type": "code",
   "execution_count": null,
   "metadata": {},
   "outputs": [],
   "source": []
  },
  {
   "cell_type": "markdown",
   "metadata": {
    "id": "9JL-It-cWQHI"
   },
   "source": [
    "### Filter the dataset"
   ]
  },
  {
   "cell_type": "markdown",
   "metadata": {
    "id": "as5-xFbSZd8Q"
   },
   "source": [
    "Use only missense (substitution) mutations, filter rest"
   ]
  },
  {
   "cell_type": "code",
   "execution_count": 6,
   "metadata": {
    "id": "Co8ouvJIZcp4"
   },
   "outputs": [],
   "source": [
    "df_Cosmic = (df_Cosmic.loc[df_Cosmic['Mutation Description'].str.contains('missense', case=False, na=False)])\n",
    "# df_Cosmic.shape\n",
    "# (10,726,238.   , 7)"
   ]
  },
  {
   "cell_type": "code",
   "execution_count": 6,
   "metadata": {},
   "outputs": [
    {
     "data": {
      "text/html": [
       "<div>\n",
       "<style scoped>\n",
       "    .dataframe tbody tr th:only-of-type {\n",
       "        vertical-align: middle;\n",
       "    }\n",
       "\n",
       "    .dataframe tbody tr th {\n",
       "        vertical-align: top;\n",
       "    }\n",
       "\n",
       "    .dataframe thead th {\n",
       "        text-align: right;\n",
       "    }\n",
       "</style>\n",
       "<table border=\"1\" class=\"dataframe\">\n",
       "  <thead>\n",
       "    <tr style=\"text-align: right;\">\n",
       "      <th></th>\n",
       "      <th>index</th>\n",
       "      <th>Primary site</th>\n",
       "      <th>Primary histology</th>\n",
       "      <th>Mutation AA</th>\n",
       "      <th>Mutation Description</th>\n",
       "      <th>Mutation somatic status</th>\n",
       "    </tr>\n",
       "  </thead>\n",
       "  <tbody>\n",
       "    <tr>\n",
       "      <th>0</th>\n",
       "      <td>0</td>\n",
       "      <td>endometrium</td>\n",
       "      <td>carcinoma</td>\n",
       "      <td>p.S315Y</td>\n",
       "      <td>Substitution - Missense</td>\n",
       "      <td>Confirmed somatic variant</td>\n",
       "    </tr>\n",
       "    <tr>\n",
       "      <th>3</th>\n",
       "      <td>3</td>\n",
       "      <td>endometrium</td>\n",
       "      <td>carcinoma</td>\n",
       "      <td>p.A106V</td>\n",
       "      <td>Substitution - Missense</td>\n",
       "      <td>Confirmed somatic variant</td>\n",
       "    </tr>\n",
       "    <tr>\n",
       "      <th>4</th>\n",
       "      <td>4</td>\n",
       "      <td>stomach</td>\n",
       "      <td>carcinoma</td>\n",
       "      <td>p.T363P</td>\n",
       "      <td>Substitution - Missense</td>\n",
       "      <td>Confirmed somatic variant</td>\n",
       "    </tr>\n",
       "    <tr>\n",
       "      <th>10</th>\n",
       "      <td>10</td>\n",
       "      <td>thyroid</td>\n",
       "      <td>carcinoma</td>\n",
       "      <td>p.P268S</td>\n",
       "      <td>Substitution - Missense</td>\n",
       "      <td>Confirmed somatic variant</td>\n",
       "    </tr>\n",
       "    <tr>\n",
       "      <th>11</th>\n",
       "      <td>11</td>\n",
       "      <td>skin</td>\n",
       "      <td>malignant_melanoma</td>\n",
       "      <td>p.W40C</td>\n",
       "      <td>Substitution - Missense</td>\n",
       "      <td>Confirmed somatic variant</td>\n",
       "    </tr>\n",
       "  </tbody>\n",
       "</table>\n",
       "</div>"
      ],
      "text/plain": [
       "    index Primary site   Primary histology Mutation AA  \\\n",
       "0       0  endometrium           carcinoma     p.S315Y   \n",
       "3       3  endometrium           carcinoma     p.A106V   \n",
       "4       4      stomach           carcinoma     p.T363P   \n",
       "10     10      thyroid           carcinoma     p.P268S   \n",
       "11     11         skin  malignant_melanoma      p.W40C   \n",
       "\n",
       "       Mutation Description    Mutation somatic status  \n",
       "0   Substitution - Missense  Confirmed somatic variant  \n",
       "3   Substitution - Missense  Confirmed somatic variant  \n",
       "4   Substitution - Missense  Confirmed somatic variant  \n",
       "10  Substitution - Missense  Confirmed somatic variant  \n",
       "11  Substitution - Missense  Confirmed somatic variant  "
      ]
     },
     "execution_count": 6,
     "metadata": {},
     "output_type": "execute_result"
    }
   ],
   "source": [
    "df_Cosmic.head()"
   ]
  },
  {
   "cell_type": "markdown",
   "metadata": {
    "id": "dauQ5dc_PY01"
   },
   "source": [
    "Use only somatic mutations, filter out the rest\n",
    "\n",
    "\n",
    "\n"
   ]
  },
  {
   "cell_type": "code",
   "execution_count": 7,
   "metadata": {
    "colab": {
     "base_uri": "https://localhost:8080/"
    },
    "id": "UDY6xz9uPSti",
    "outputId": "ef01bf5f-bf22-428e-bb27-ee817fce5693"
   },
   "outputs": [
    {
     "data": {
      "text/plain": [
       "(10381425, 6)"
      ]
     },
     "execution_count": 7,
     "metadata": {},
     "output_type": "execute_result"
    }
   ],
   "source": [
    "df_Cosmic = df_Cosmic.loc[df_Cosmic['Mutation somatic status'].str.contains('somatic', case=False, na=False)]\n",
    "df_Cosmic.shape\n",
    "# (9,540,587.  , 7)"
   ]
  },
  {
   "cell_type": "markdown",
   "metadata": {
    "id": "bhj-GRit9Qmh"
   },
   "source": [
    "Delete NS rows"
   ]
  },
  {
   "cell_type": "code",
   "execution_count": 8,
   "metadata": {
    "colab": {
     "base_uri": "https://localhost:8080/"
    },
    "id": "8w3Zf4Yl9N0x",
    "outputId": "76d95b28-6511-44a4-80c9-c50f3a4db57a"
   },
   "outputs": [
    {
     "data": {
      "text/plain": [
       "(10219901, 6)"
      ]
     },
     "execution_count": 8,
     "metadata": {},
     "output_type": "execute_result"
    }
   ],
   "source": [
    "df_Cosmic = df_Cosmic.loc[~df_Cosmic['Primary site'].str.contains('NS')]\n",
    "df_Cosmic = df_Cosmic.loc[~df_Cosmic['Primary histology'].str.contains('NS')]\n",
    "df_Cosmic.shape\n",
    "\n",
    "# 9382202, 5)"
   ]
  },
  {
   "cell_type": "markdown",
   "metadata": {
    "id": "UMgLkRZGTQ4v"
   },
   "source": [
    "Clean out some oddball mutations (delins, Sec{selenocysteine})"
   ]
  },
  {
   "cell_type": "markdown",
   "metadata": {
    "id": "7uv8S-xMj5YK"
   },
   "source": [
    ".-So deletions insertions (delins) are where two or more consecutive AA are changed for other ones, and it's not a frameshift or conversion :O... and ec is really \"Sec\"- selenocysteine, the 21th AA :o. Also 'fs'... it refers to frameshift..."
   ]
  },
  {
   "cell_type": "code",
   "execution_count": 9,
   "metadata": {
    "colab": {
     "base_uri": "https://localhost:8080/"
    },
    "id": "M0RAIyjfFGgT",
    "outputId": "6bc6472a-1f15-4eab-abdd-4bded72739d0"
   },
   "outputs": [
    {
     "data": {
      "text/plain": [
       "(10216983, 6)"
      ]
     },
     "execution_count": 9,
     "metadata": {},
     "output_type": "execute_result"
    }
   ],
   "source": [
    "df_Cosmic = df_Cosmic.loc[~df_Cosmic['Mutation AA'].str.contains('delins')]\n",
    "df_Cosmic = df_Cosmic.loc[~df_Cosmic['Mutation AA'].str.contains('Sec')]\n",
    "df_Cosmic = df_Cosmic.loc[~df_Cosmic['Mutation AA'].str.contains('fs')]\n",
    "df_Cosmic = df_Cosmic.loc[~df_Cosmic['Mutation AA'].str.contains('de')]\n",
    "df_Cosmic = df_Cosmic.loc[~df_Cosmic['Mutation AA'].str.contains('ins')]\n",
    "df_Cosmic = df_Cosmic.loc[~df_Cosmic['Mutation AA'].str.contains('du')]\n",
    "# df_Cosmic = df_Cosmic[df_Cosmic['Mutation AA'].apply(lambda x: x[2] in ['S','T','Y'])]\n",
    "\n",
    "df_Cosmic.shape\n",
    "# (9539287, 7). before filtering out the fs's\n",
    "# (9380961, 5) after these myriad filters\n",
    "# (1339030, 5) only STY amino acids and after all these filters"
   ]
  },
  {
   "cell_type": "markdown",
   "metadata": {
    "id": "zxKk_TZ_O1tF"
   },
   "source": [
    "### Generate a column with the current index, to use as index for further merging and duplicate deletion.\n",
    "When merging 2 dataframes on a column which isn't the index, the index is reset... but keeping it will be useful for adding data (from yet unused columns) on the fly."
   ]
  },
  {
   "cell_type": "code",
   "execution_count": 14,
   "metadata": {
    "id": "ahcDuS9_XEmS"
   },
   "outputs": [],
   "source": [
    "#df_Cosmic['indice'] = df_Cosmic.index"
   ]
  },
  {
   "cell_type": "code",
   "execution_count": 14,
   "metadata": {},
   "outputs": [
    {
     "data": {
      "text/plain": [
       "Mutation Description\n",
       "Substitution - Missense    10216983\n",
       "dtype: int64"
      ]
     },
     "execution_count": 14,
     "metadata": {},
     "output_type": "execute_result"
    }
   ],
   "source": [
    "df_Cosmic.groupby('Mutation Description').size()"
   ]
  },
  {
   "cell_type": "code",
   "execution_count": 10,
   "metadata": {
    "id": "cBL8MjiHjOx1"
   },
   "outputs": [],
   "source": [
    "df_Cosmic.to_csv('STY Filtered Cosmic Index.csv',columns=['index'], header=True, index=False)"
   ]
  },
  {
   "cell_type": "markdown",
   "metadata": {
    "id": "cDvyTuQ2SyAz"
   },
   "source": [
    "# Add columns on index!"
   ]
  },
  {
   "cell_type": "markdown",
   "metadata": {
    "id": "uxKhUYhs2g65"
   },
   "source": [
    "Load csv with desired columns, merge on index to the pre-filtered Cosmic df."
   ]
  },
  {
   "cell_type": "code",
   "execution_count": null,
   "metadata": {
    "id": "VVMAx5m7pgZF"
   },
   "outputs": [],
   "source": [
    "# mets_Cosmic = pd.read_csv('/content/DECOMPcosmic.tsv', sep='\\t', usecols=[34]) #tumour origin (metastasis, primary)\n",
    "# mets_Cosmic.head(10)"
   ]
  },
  {
   "cell_type": "code",
   "execution_count": null,
   "metadata": {
    "colab": {
     "base_uri": "https://localhost:8080/"
    },
    "id": "fyTkuBgFRmgx",
    "outputId": "036aeef5-ad17-45dd-896b-82da8f5d4780"
   },
   "outputs": [
    {
     "data": {
      "text/plain": [
       "Index(['Primary site', 'Primary histology', 'Mutation AA',\n",
       "       'Mutation Description', 'Mutation somatic status', 'indice',\n",
       "       'Accession Number', 'Gene name'],\n",
       "      dtype='object')"
      ]
     },
     "execution_count": 42,
     "metadata": {},
     "output_type": "execute_result"
    }
   ],
   "source": [
    "# col_Cosmic = pd.read_csv('/content/DECOMPcosmic.tsv', sep='\\t', usecols=[0]) # gene name\n",
    "# col_Cosmic.head(10)\n",
    "# df_Cosmic.columns"
   ]
  },
  {
   "cell_type": "code",
   "execution_count": null,
   "metadata": {
    "colab": {
     "base_uri": "https://localhost:8080/"
    },
    "id": "L2g6deLcqDU0",
    "outputId": "0fa4207a-a52e-4fdb-e50a-f50355a0cc81"
   },
   "outputs": [
    {
     "data": {
      "text/plain": [
       "(9380985, 8)"
      ]
     },
     "execution_count": 41,
     "metadata": {},
     "output_type": "execute_result"
    }
   ],
   "source": [
    "# enhanced_Cosmic = df_Cosmic.merge(mets_Cosmic, how='inner', left_index=True, right_index=True, validate='1:1' )\n",
    "# enhanced_Cosmic.shape\n",
    "# (9540587, 8)\n",
    "# enhanced_Cosmic.head(3)\n",
    "\n",
    "\n",
    "# df_Cosmic = df_Cosmic.merge(col_Cosmic, how='inner', left_index=True, right_index=True, validate='1:1' )\n",
    "# df_Cosmic.shape"
   ]
  },
  {
   "cell_type": "markdown",
   "metadata": {
    "id": "LNsnlHYYi-qn"
   },
   "source": [
    "# Alternate phosphodata with Pfam domain info"
   ]
  },
  {
   "cell_type": "code",
   "execution_count": null,
   "metadata": {
    "colab": {
     "base_uri": "https://localhost:8080/"
    },
    "id": "bybAAeE3jFve",
    "outputId": "588ed63b-c0ce-4823-a52f-293884463b7c"
   },
   "outputs": [
    {
     "data": {
      "text/plain": [
       "(720721, 5)"
      ]
     },
     "execution_count": 87,
     "metadata": {},
     "output_type": "execute_result"
    }
   ],
   "source": [
    "domain_mapper = pd.read_csv('/content/drive/MyDrive/pdb_pfam_mapping.txt', sep='\\t', header=1, usecols=[4,5,10,11,12])\n",
    "\n",
    "domain_mapper.shape\n",
    "# (720721, 5) original size, limited columns"
   ]
  },
  {
   "cell_type": "code",
   "execution_count": null,
   "metadata": {
    "id": "Nkjek8NwkiTh"
   },
   "outputs": [],
   "source": [
    "# domain_mapper.columns\n",
    "# Index([0'PDB', 1'CHAIN', 2'PDB_START', 3'PDB_END', 4'PFAM_ACCESSION', 5'PFAM_NAME',\n",
    "#        6'AUTH_PDBRES_START', 7'AUTH_PDBRES_START_INS_CODE', 8'AUTH_PDBRES_END',\n",
    "#        9'AUTH_PDBRES_END_INS_CODE', 10'UNIPROT_ACCESSION', 11'UNP_START',\n",
    "#        12'UNP_END'],\n",
    "#       dtype='object')\n",
    "\n",
    "# 4,5,10,11,12 - used columns"
   ]
  },
  {
   "cell_type": "code",
   "execution_count": null,
   "metadata": {
    "id": "BugqQz1lkd2U"
   },
   "outputs": [],
   "source": [
    "# drop repeats of domain mapper, since the families have several entries but they are generated in function of \n",
    "# the uniprot sequence which is unique\n",
    "\n",
    "domain_mapper.drop_duplicates(subset= ['PFAM_ACCESSION'], keep='first', inplace=True, ignore_index=False)"
   ]
  },
  {
   "cell_type": "code",
   "execution_count": null,
   "metadata": {
    "colab": {
     "base_uri": "https://localhost:8080/"
    },
    "id": "bo3B10M1ka0w",
    "outputId": "f9063f22-b35e-4d2d-ff10-836f00d2518d"
   },
   "outputs": [
    {
     "data": {
      "text/plain": [
       "(9305, 5)"
      ]
     },
     "execution_count": 90,
     "metadata": {},
     "output_type": "execute_result"
    }
   ],
   "source": [
    "domain_mapper.shape\n",
    "# (9305, 5) unique domains / pfam accession numbers"
   ]
  },
  {
   "cell_type": "code",
   "execution_count": null,
   "metadata": {
    "id": "GnMNRV1lkVwC"
   },
   "outputs": [],
   "source": [
    "# Load phosphodata and use exclusively isoforms\n",
    "scop3p = pd.read_table(\"/content/drive/MyDrive/Scop3P_confident_Psites.txt\")\n",
    "mappit = pd.read_csv('/content/drive/MyDrive/ID_mapping.txt', sep='\\t', header=0, usecols=[2,3,4])"
   ]
  },
  {
   "cell_type": "code",
   "execution_count": null,
   "metadata": {
    "id": "JK60xQUck8j_"
   },
   "outputs": [],
   "source": [
    "# mappit.columns"
   ]
  },
  {
   "cell_type": "code",
   "execution_count": null,
   "metadata": {
    "id": "BVIJwYgAkRoh"
   },
   "outputs": [],
   "source": [
    "# Clean phosphodata\n",
    "mappit = mappit[mappit['UniProtKB isoform ID'].notnull()]\n",
    "# mappit.dropna(axis = 0, subset = ['UniProtKB/Swiss-Prot ID'], inplace = True)"
   ]
  },
  {
   "cell_type": "code",
   "execution_count": null,
   "metadata": {
    "colab": {
     "base_uri": "https://localhost:8080/"
    },
    "id": "5SHlw2RwkOFw",
    "outputId": "77c164eb-992d-4c22-d5a3-08826a46025c"
   },
   "outputs": [
    {
     "data": {
      "text/plain": [
       "(33045, 3)"
      ]
     },
     "execution_count": 94,
     "metadata": {},
     "output_type": "execute_result"
    }
   ],
   "source": [
    "mappit.shape\n",
    "# (116677, 3) complete dataset\n",
    "# (33045, 3) only not nulls, ie only the rows of isoforms\n",
    "# (47478, 3) both isoforms and pure cannonical"
   ]
  },
  {
   "cell_type": "code",
   "execution_count": null,
   "metadata": {
    "id": "KPnYFMW6kLhu"
   },
   "outputs": [],
   "source": [
    "mappit = mappit.rename(columns={'UniProtKB/Swiss-Prot ID': 'ACC_ID'})"
   ]
  },
  {
   "cell_type": "code",
   "execution_count": null,
   "metadata": {
    "id": "bByN-KFukKBr"
   },
   "outputs": [],
   "source": [
    "phospho_muts = scop3p.merge(mappit, how='inner', on='ACC_ID', validate='m:m' )"
   ]
  },
  {
   "cell_type": "code",
   "execution_count": null,
   "metadata": {
    "colab": {
     "base_uri": "https://localhost:8080/"
    },
    "id": "tC1cDsjFkGCG",
    "outputId": "fe5b89b6-798c-4969-8445-697c3eb54bd8"
   },
   "outputs": [
    {
     "data": {
      "text/plain": [
       "(190959, 5)"
      ]
     },
     "execution_count": 97,
     "metadata": {},
     "output_type": "execute_result"
    }
   ],
   "source": [
    "phospho_muts.shape\n",
    "# (190959, 5) includes only isoforms\n",
    "# (229419, 5) both isoforms and pure cannonical"
   ]
  },
  {
   "cell_type": "code",
   "execution_count": null,
   "metadata": {
    "id": "WKaK0MBZkBa8"
   },
   "outputs": [],
   "source": [
    "#prepare domain mapper for merging with phosphodata \n",
    "domain_mapper = domain_mapper.rename(columns={'UNIPROT_ACCESSION': 'ACC_ID'})"
   ]
  },
  {
   "cell_type": "code",
   "execution_count": null,
   "metadata": {
    "id": "DFV4PPIhj-XZ"
   },
   "outputs": [],
   "source": [
    "pfam_merged = phospho_muts.merge(domain_mapper, how='inner', on='ACC_ID', validate='m:m' )"
   ]
  },
  {
   "cell_type": "code",
   "execution_count": null,
   "metadata": {
    "colab": {
     "base_uri": "https://localhost:8080/"
    },
    "id": "cRJM2cVPj6Tl",
    "outputId": "526b82f9-5211-4ef0-85f2-e899deb0358c"
   },
   "outputs": [
    {
     "data": {
      "text/plain": [
       "(28872, 9)"
      ]
     },
     "execution_count": 100,
     "metadata": {},
     "output_type": "execute_result"
    }
   ],
   "source": [
    "pfam_merged.shape\n",
    "# (28872, 9) only isoforms used here\n",
    "# (33063, 9) both isoforms and pure cannonical"
   ]
  },
  {
   "cell_type": "code",
   "execution_count": null,
   "metadata": {
    "id": "F3O80xX-jxH3"
   },
   "outputs": [],
   "source": [
    "pfam_merged = pfam_merged[pfam_merged.apply(lambda x: (x['UP_POS'] >= x['UNP_START']) & (x['UP_POS']<= x['UNP_END']), axis=1)]"
   ]
  },
  {
   "cell_type": "code",
   "execution_count": null,
   "metadata": {
    "colab": {
     "base_uri": "https://localhost:8080/"
    },
    "id": "1nXKBBn4jsnS",
    "outputId": "1b1abd59-a77a-48d2-b38c-98b2b0358376"
   },
   "outputs": [
    {
     "data": {
      "text/plain": [
       "(2602, 9)"
      ]
     },
     "execution_count": 102,
     "metadata": {},
     "output_type": "execute_result"
    }
   ],
   "source": [
    "pfam_merged.shape\n",
    "# (2602, 9) phosphosites coincide within limits of domains of pfam. Using exclusively the isoforms"
   ]
  },
  {
   "cell_type": "code",
   "execution_count": null,
   "metadata": {
    "id": "S3FOYCiFlftN"
   },
   "outputs": [],
   "source": [
    "df_Cosmic = df_Cosmic.rename(columns={'Accession Number': 'merger'})\n",
    "pfam_merged = pfam_merged.rename(columns={'Transcript stable ID version': 'merger'})"
   ]
  },
  {
   "cell_type": "code",
   "execution_count": null,
   "metadata": {
    "id": "KbNzUWo_mH5y"
   },
   "outputs": [],
   "source": [
    "pfam_mergy = df_Cosmic.merge(pfam_merged, how='inner', on='merger', left_index=False, right_index=False, indicator = False, validate='m:m' )"
   ]
  },
  {
   "cell_type": "code",
   "execution_count": null,
   "metadata": {
    "colab": {
     "base_uri": "https://localhost:8080/"
    },
    "id": "BVCfNWKMmT1r",
    "outputId": "a8a17dc5-ce2b-4e56-bb0d-a562e6f1a255"
   },
   "outputs": [
    {
     "data": {
      "text/plain": [
       "(380564, 15)"
      ]
     },
     "execution_count": 105,
     "metadata": {},
     "output_type": "execute_result"
    }
   ],
   "source": [
    "pfam_mergy.shape"
   ]
  },
  {
   "cell_type": "code",
   "execution_count": null,
   "metadata": {
    "id": "annCmxZkmWZG"
   },
   "outputs": [],
   "source": []
  },
  {
   "cell_type": "markdown",
   "metadata": {
    "id": "r0Gn1t9Lo1DW"
   },
   "source": [
    "# Phosphodata"
   ]
  },
  {
   "cell_type": "markdown",
   "metadata": {
    "id": "DwiiMijukt3O"
   },
   "source": [
    "Load SCOP3P data and mapping data from BioMart!\n",
    "\n"
   ]
  },
  {
   "cell_type": "code",
   "execution_count": null,
   "metadata": {
    "id": "Ip1x7W8Ol2Xe"
   },
   "outputs": [],
   "source": [
    "scop3p = pd.read_table(\"/content/drive/MyDrive/Scop3P_confident_Psites.txt\")\n",
    "# Phosphosite data from SCOP3P."
   ]
  },
  {
   "cell_type": "code",
   "execution_count": null,
   "metadata": {
    "id": "4Nlg8q2AoNXj"
   },
   "outputs": [],
   "source": [
    "# scop3p.shape\n",
    "# (81404, 3)"
   ]
  },
  {
   "cell_type": "code",
   "execution_count": null,
   "metadata": {
    "id": "fmCdmbk_mAnO"
   },
   "outputs": [],
   "source": [
    "mappit = pd.read_csv('/content/drive/MyDrive/ID_mapping.txt', sep='\\t', header=0, usecols=[2,3,4,])\n",
    "#Mapping data from BioMart."
   ]
  },
  {
   "cell_type": "code",
   "execution_count": null,
   "metadata": {
    "id": "eFtDakJboPyg"
   },
   "outputs": [],
   "source": [
    "# mappit.shape\n",
    "# (116677, 6)"
   ]
  },
  {
   "cell_type": "code",
   "execution_count": null,
   "metadata": {
    "id": "k671JHfimBQc"
   },
   "outputs": [],
   "source": [
    "mappit = mappit[mappit['UniProtKB isoform ID'].isnull()]\n",
    "# Take only the entries with no alternative isoforms- so only \n",
    "# keep cannonical versions of the prot."
   ]
  },
  {
   "cell_type": "code",
   "execution_count": null,
   "metadata": {
    "id": "uuiYLlzroUc2"
   },
   "outputs": [],
   "source": [
    "# mappit.shape\n",
    "# (83632, 6)"
   ]
  },
  {
   "cell_type": "code",
   "execution_count": null,
   "metadata": {
    "id": "ZoU8y2vRmFlj"
   },
   "outputs": [],
   "source": [
    "mappit.dropna(axis = 0, subset = ['UniProtKB/Swiss-Prot ID'], inplace = True)\n",
    "# Keep only transcripts that correspond to Unique protein IDs- more than one transcript\n",
    "# might encode for the same prot (think silent mutations...)"
   ]
  },
  {
   "cell_type": "code",
   "execution_count": null,
   "metadata": {
    "colab": {
     "base_uri": "https://localhost:8080/"
    },
    "id": "a58Z2YoHoYj-",
    "outputId": "7f2f6a5c-ad3c-427b-b109-cc30b1cd9025"
   },
   "outputs": [
    {
     "data": {
      "text/plain": [
       "(14433, 3)"
      ]
     },
     "execution_count": 62,
     "metadata": {},
     "output_type": "execute_result"
    }
   ],
   "source": [
    "mappit.shape\n",
    "# (14433, 6)\n",
    "# (47,478, 3) Using non canonical."
   ]
  },
  {
   "cell_type": "code",
   "execution_count": null,
   "metadata": {
    "id": "S18gT0TEmKWe"
   },
   "outputs": [],
   "source": [
    "mappit = mappit.rename(columns={'UniProtKB/Swiss-Prot ID': 'ACC_ID'})\n",
    "# Homogenize column name to use for merging both df's on it."
   ]
  },
  {
   "cell_type": "code",
   "execution_count": null,
   "metadata": {
    "id": "NYcdhrLMmOKc"
   },
   "outputs": [],
   "source": [
    "phospho_muts = scop3p.merge(mappit, how='inner', on='ACC_ID', validate='m:m' )\n",
    "# New, merged df."
   ]
  },
  {
   "cell_type": "code",
   "execution_count": null,
   "metadata": {
    "id": "N6yeWNc5obI-"
   },
   "outputs": [],
   "source": [
    "# phospho_muts.shape\n",
    "# (3,8460, 8)"
   ]
  },
  {
   "cell_type": "code",
   "execution_count": null,
   "metadata": {
    "id": "KY3VIBU_meyA"
   },
   "outputs": [],
   "source": [
    "df_Cosmic = df_Cosmic.rename(columns={'Accession Number': 'merger'})\n",
    "phospho_muts = phospho_muts.rename(columns={'Transcript stable ID version': 'merger'})\n",
    "# Homogenize column names of Cosmic with the previously merged mapping+phosphosite data.\n",
    "# The column to be used for merging corresponds to a unique transcript version."
   ]
  },
  {
   "cell_type": "markdown",
   "metadata": {
    "id": "ZDoDKjlUi_KD"
   },
   "source": [
    "# Merging COSMIC with Phosphodata"
   ]
  },
  {
   "cell_type": "markdown",
   "metadata": {
    "id": "FfxUAQJZE9rH"
   },
   "source": [
    "### Birth of 'Mergy' dataframe (originality and creativity over 9 thousand)"
   ]
  },
  {
   "cell_type": "code",
   "execution_count": null,
   "metadata": {
    "id": "7hzxjizumqfr"
   },
   "outputs": [],
   "source": [
    "mergy = df_Cosmic.merge(phospho_muts, how='inner', on='merger', left_index=False, right_index=False, indicator = False, validate='m:m' )"
   ]
  },
  {
   "cell_type": "code",
   "execution_count": null,
   "metadata": {
    "id": "0orx-eeXboav"
   },
   "outputs": [],
   "source": [
    "# mergy.head(100)"
   ]
  },
  {
   "cell_type": "code",
   "execution_count": null,
   "metadata": {
    "colab": {
     "base_uri": "https://localhost:8080/"
    },
    "id": "oJjqGEaqZpc3",
    "outputId": "f57cf9fb-0726-4160-fe86-b83d6059140a"
   },
   "outputs": [
    {
     "data": {
      "text/plain": [
       "(2892309, 11)"
      ]
     },
     "execution_count": 79,
     "metadata": {},
     "output_type": "execute_result"
    }
   ],
   "source": [
    "mergy.shape\n",
    "# (2938179, 15)\n",
    "# (37629939, 11) With non canonical transcripts.\n",
    "# mergy.columns"
   ]
  },
  {
   "cell_type": "markdown",
   "metadata": {
    "id": "SHVupFba3LJa"
   },
   "source": [
    "### Save Mergy"
   ]
  },
  {
   "cell_type": "code",
   "execution_count": null,
   "metadata": {
    "id": "nIaSaz8tmvZi"
   },
   "outputs": [],
   "source": [
    "# mergy.shape\n",
    "# (2938179, 14)... merged on cannonical transcripts \n",
    "pfam_merged.to_csv('/content/drive/My Drive/non canon index preserved merge.csv', header=True, index=False)"
   ]
  },
  {
   "cell_type": "markdown",
   "metadata": {
    "id": "gJMQw7_33RKZ"
   },
   "source": [
    "# Load Mergy"
   ]
  },
  {
   "cell_type": "code",
   "execution_count": null,
   "metadata": {
    "id": "XUJR-wMES7mr"
   },
   "outputs": [],
   "source": [
    "import pandas as pd\n",
    "mergy = pd.read_csv('/content/drive/My Drive/non canon index preserved mergy.csv', usecols=[3,6,8,9])\n",
    "# mergy.shape\n",
    "# mergy.head(100)"
   ]
  },
  {
   "cell_type": "markdown",
   "metadata": {
    "id": "OqF7K-cjn43I"
   },
   "source": [
    "# Concat non canon with canon"
   ]
  },
  {
   "cell_type": "code",
   "execution_count": null,
   "metadata": {
    "id": "RcRVtWAQn4U0"
   },
   "outputs": [],
   "source": [
    "frames = [mergy, pfam_merged]\n",
    "\n",
    "result = pd.concat(frames)"
   ]
  },
  {
   "cell_type": "code",
   "execution_count": null,
   "metadata": {
    "id": "-QzMqG8SoCXz"
   },
   "outputs": [],
   "source": [
    "result.head(19)"
   ]
  },
  {
   "cell_type": "code",
   "execution_count": null,
   "metadata": {
    "id": "I5D2HpEioTpz"
   },
   "outputs": [],
   "source": [
    "# result.set_index(['indice'], drop=True, append=False, inplace=True, verify_integrity=False) \n",
    "# result.drop_duplicates(subset= ['indice'], keep='first', inplace=True, ignore_index=False)"
   ]
  },
  {
   "cell_type": "code",
   "execution_count": null,
   "metadata": {
    "colab": {
     "base_uri": "https://localhost:8080/"
    },
    "id": "KqdHEZdsooSU",
    "outputId": "de9bad43-0a26-4f74-91fb-69a560499f6a"
   },
   "outputs": [
    {
     "data": {
      "text/plain": [
       "(411766, 15)"
      ]
     },
     "execution_count": 73,
     "metadata": {},
     "output_type": "execute_result"
    }
   ],
   "source": [
    "result.shape"
   ]
  },
  {
   "cell_type": "code",
   "execution_count": null,
   "metadata": {
    "colab": {
     "base_uri": "https://localhost:8080/",
     "height": 1000
    },
    "id": "oEnd2mL-otM-",
    "outputId": "fdbdb067-6ef0-4728-dbf9-12d41d26219c"
   },
   "outputs": [
    {
     "data": {
      "text/html": [
       "\n",
       "  <div id=\"df-e50765a8-9084-4e65-b8ec-c4ff2476af97\">\n",
       "    <div class=\"colab-df-container\">\n",
       "      <div>\n",
       "<style scoped>\n",
       "    .dataframe tbody tr th:only-of-type {\n",
       "        vertical-align: middle;\n",
       "    }\n",
       "\n",
       "    .dataframe tbody tr th {\n",
       "        vertical-align: top;\n",
       "    }\n",
       "\n",
       "    .dataframe thead th {\n",
       "        text-align: right;\n",
       "    }\n",
       "</style>\n",
       "<table border=\"1\" class=\"dataframe\">\n",
       "  <thead>\n",
       "    <tr style=\"text-align: right;\">\n",
       "      <th></th>\n",
       "      <th>merger</th>\n",
       "      <th>Primary site</th>\n",
       "      <th>Primary histology</th>\n",
       "      <th>Mutation AA</th>\n",
       "      <th>Mutation Description</th>\n",
       "      <th>Mutation somatic status</th>\n",
       "      <th>indice</th>\n",
       "      <th>ACC_ID</th>\n",
       "      <th>UP_POS</th>\n",
       "      <th>Modification_name</th>\n",
       "      <th>UniProtKB isoform ID</th>\n",
       "      <th>PFAM_ACCESSION</th>\n",
       "      <th>PFAM_NAME</th>\n",
       "      <th>UNP_START</th>\n",
       "      <th>UNP_END</th>\n",
       "    </tr>\n",
       "  </thead>\n",
       "  <tbody>\n",
       "    <tr>\n",
       "      <th>0</th>\n",
       "      <td>ENST00000256246.5</td>\n",
       "      <td>haematopoietic_and_lymphoid_tissue</td>\n",
       "      <td>lymphoid_neoplasm</td>\n",
       "      <td>p.S1064L</td>\n",
       "      <td>Substitution - Missense</td>\n",
       "      <td>Confirmed somatic variant</td>\n",
       "      <td>11.0</td>\n",
       "      <td>Q9BXT5</td>\n",
       "      <td>914</td>\n",
       "      <td>PhosphoS</td>\n",
       "      <td>NaN</td>\n",
       "      <td>NaN</td>\n",
       "      <td>NaN</td>\n",
       "      <td>NaN</td>\n",
       "      <td>NaN</td>\n",
       "    </tr>\n",
       "    <tr>\n",
       "      <th>1</th>\n",
       "      <td>ENST00000256246.5</td>\n",
       "      <td>stomach</td>\n",
       "      <td>carcinoma</td>\n",
       "      <td>p.Q1135R</td>\n",
       "      <td>Substitution - Missense</td>\n",
       "      <td>Confirmed somatic variant</td>\n",
       "      <td>19093.0</td>\n",
       "      <td>Q9BXT5</td>\n",
       "      <td>914</td>\n",
       "      <td>PhosphoS</td>\n",
       "      <td>NaN</td>\n",
       "      <td>NaN</td>\n",
       "      <td>NaN</td>\n",
       "      <td>NaN</td>\n",
       "      <td>NaN</td>\n",
       "    </tr>\n",
       "    <tr>\n",
       "      <th>2</th>\n",
       "      <td>ENST00000256246.5</td>\n",
       "      <td>thyroid</td>\n",
       "      <td>other</td>\n",
       "      <td>p.N70K</td>\n",
       "      <td>Substitution - Missense</td>\n",
       "      <td>Confirmed somatic variant</td>\n",
       "      <td>75217.0</td>\n",
       "      <td>Q9BXT5</td>\n",
       "      <td>914</td>\n",
       "      <td>PhosphoS</td>\n",
       "      <td>NaN</td>\n",
       "      <td>NaN</td>\n",
       "      <td>NaN</td>\n",
       "      <td>NaN</td>\n",
       "      <td>NaN</td>\n",
       "    </tr>\n",
       "    <tr>\n",
       "      <th>3</th>\n",
       "      <td>ENST00000256246.5</td>\n",
       "      <td>large_intestine</td>\n",
       "      <td>carcinoma</td>\n",
       "      <td>p.K2108T</td>\n",
       "      <td>Substitution - Missense</td>\n",
       "      <td>Confirmed somatic variant</td>\n",
       "      <td>175393.0</td>\n",
       "      <td>Q9BXT5</td>\n",
       "      <td>914</td>\n",
       "      <td>PhosphoS</td>\n",
       "      <td>NaN</td>\n",
       "      <td>NaN</td>\n",
       "      <td>NaN</td>\n",
       "      <td>NaN</td>\n",
       "      <td>NaN</td>\n",
       "    </tr>\n",
       "    <tr>\n",
       "      <th>4</th>\n",
       "      <td>ENST00000256246.5</td>\n",
       "      <td>skin</td>\n",
       "      <td>malignant_melanoma</td>\n",
       "      <td>p.P272S</td>\n",
       "      <td>Substitution - Missense</td>\n",
       "      <td>Confirmed somatic variant</td>\n",
       "      <td>214815.0</td>\n",
       "      <td>Q9BXT5</td>\n",
       "      <td>914</td>\n",
       "      <td>PhosphoS</td>\n",
       "      <td>NaN</td>\n",
       "      <td>NaN</td>\n",
       "      <td>NaN</td>\n",
       "      <td>NaN</td>\n",
       "      <td>NaN</td>\n",
       "    </tr>\n",
       "    <tr>\n",
       "      <th>5</th>\n",
       "      <td>ENST00000256246.5</td>\n",
       "      <td>pancreas</td>\n",
       "      <td>carcinoma</td>\n",
       "      <td>p.T1968A</td>\n",
       "      <td>Substitution - Missense</td>\n",
       "      <td>Confirmed somatic variant</td>\n",
       "      <td>228669.0</td>\n",
       "      <td>Q9BXT5</td>\n",
       "      <td>914</td>\n",
       "      <td>PhosphoS</td>\n",
       "      <td>NaN</td>\n",
       "      <td>NaN</td>\n",
       "      <td>NaN</td>\n",
       "      <td>NaN</td>\n",
       "      <td>NaN</td>\n",
       "    </tr>\n",
       "    <tr>\n",
       "      <th>6</th>\n",
       "      <td>ENST00000256246.5</td>\n",
       "      <td>liver</td>\n",
       "      <td>other</td>\n",
       "      <td>p.S630F</td>\n",
       "      <td>Substitution - Missense</td>\n",
       "      <td>Confirmed somatic variant</td>\n",
       "      <td>240892.0</td>\n",
       "      <td>Q9BXT5</td>\n",
       "      <td>914</td>\n",
       "      <td>PhosphoS</td>\n",
       "      <td>NaN</td>\n",
       "      <td>NaN</td>\n",
       "      <td>NaN</td>\n",
       "      <td>NaN</td>\n",
       "      <td>NaN</td>\n",
       "    </tr>\n",
       "    <tr>\n",
       "      <th>7</th>\n",
       "      <td>ENST00000256246.5</td>\n",
       "      <td>liver</td>\n",
       "      <td>other</td>\n",
       "      <td>p.S1446A</td>\n",
       "      <td>Substitution - Missense</td>\n",
       "      <td>Confirmed somatic variant</td>\n",
       "      <td>280683.0</td>\n",
       "      <td>Q9BXT5</td>\n",
       "      <td>914</td>\n",
       "      <td>PhosphoS</td>\n",
       "      <td>NaN</td>\n",
       "      <td>NaN</td>\n",
       "      <td>NaN</td>\n",
       "      <td>NaN</td>\n",
       "      <td>NaN</td>\n",
       "    </tr>\n",
       "    <tr>\n",
       "      <th>8</th>\n",
       "      <td>ENST00000256246.5</td>\n",
       "      <td>pancreas</td>\n",
       "      <td>carcinoma</td>\n",
       "      <td>p.L2001P</td>\n",
       "      <td>Substitution - Missense</td>\n",
       "      <td>Confirmed somatic variant</td>\n",
       "      <td>305987.0</td>\n",
       "      <td>Q9BXT5</td>\n",
       "      <td>914</td>\n",
       "      <td>PhosphoS</td>\n",
       "      <td>NaN</td>\n",
       "      <td>NaN</td>\n",
       "      <td>NaN</td>\n",
       "      <td>NaN</td>\n",
       "      <td>NaN</td>\n",
       "    </tr>\n",
       "    <tr>\n",
       "      <th>9</th>\n",
       "      <td>ENST00000256246.5</td>\n",
       "      <td>prostate</td>\n",
       "      <td>carcinoma</td>\n",
       "      <td>p.Y1202N</td>\n",
       "      <td>Substitution - Missense</td>\n",
       "      <td>Confirmed somatic variant</td>\n",
       "      <td>339800.0</td>\n",
       "      <td>Q9BXT5</td>\n",
       "      <td>914</td>\n",
       "      <td>PhosphoS</td>\n",
       "      <td>NaN</td>\n",
       "      <td>NaN</td>\n",
       "      <td>NaN</td>\n",
       "      <td>NaN</td>\n",
       "      <td>NaN</td>\n",
       "    </tr>\n",
       "    <tr>\n",
       "      <th>10</th>\n",
       "      <td>ENST00000256246.5</td>\n",
       "      <td>skin</td>\n",
       "      <td>malignant_melanoma</td>\n",
       "      <td>p.R2743Q</td>\n",
       "      <td>Substitution - Missense</td>\n",
       "      <td>Confirmed somatic variant</td>\n",
       "      <td>520994.0</td>\n",
       "      <td>Q9BXT5</td>\n",
       "      <td>914</td>\n",
       "      <td>PhosphoS</td>\n",
       "      <td>NaN</td>\n",
       "      <td>NaN</td>\n",
       "      <td>NaN</td>\n",
       "      <td>NaN</td>\n",
       "      <td>NaN</td>\n",
       "    </tr>\n",
       "    <tr>\n",
       "      <th>11</th>\n",
       "      <td>ENST00000256246.5</td>\n",
       "      <td>haematopoietic_and_lymphoid_tissue</td>\n",
       "      <td>lymphoid_neoplasm</td>\n",
       "      <td>p.S1085L</td>\n",
       "      <td>Substitution - Missense</td>\n",
       "      <td>Confirmed somatic variant</td>\n",
       "      <td>620267.0</td>\n",
       "      <td>Q9BXT5</td>\n",
       "      <td>914</td>\n",
       "      <td>PhosphoS</td>\n",
       "      <td>NaN</td>\n",
       "      <td>NaN</td>\n",
       "      <td>NaN</td>\n",
       "      <td>NaN</td>\n",
       "      <td>NaN</td>\n",
       "    </tr>\n",
       "    <tr>\n",
       "      <th>12</th>\n",
       "      <td>ENST00000256246.5</td>\n",
       "      <td>prostate</td>\n",
       "      <td>carcinoma</td>\n",
       "      <td>p.A1340T</td>\n",
       "      <td>Substitution - Missense</td>\n",
       "      <td>Confirmed somatic variant</td>\n",
       "      <td>734662.0</td>\n",
       "      <td>Q9BXT5</td>\n",
       "      <td>914</td>\n",
       "      <td>PhosphoS</td>\n",
       "      <td>NaN</td>\n",
       "      <td>NaN</td>\n",
       "      <td>NaN</td>\n",
       "      <td>NaN</td>\n",
       "      <td>NaN</td>\n",
       "    </tr>\n",
       "    <tr>\n",
       "      <th>13</th>\n",
       "      <td>ENST00000256246.5</td>\n",
       "      <td>skin</td>\n",
       "      <td>malignant_melanoma</td>\n",
       "      <td>p.R963Q</td>\n",
       "      <td>Substitution - Missense</td>\n",
       "      <td>Confirmed somatic variant</td>\n",
       "      <td>824049.0</td>\n",
       "      <td>Q9BXT5</td>\n",
       "      <td>914</td>\n",
       "      <td>PhosphoS</td>\n",
       "      <td>NaN</td>\n",
       "      <td>NaN</td>\n",
       "      <td>NaN</td>\n",
       "      <td>NaN</td>\n",
       "      <td>NaN</td>\n",
       "    </tr>\n",
       "    <tr>\n",
       "      <th>14</th>\n",
       "      <td>ENST00000256246.5</td>\n",
       "      <td>lung</td>\n",
       "      <td>carcinoma</td>\n",
       "      <td>p.A1755E</td>\n",
       "      <td>Substitution - Missense</td>\n",
       "      <td>Confirmed somatic variant</td>\n",
       "      <td>856194.0</td>\n",
       "      <td>Q9BXT5</td>\n",
       "      <td>914</td>\n",
       "      <td>PhosphoS</td>\n",
       "      <td>NaN</td>\n",
       "      <td>NaN</td>\n",
       "      <td>NaN</td>\n",
       "      <td>NaN</td>\n",
       "      <td>NaN</td>\n",
       "    </tr>\n",
       "    <tr>\n",
       "      <th>15</th>\n",
       "      <td>ENST00000256246.5</td>\n",
       "      <td>skin</td>\n",
       "      <td>malignant_melanoma</td>\n",
       "      <td>p.R2767Q</td>\n",
       "      <td>Substitution - Missense</td>\n",
       "      <td>Confirmed somatic variant</td>\n",
       "      <td>891707.0</td>\n",
       "      <td>Q9BXT5</td>\n",
       "      <td>914</td>\n",
       "      <td>PhosphoS</td>\n",
       "      <td>NaN</td>\n",
       "      <td>NaN</td>\n",
       "      <td>NaN</td>\n",
       "      <td>NaN</td>\n",
       "      <td>NaN</td>\n",
       "    </tr>\n",
       "    <tr>\n",
       "      <th>16</th>\n",
       "      <td>ENST00000256246.5</td>\n",
       "      <td>breast</td>\n",
       "      <td>carcinoma</td>\n",
       "      <td>p.S1658L</td>\n",
       "      <td>Substitution - Missense</td>\n",
       "      <td>Confirmed somatic variant</td>\n",
       "      <td>1001384.0</td>\n",
       "      <td>Q9BXT5</td>\n",
       "      <td>914</td>\n",
       "      <td>PhosphoS</td>\n",
       "      <td>NaN</td>\n",
       "      <td>NaN</td>\n",
       "      <td>NaN</td>\n",
       "      <td>NaN</td>\n",
       "      <td>NaN</td>\n",
       "    </tr>\n",
       "    <tr>\n",
       "      <th>17</th>\n",
       "      <td>ENST00000256246.5</td>\n",
       "      <td>breast</td>\n",
       "      <td>carcinoma</td>\n",
       "      <td>p.A1891V</td>\n",
       "      <td>Substitution - Missense</td>\n",
       "      <td>Confirmed somatic variant</td>\n",
       "      <td>1067585.0</td>\n",
       "      <td>Q9BXT5</td>\n",
       "      <td>914</td>\n",
       "      <td>PhosphoS</td>\n",
       "      <td>NaN</td>\n",
       "      <td>NaN</td>\n",
       "      <td>NaN</td>\n",
       "      <td>NaN</td>\n",
       "      <td>NaN</td>\n",
       "    </tr>\n",
       "    <tr>\n",
       "      <th>18</th>\n",
       "      <td>ENST00000256246.5</td>\n",
       "      <td>pancreas</td>\n",
       "      <td>carcinoma</td>\n",
       "      <td>p.N1039D</td>\n",
       "      <td>Substitution - Missense</td>\n",
       "      <td>Confirmed somatic variant</td>\n",
       "      <td>1076185.0</td>\n",
       "      <td>Q9BXT5</td>\n",
       "      <td>914</td>\n",
       "      <td>PhosphoS</td>\n",
       "      <td>NaN</td>\n",
       "      <td>NaN</td>\n",
       "      <td>NaN</td>\n",
       "      <td>NaN</td>\n",
       "      <td>NaN</td>\n",
       "    </tr>\n",
       "    <tr>\n",
       "      <th>19</th>\n",
       "      <td>ENST00000256246.5</td>\n",
       "      <td>large_intestine</td>\n",
       "      <td>carcinoma</td>\n",
       "      <td>p.S2412L</td>\n",
       "      <td>Substitution - Missense</td>\n",
       "      <td>Confirmed somatic variant</td>\n",
       "      <td>1097021.0</td>\n",
       "      <td>Q9BXT5</td>\n",
       "      <td>914</td>\n",
       "      <td>PhosphoS</td>\n",
       "      <td>NaN</td>\n",
       "      <td>NaN</td>\n",
       "      <td>NaN</td>\n",
       "      <td>NaN</td>\n",
       "      <td>NaN</td>\n",
       "    </tr>\n",
       "    <tr>\n",
       "      <th>20</th>\n",
       "      <td>ENST00000256246.5</td>\n",
       "      <td>stomach</td>\n",
       "      <td>carcinoma</td>\n",
       "      <td>p.I2278M</td>\n",
       "      <td>Substitution - Missense</td>\n",
       "      <td>Confirmed somatic variant</td>\n",
       "      <td>1250644.0</td>\n",
       "      <td>Q9BXT5</td>\n",
       "      <td>914</td>\n",
       "      <td>PhosphoS</td>\n",
       "      <td>NaN</td>\n",
       "      <td>NaN</td>\n",
       "      <td>NaN</td>\n",
       "      <td>NaN</td>\n",
       "      <td>NaN</td>\n",
       "    </tr>\n",
       "    <tr>\n",
       "      <th>21</th>\n",
       "      <td>ENST00000256246.5</td>\n",
       "      <td>skin</td>\n",
       "      <td>malignant_melanoma</td>\n",
       "      <td>p.E511K</td>\n",
       "      <td>Substitution - Missense</td>\n",
       "      <td>Confirmed somatic variant</td>\n",
       "      <td>1435824.0</td>\n",
       "      <td>Q9BXT5</td>\n",
       "      <td>914</td>\n",
       "      <td>PhosphoS</td>\n",
       "      <td>NaN</td>\n",
       "      <td>NaN</td>\n",
       "      <td>NaN</td>\n",
       "      <td>NaN</td>\n",
       "      <td>NaN</td>\n",
       "    </tr>\n",
       "    <tr>\n",
       "      <th>22</th>\n",
       "      <td>ENST00000256246.5</td>\n",
       "      <td>skin</td>\n",
       "      <td>malignant_melanoma</td>\n",
       "      <td>p.P1946S</td>\n",
       "      <td>Substitution - Missense</td>\n",
       "      <td>Confirmed somatic variant</td>\n",
       "      <td>1564982.0</td>\n",
       "      <td>Q9BXT5</td>\n",
       "      <td>914</td>\n",
       "      <td>PhosphoS</td>\n",
       "      <td>NaN</td>\n",
       "      <td>NaN</td>\n",
       "      <td>NaN</td>\n",
       "      <td>NaN</td>\n",
       "      <td>NaN</td>\n",
       "    </tr>\n",
       "    <tr>\n",
       "      <th>23</th>\n",
       "      <td>ENST00000256246.5</td>\n",
       "      <td>endometrium</td>\n",
       "      <td>carcinoma</td>\n",
       "      <td>p.P2056S</td>\n",
       "      <td>Substitution - Missense</td>\n",
       "      <td>Confirmed somatic variant</td>\n",
       "      <td>1584403.0</td>\n",
       "      <td>Q9BXT5</td>\n",
       "      <td>914</td>\n",
       "      <td>PhosphoS</td>\n",
       "      <td>NaN</td>\n",
       "      <td>NaN</td>\n",
       "      <td>NaN</td>\n",
       "      <td>NaN</td>\n",
       "      <td>NaN</td>\n",
       "    </tr>\n",
       "    <tr>\n",
       "      <th>24</th>\n",
       "      <td>ENST00000256246.5</td>\n",
       "      <td>large_intestine</td>\n",
       "      <td>carcinoma</td>\n",
       "      <td>p.H2523R</td>\n",
       "      <td>Substitution - Missense</td>\n",
       "      <td>Confirmed somatic variant</td>\n",
       "      <td>1676695.0</td>\n",
       "      <td>Q9BXT5</td>\n",
       "      <td>914</td>\n",
       "      <td>PhosphoS</td>\n",
       "      <td>NaN</td>\n",
       "      <td>NaN</td>\n",
       "      <td>NaN</td>\n",
       "      <td>NaN</td>\n",
       "      <td>NaN</td>\n",
       "    </tr>\n",
       "    <tr>\n",
       "      <th>25</th>\n",
       "      <td>ENST00000256246.5</td>\n",
       "      <td>skin</td>\n",
       "      <td>malignant_melanoma</td>\n",
       "      <td>p.S2421L</td>\n",
       "      <td>Substitution - Missense</td>\n",
       "      <td>Confirmed somatic variant</td>\n",
       "      <td>1717849.0</td>\n",
       "      <td>Q9BXT5</td>\n",
       "      <td>914</td>\n",
       "      <td>PhosphoS</td>\n",
       "      <td>NaN</td>\n",
       "      <td>NaN</td>\n",
       "      <td>NaN</td>\n",
       "      <td>NaN</td>\n",
       "      <td>NaN</td>\n",
       "    </tr>\n",
       "    <tr>\n",
       "      <th>26</th>\n",
       "      <td>ENST00000256246.5</td>\n",
       "      <td>central_nervous_system</td>\n",
       "      <td>glioma</td>\n",
       "      <td>p.N2634S</td>\n",
       "      <td>Substitution - Missense</td>\n",
       "      <td>Confirmed somatic variant</td>\n",
       "      <td>1779364.0</td>\n",
       "      <td>Q9BXT5</td>\n",
       "      <td>914</td>\n",
       "      <td>PhosphoS</td>\n",
       "      <td>NaN</td>\n",
       "      <td>NaN</td>\n",
       "      <td>NaN</td>\n",
       "      <td>NaN</td>\n",
       "      <td>NaN</td>\n",
       "    </tr>\n",
       "    <tr>\n",
       "      <th>27</th>\n",
       "      <td>ENST00000256246.5</td>\n",
       "      <td>stomach</td>\n",
       "      <td>carcinoma</td>\n",
       "      <td>p.I1460M</td>\n",
       "      <td>Substitution - Missense</td>\n",
       "      <td>Confirmed somatic variant</td>\n",
       "      <td>1897485.0</td>\n",
       "      <td>Q9BXT5</td>\n",
       "      <td>914</td>\n",
       "      <td>PhosphoS</td>\n",
       "      <td>NaN</td>\n",
       "      <td>NaN</td>\n",
       "      <td>NaN</td>\n",
       "      <td>NaN</td>\n",
       "      <td>NaN</td>\n",
       "    </tr>\n",
       "    <tr>\n",
       "      <th>28</th>\n",
       "      <td>ENST00000256246.5</td>\n",
       "      <td>stomach</td>\n",
       "      <td>carcinoma</td>\n",
       "      <td>p.D1216G</td>\n",
       "      <td>Substitution - Missense</td>\n",
       "      <td>Confirmed somatic variant</td>\n",
       "      <td>1910062.0</td>\n",
       "      <td>Q9BXT5</td>\n",
       "      <td>914</td>\n",
       "      <td>PhosphoS</td>\n",
       "      <td>NaN</td>\n",
       "      <td>NaN</td>\n",
       "      <td>NaN</td>\n",
       "      <td>NaN</td>\n",
       "      <td>NaN</td>\n",
       "    </tr>\n",
       "    <tr>\n",
       "      <th>29</th>\n",
       "      <td>ENST00000256246.5</td>\n",
       "      <td>lung</td>\n",
       "      <td>carcinoma</td>\n",
       "      <td>p.L2015F</td>\n",
       "      <td>Substitution - Missense</td>\n",
       "      <td>Confirmed somatic variant</td>\n",
       "      <td>1989269.0</td>\n",
       "      <td>Q9BXT5</td>\n",
       "      <td>914</td>\n",
       "      <td>PhosphoS</td>\n",
       "      <td>NaN</td>\n",
       "      <td>NaN</td>\n",
       "      <td>NaN</td>\n",
       "      <td>NaN</td>\n",
       "      <td>NaN</td>\n",
       "    </tr>\n",
       "    <tr>\n",
       "      <th>30</th>\n",
       "      <td>ENST00000256246.5</td>\n",
       "      <td>endometrium</td>\n",
       "      <td>carcinoma</td>\n",
       "      <td>p.F1889V</td>\n",
       "      <td>Substitution - Missense</td>\n",
       "      <td>Confirmed somatic variant</td>\n",
       "      <td>2029809.0</td>\n",
       "      <td>Q9BXT5</td>\n",
       "      <td>914</td>\n",
       "      <td>PhosphoS</td>\n",
       "      <td>NaN</td>\n",
       "      <td>NaN</td>\n",
       "      <td>NaN</td>\n",
       "      <td>NaN</td>\n",
       "      <td>NaN</td>\n",
       "    </tr>\n",
       "    <tr>\n",
       "      <th>31</th>\n",
       "      <td>ENST00000256246.5</td>\n",
       "      <td>prostate</td>\n",
       "      <td>carcinoma</td>\n",
       "      <td>p.N727Y</td>\n",
       "      <td>Substitution - Missense</td>\n",
       "      <td>Confirmed somatic variant</td>\n",
       "      <td>2074583.0</td>\n",
       "      <td>Q9BXT5</td>\n",
       "      <td>914</td>\n",
       "      <td>PhosphoS</td>\n",
       "      <td>NaN</td>\n",
       "      <td>NaN</td>\n",
       "      <td>NaN</td>\n",
       "      <td>NaN</td>\n",
       "      <td>NaN</td>\n",
       "    </tr>\n",
       "    <tr>\n",
       "      <th>32</th>\n",
       "      <td>ENST00000256246.5</td>\n",
       "      <td>central_nervous_system</td>\n",
       "      <td>glioma</td>\n",
       "      <td>p.A2409T</td>\n",
       "      <td>Substitution - Missense</td>\n",
       "      <td>Confirmed somatic variant</td>\n",
       "      <td>2164046.0</td>\n",
       "      <td>Q9BXT5</td>\n",
       "      <td>914</td>\n",
       "      <td>PhosphoS</td>\n",
       "      <td>NaN</td>\n",
       "      <td>NaN</td>\n",
       "      <td>NaN</td>\n",
       "      <td>NaN</td>\n",
       "      <td>NaN</td>\n",
       "    </tr>\n",
       "    <tr>\n",
       "      <th>33</th>\n",
       "      <td>ENST00000256246.5</td>\n",
       "      <td>ovary</td>\n",
       "      <td>carcinoma</td>\n",
       "      <td>p.R716C</td>\n",
       "      <td>Substitution - Missense</td>\n",
       "      <td>Confirmed somatic variant</td>\n",
       "      <td>2196482.0</td>\n",
       "      <td>Q9BXT5</td>\n",
       "      <td>914</td>\n",
       "      <td>PhosphoS</td>\n",
       "      <td>NaN</td>\n",
       "      <td>NaN</td>\n",
       "      <td>NaN</td>\n",
       "      <td>NaN</td>\n",
       "      <td>NaN</td>\n",
       "    </tr>\n",
       "    <tr>\n",
       "      <th>34</th>\n",
       "      <td>ENST00000256246.5</td>\n",
       "      <td>central_nervous_system</td>\n",
       "      <td>glioma</td>\n",
       "      <td>p.Q2572K</td>\n",
       "      <td>Substitution - Missense</td>\n",
       "      <td>Confirmed somatic variant</td>\n",
       "      <td>2196967.0</td>\n",
       "      <td>Q9BXT5</td>\n",
       "      <td>914</td>\n",
       "      <td>PhosphoS</td>\n",
       "      <td>NaN</td>\n",
       "      <td>NaN</td>\n",
       "      <td>NaN</td>\n",
       "      <td>NaN</td>\n",
       "      <td>NaN</td>\n",
       "    </tr>\n",
       "    <tr>\n",
       "      <th>35</th>\n",
       "      <td>ENST00000256246.5</td>\n",
       "      <td>lung</td>\n",
       "      <td>carcinoma</td>\n",
       "      <td>p.D465H</td>\n",
       "      <td>Substitution - Missense</td>\n",
       "      <td>Confirmed somatic variant</td>\n",
       "      <td>2198031.0</td>\n",
       "      <td>Q9BXT5</td>\n",
       "      <td>914</td>\n",
       "      <td>PhosphoS</td>\n",
       "      <td>NaN</td>\n",
       "      <td>NaN</td>\n",
       "      <td>NaN</td>\n",
       "      <td>NaN</td>\n",
       "      <td>NaN</td>\n",
       "    </tr>\n",
       "    <tr>\n",
       "      <th>36</th>\n",
       "      <td>ENST00000256246.5</td>\n",
       "      <td>skin</td>\n",
       "      <td>carcinoma</td>\n",
       "      <td>p.L1808F</td>\n",
       "      <td>Substitution - Missense</td>\n",
       "      <td>Confirmed somatic variant</td>\n",
       "      <td>2328316.0</td>\n",
       "      <td>Q9BXT5</td>\n",
       "      <td>914</td>\n",
       "      <td>PhosphoS</td>\n",
       "      <td>NaN</td>\n",
       "      <td>NaN</td>\n",
       "      <td>NaN</td>\n",
       "      <td>NaN</td>\n",
       "      <td>NaN</td>\n",
       "    </tr>\n",
       "    <tr>\n",
       "      <th>37</th>\n",
       "      <td>ENST00000256246.5</td>\n",
       "      <td>stomach</td>\n",
       "      <td>carcinoma</td>\n",
       "      <td>p.H619R</td>\n",
       "      <td>Substitution - Missense</td>\n",
       "      <td>Confirmed somatic variant</td>\n",
       "      <td>2386991.0</td>\n",
       "      <td>Q9BXT5</td>\n",
       "      <td>914</td>\n",
       "      <td>PhosphoS</td>\n",
       "      <td>NaN</td>\n",
       "      <td>NaN</td>\n",
       "      <td>NaN</td>\n",
       "      <td>NaN</td>\n",
       "      <td>NaN</td>\n",
       "    </tr>\n",
       "    <tr>\n",
       "      <th>38</th>\n",
       "      <td>ENST00000256246.5</td>\n",
       "      <td>skin</td>\n",
       "      <td>malignant_melanoma</td>\n",
       "      <td>p.E511K</td>\n",
       "      <td>Substitution - Missense</td>\n",
       "      <td>Confirmed somatic variant</td>\n",
       "      <td>2481241.0</td>\n",
       "      <td>Q9BXT5</td>\n",
       "      <td>914</td>\n",
       "      <td>PhosphoS</td>\n",
       "      <td>NaN</td>\n",
       "      <td>NaN</td>\n",
       "      <td>NaN</td>\n",
       "      <td>NaN</td>\n",
       "      <td>NaN</td>\n",
       "    </tr>\n",
       "    <tr>\n",
       "      <th>39</th>\n",
       "      <td>ENST00000256246.5</td>\n",
       "      <td>lung</td>\n",
       "      <td>carcinoma</td>\n",
       "      <td>p.D297H</td>\n",
       "      <td>Substitution - Missense</td>\n",
       "      <td>Confirmed somatic variant</td>\n",
       "      <td>2528840.0</td>\n",
       "      <td>Q9BXT5</td>\n",
       "      <td>914</td>\n",
       "      <td>PhosphoS</td>\n",
       "      <td>NaN</td>\n",
       "      <td>NaN</td>\n",
       "      <td>NaN</td>\n",
       "      <td>NaN</td>\n",
       "      <td>NaN</td>\n",
       "    </tr>\n",
       "    <tr>\n",
       "      <th>40</th>\n",
       "      <td>ENST00000256246.5</td>\n",
       "      <td>lung</td>\n",
       "      <td>carcinoma</td>\n",
       "      <td>p.D821N</td>\n",
       "      <td>Substitution - Missense</td>\n",
       "      <td>Confirmed somatic variant</td>\n",
       "      <td>2556195.0</td>\n",
       "      <td>Q9BXT5</td>\n",
       "      <td>914</td>\n",
       "      <td>PhosphoS</td>\n",
       "      <td>NaN</td>\n",
       "      <td>NaN</td>\n",
       "      <td>NaN</td>\n",
       "      <td>NaN</td>\n",
       "      <td>NaN</td>\n",
       "    </tr>\n",
       "    <tr>\n",
       "      <th>41</th>\n",
       "      <td>ENST00000256246.5</td>\n",
       "      <td>breast</td>\n",
       "      <td>carcinoma</td>\n",
       "      <td>p.E1409Q</td>\n",
       "      <td>Substitution - Missense</td>\n",
       "      <td>Confirmed somatic variant</td>\n",
       "      <td>2579499.0</td>\n",
       "      <td>Q9BXT5</td>\n",
       "      <td>914</td>\n",
       "      <td>PhosphoS</td>\n",
       "      <td>NaN</td>\n",
       "      <td>NaN</td>\n",
       "      <td>NaN</td>\n",
       "      <td>NaN</td>\n",
       "      <td>NaN</td>\n",
       "    </tr>\n",
       "    <tr>\n",
       "      <th>42</th>\n",
       "      <td>ENST00000256246.5</td>\n",
       "      <td>cervix</td>\n",
       "      <td>carcinoma</td>\n",
       "      <td>p.E2057K</td>\n",
       "      <td>Substitution - Missense</td>\n",
       "      <td>Confirmed somatic variant</td>\n",
       "      <td>2611507.0</td>\n",
       "      <td>Q9BXT5</td>\n",
       "      <td>914</td>\n",
       "      <td>PhosphoS</td>\n",
       "      <td>NaN</td>\n",
       "      <td>NaN</td>\n",
       "      <td>NaN</td>\n",
       "      <td>NaN</td>\n",
       "      <td>NaN</td>\n",
       "    </tr>\n",
       "    <tr>\n",
       "      <th>43</th>\n",
       "      <td>ENST00000256246.5</td>\n",
       "      <td>liver</td>\n",
       "      <td>carcinoma</td>\n",
       "      <td>p.S291Y</td>\n",
       "      <td>Substitution - Missense</td>\n",
       "      <td>Confirmed somatic variant</td>\n",
       "      <td>2752236.0</td>\n",
       "      <td>Q9BXT5</td>\n",
       "      <td>914</td>\n",
       "      <td>PhosphoS</td>\n",
       "      <td>NaN</td>\n",
       "      <td>NaN</td>\n",
       "      <td>NaN</td>\n",
       "      <td>NaN</td>\n",
       "      <td>NaN</td>\n",
       "    </tr>\n",
       "    <tr>\n",
       "      <th>44</th>\n",
       "      <td>ENST00000256246.5</td>\n",
       "      <td>skin</td>\n",
       "      <td>carcinoma</td>\n",
       "      <td>p.E511K</td>\n",
       "      <td>Substitution - Missense</td>\n",
       "      <td>Confirmed somatic variant</td>\n",
       "      <td>2777529.0</td>\n",
       "      <td>Q9BXT5</td>\n",
       "      <td>914</td>\n",
       "      <td>PhosphoS</td>\n",
       "      <td>NaN</td>\n",
       "      <td>NaN</td>\n",
       "      <td>NaN</td>\n",
       "      <td>NaN</td>\n",
       "      <td>NaN</td>\n",
       "    </tr>\n",
       "    <tr>\n",
       "      <th>45</th>\n",
       "      <td>ENST00000256246.5</td>\n",
       "      <td>lung</td>\n",
       "      <td>carcinoma</td>\n",
       "      <td>p.Q1165K</td>\n",
       "      <td>Substitution - Missense</td>\n",
       "      <td>Confirmed somatic variant</td>\n",
       "      <td>2783573.0</td>\n",
       "      <td>Q9BXT5</td>\n",
       "      <td>914</td>\n",
       "      <td>PhosphoS</td>\n",
       "      <td>NaN</td>\n",
       "      <td>NaN</td>\n",
       "      <td>NaN</td>\n",
       "      <td>NaN</td>\n",
       "      <td>NaN</td>\n",
       "    </tr>\n",
       "    <tr>\n",
       "      <th>46</th>\n",
       "      <td>ENST00000256246.5</td>\n",
       "      <td>liver</td>\n",
       "      <td>other</td>\n",
       "      <td>p.D1802Y</td>\n",
       "      <td>Substitution - Missense</td>\n",
       "      <td>Confirmed somatic variant</td>\n",
       "      <td>2784550.0</td>\n",
       "      <td>Q9BXT5</td>\n",
       "      <td>914</td>\n",
       "      <td>PhosphoS</td>\n",
       "      <td>NaN</td>\n",
       "      <td>NaN</td>\n",
       "      <td>NaN</td>\n",
       "      <td>NaN</td>\n",
       "      <td>NaN</td>\n",
       "    </tr>\n",
       "    <tr>\n",
       "      <th>47</th>\n",
       "      <td>ENST00000256246.5</td>\n",
       "      <td>skin</td>\n",
       "      <td>malignant_melanoma</td>\n",
       "      <td>p.S2291F</td>\n",
       "      <td>Substitution - Missense</td>\n",
       "      <td>Confirmed somatic variant</td>\n",
       "      <td>2796674.0</td>\n",
       "      <td>Q9BXT5</td>\n",
       "      <td>914</td>\n",
       "      <td>PhosphoS</td>\n",
       "      <td>NaN</td>\n",
       "      <td>NaN</td>\n",
       "      <td>NaN</td>\n",
       "      <td>NaN</td>\n",
       "      <td>NaN</td>\n",
       "    </tr>\n",
       "    <tr>\n",
       "      <th>48</th>\n",
       "      <td>ENST00000256246.5</td>\n",
       "      <td>large_intestine</td>\n",
       "      <td>carcinoma</td>\n",
       "      <td>p.L1682S</td>\n",
       "      <td>Substitution - Missense</td>\n",
       "      <td>Confirmed somatic variant</td>\n",
       "      <td>2806071.0</td>\n",
       "      <td>Q9BXT5</td>\n",
       "      <td>914</td>\n",
       "      <td>PhosphoS</td>\n",
       "      <td>NaN</td>\n",
       "      <td>NaN</td>\n",
       "      <td>NaN</td>\n",
       "      <td>NaN</td>\n",
       "      <td>NaN</td>\n",
       "    </tr>\n",
       "    <tr>\n",
       "      <th>49</th>\n",
       "      <td>ENST00000256246.5</td>\n",
       "      <td>skin</td>\n",
       "      <td>malignant_melanoma</td>\n",
       "      <td>p.E1188D</td>\n",
       "      <td>Substitution - Missense</td>\n",
       "      <td>Confirmed somatic variant</td>\n",
       "      <td>2970736.0</td>\n",
       "      <td>Q9BXT5</td>\n",
       "      <td>914</td>\n",
       "      <td>PhosphoS</td>\n",
       "      <td>NaN</td>\n",
       "      <td>NaN</td>\n",
       "      <td>NaN</td>\n",
       "      <td>NaN</td>\n",
       "      <td>NaN</td>\n",
       "    </tr>\n",
       "  </tbody>\n",
       "</table>\n",
       "</div>\n",
       "      <button class=\"colab-df-convert\" onclick=\"convertToInteractive('df-e50765a8-9084-4e65-b8ec-c4ff2476af97')\"\n",
       "              title=\"Convert this dataframe to an interactive table.\"\n",
       "              style=\"display:none;\">\n",
       "        \n",
       "  <svg xmlns=\"http://www.w3.org/2000/svg\" height=\"24px\"viewBox=\"0 0 24 24\"\n",
       "       width=\"24px\">\n",
       "    <path d=\"M0 0h24v24H0V0z\" fill=\"none\"/>\n",
       "    <path d=\"M18.56 5.44l.94 2.06.94-2.06 2.06-.94-2.06-.94-.94-2.06-.94 2.06-2.06.94zm-11 1L8.5 8.5l.94-2.06 2.06-.94-2.06-.94L8.5 2.5l-.94 2.06-2.06.94zm10 10l.94 2.06.94-2.06 2.06-.94-2.06-.94-.94-2.06-.94 2.06-2.06.94z\"/><path d=\"M17.41 7.96l-1.37-1.37c-.4-.4-.92-.59-1.43-.59-.52 0-1.04.2-1.43.59L10.3 9.45l-7.72 7.72c-.78.78-.78 2.05 0 2.83L4 21.41c.39.39.9.59 1.41.59.51 0 1.02-.2 1.41-.59l7.78-7.78 2.81-2.81c.8-.78.8-2.07 0-2.86zM5.41 20L4 18.59l7.72-7.72 1.47 1.35L5.41 20z\"/>\n",
       "  </svg>\n",
       "      </button>\n",
       "      \n",
       "  <style>\n",
       "    .colab-df-container {\n",
       "      display:flex;\n",
       "      flex-wrap:wrap;\n",
       "      gap: 12px;\n",
       "    }\n",
       "\n",
       "    .colab-df-convert {\n",
       "      background-color: #E8F0FE;\n",
       "      border: none;\n",
       "      border-radius: 50%;\n",
       "      cursor: pointer;\n",
       "      display: none;\n",
       "      fill: #1967D2;\n",
       "      height: 32px;\n",
       "      padding: 0 0 0 0;\n",
       "      width: 32px;\n",
       "    }\n",
       "\n",
       "    .colab-df-convert:hover {\n",
       "      background-color: #E2EBFA;\n",
       "      box-shadow: 0px 1px 2px rgba(60, 64, 67, 0.3), 0px 1px 3px 1px rgba(60, 64, 67, 0.15);\n",
       "      fill: #174EA6;\n",
       "    }\n",
       "\n",
       "    [theme=dark] .colab-df-convert {\n",
       "      background-color: #3B4455;\n",
       "      fill: #D2E3FC;\n",
       "    }\n",
       "\n",
       "    [theme=dark] .colab-df-convert:hover {\n",
       "      background-color: #434B5C;\n",
       "      box-shadow: 0px 1px 3px 1px rgba(0, 0, 0, 0.15);\n",
       "      filter: drop-shadow(0px 1px 2px rgba(0, 0, 0, 0.3));\n",
       "      fill: #FFFFFF;\n",
       "    }\n",
       "  </style>\n",
       "\n",
       "      <script>\n",
       "        const buttonEl =\n",
       "          document.querySelector('#df-e50765a8-9084-4e65-b8ec-c4ff2476af97 button.colab-df-convert');\n",
       "        buttonEl.style.display =\n",
       "          google.colab.kernel.accessAllowed ? 'block' : 'none';\n",
       "\n",
       "        async function convertToInteractive(key) {\n",
       "          const element = document.querySelector('#df-e50765a8-9084-4e65-b8ec-c4ff2476af97');\n",
       "          const dataTable =\n",
       "            await google.colab.kernel.invokeFunction('convertToInteractive',\n",
       "                                                     [key], {});\n",
       "          if (!dataTable) return;\n",
       "\n",
       "          const docLinkHtml = 'Like what you see? Visit the ' +\n",
       "            '<a target=\"_blank\" href=https://colab.research.google.com/notebooks/data_table.ipynb>data table notebook</a>'\n",
       "            + ' to learn more about interactive tables.';\n",
       "          element.innerHTML = '';\n",
       "          dataTable['output_type'] = 'display_data';\n",
       "          await google.colab.output.renderOutput(dataTable, element);\n",
       "          const docLink = document.createElement('div');\n",
       "          docLink.innerHTML = docLinkHtml;\n",
       "          element.appendChild(docLink);\n",
       "        }\n",
       "      </script>\n",
       "    </div>\n",
       "  </div>\n",
       "  "
      ],
      "text/plain": [
       "               merger                        Primary site  ... UNP_START UNP_END\n",
       "0   ENST00000256246.5  haematopoietic_and_lymphoid_tissue  ...       NaN     NaN\n",
       "1   ENST00000256246.5                             stomach  ...       NaN     NaN\n",
       "2   ENST00000256246.5                             thyroid  ...       NaN     NaN\n",
       "3   ENST00000256246.5                     large_intestine  ...       NaN     NaN\n",
       "4   ENST00000256246.5                                skin  ...       NaN     NaN\n",
       "5   ENST00000256246.5                            pancreas  ...       NaN     NaN\n",
       "6   ENST00000256246.5                               liver  ...       NaN     NaN\n",
       "7   ENST00000256246.5                               liver  ...       NaN     NaN\n",
       "8   ENST00000256246.5                            pancreas  ...       NaN     NaN\n",
       "9   ENST00000256246.5                            prostate  ...       NaN     NaN\n",
       "10  ENST00000256246.5                                skin  ...       NaN     NaN\n",
       "11  ENST00000256246.5  haematopoietic_and_lymphoid_tissue  ...       NaN     NaN\n",
       "12  ENST00000256246.5                            prostate  ...       NaN     NaN\n",
       "13  ENST00000256246.5                                skin  ...       NaN     NaN\n",
       "14  ENST00000256246.5                                lung  ...       NaN     NaN\n",
       "15  ENST00000256246.5                                skin  ...       NaN     NaN\n",
       "16  ENST00000256246.5                              breast  ...       NaN     NaN\n",
       "17  ENST00000256246.5                              breast  ...       NaN     NaN\n",
       "18  ENST00000256246.5                            pancreas  ...       NaN     NaN\n",
       "19  ENST00000256246.5                     large_intestine  ...       NaN     NaN\n",
       "20  ENST00000256246.5                             stomach  ...       NaN     NaN\n",
       "21  ENST00000256246.5                                skin  ...       NaN     NaN\n",
       "22  ENST00000256246.5                                skin  ...       NaN     NaN\n",
       "23  ENST00000256246.5                         endometrium  ...       NaN     NaN\n",
       "24  ENST00000256246.5                     large_intestine  ...       NaN     NaN\n",
       "25  ENST00000256246.5                                skin  ...       NaN     NaN\n",
       "26  ENST00000256246.5              central_nervous_system  ...       NaN     NaN\n",
       "27  ENST00000256246.5                             stomach  ...       NaN     NaN\n",
       "28  ENST00000256246.5                             stomach  ...       NaN     NaN\n",
       "29  ENST00000256246.5                                lung  ...       NaN     NaN\n",
       "30  ENST00000256246.5                         endometrium  ...       NaN     NaN\n",
       "31  ENST00000256246.5                            prostate  ...       NaN     NaN\n",
       "32  ENST00000256246.5              central_nervous_system  ...       NaN     NaN\n",
       "33  ENST00000256246.5                               ovary  ...       NaN     NaN\n",
       "34  ENST00000256246.5              central_nervous_system  ...       NaN     NaN\n",
       "35  ENST00000256246.5                                lung  ...       NaN     NaN\n",
       "36  ENST00000256246.5                                skin  ...       NaN     NaN\n",
       "37  ENST00000256246.5                             stomach  ...       NaN     NaN\n",
       "38  ENST00000256246.5                                skin  ...       NaN     NaN\n",
       "39  ENST00000256246.5                                lung  ...       NaN     NaN\n",
       "40  ENST00000256246.5                                lung  ...       NaN     NaN\n",
       "41  ENST00000256246.5                              breast  ...       NaN     NaN\n",
       "42  ENST00000256246.5                              cervix  ...       NaN     NaN\n",
       "43  ENST00000256246.5                               liver  ...       NaN     NaN\n",
       "44  ENST00000256246.5                                skin  ...       NaN     NaN\n",
       "45  ENST00000256246.5                                lung  ...       NaN     NaN\n",
       "46  ENST00000256246.5                               liver  ...       NaN     NaN\n",
       "47  ENST00000256246.5                                skin  ...       NaN     NaN\n",
       "48  ENST00000256246.5                     large_intestine  ...       NaN     NaN\n",
       "49  ENST00000256246.5                                skin  ...       NaN     NaN\n",
       "\n",
       "[50 rows x 15 columns]"
      ]
     },
     "execution_count": 75,
     "metadata": {},
     "output_type": "execute_result"
    }
   ],
   "source": [
    "# result.head(50)"
   ]
  },
  {
   "cell_type": "markdown",
   "metadata": {
    "id": "W6yxQLDk64hz"
   },
   "source": [
    "# Map the phosphodata properly."
   ]
  },
  {
   "cell_type": "markdown",
   "metadata": {
    "id": "WY20zIPS331P"
   },
   "source": [
    "#### Prepare a new column to generate position/coordinate window."
   ]
  },
  {
   "cell_type": "code",
   "execution_count": null,
   "metadata": {
    "id": "9zwBhaAfWRGy"
   },
   "outputs": [],
   "source": [
    "# mergy.columns\n",
    "\n",
    "#Index([0'merger', 1'Primary site', 2'Primary histology', 3'Mutation AA',\n",
    "      #  4'Mutation Description', 5'Mutation somatic status', 6'indice', 7'ACC_ID',\n",
    "      #  8'UP_POS', 9'Modification_name', 10'UniProtKB isoform ID'],\n",
    "\n",
    "      #  3, 6, 8, 9"
   ]
  },
  {
   "cell_type": "code",
   "execution_count": null,
   "metadata": {
    "id": "cQufLcqmmE4y"
   },
   "outputs": [],
   "source": [
    "# mergy.drop_duplicates(subset= ['indice'], keep='first', inplace=True, ignore_index=False)"
   ]
  },
  {
   "cell_type": "code",
   "execution_count": null,
   "metadata": {
    "id": "RGpl2gKVUNn_"
   },
   "outputs": [],
   "source": [
    "mergy = mergy.loc[~mergy['Mutation AA'].str.contains(\"Gfs\")]\n",
    "\n",
    "#  look up what p.D923Gfs*16 is "
   ]
  },
  {
   "cell_type": "code",
   "execution_count": null,
   "metadata": {
    "colab": {
     "base_uri": "https://localhost:8080/"
    },
    "id": "Gw_UOdx-dVEe",
    "outputId": "648ccaca-0270-4348-a993-4b3bb81c30cc"
   },
   "outputs": [
    {
     "data": {
      "text/plain": [
       "(37629928, 4)"
      ]
     },
     "execution_count": 6,
     "metadata": {},
     "output_type": "execute_result"
    }
   ],
   "source": [
    "mergy.shape\n",
    "# non canon (37629928, 6)\n",
    "# non canon without repeats due to RAM limitation"
   ]
  },
  {
   "cell_type": "code",
   "execution_count": null,
   "metadata": {
    "id": "JpStFp9en7j6"
   },
   "outputs": [],
   "source": [
    "mergy['sliced AA'] = mergy['Mutation AA'].str.slice(3,-1).astype(int)\n",
    "\n",
    "# Prepare a new column to compare if these matching transcripts are also \n",
    "# matching on the position/coordinates."
   ]
  },
  {
   "cell_type": "code",
   "execution_count": null,
   "metadata": {
    "colab": {
     "base_uri": "https://localhost:8080/"
    },
    "id": "0ZtCTJ-WDowX",
    "outputId": "22103597-38fa-4fae-9876-8cf8c66404e5"
   },
   "outputs": [
    {
     "data": {
      "text/plain": [
       "(2892309, 11)"
      ]
     },
     "execution_count": 110,
     "metadata": {},
     "output_type": "execute_result"
    }
   ],
   "source": [
    "mergy.shape\n",
    "# (2938179, 16)"
   ]
  },
  {
   "cell_type": "markdown",
   "metadata": {
    "id": "BcBod4j8ouTd"
   },
   "source": [
    "#### Save to use fewer columns."
   ]
  },
  {
   "cell_type": "code",
   "execution_count": null,
   "metadata": {
    "id": "VysI5HP5o0KD"
   },
   "outputs": [],
   "source": [
    "mergy.to_csv('/content/drive/My Drive/devil.csv', header=True, index=False)"
   ]
  },
  {
   "cell_type": "markdown",
   "metadata": {
    "id": "I2HRHZ38pAl9"
   },
   "source": [
    "#### Load the devil!"
   ]
  },
  {
   "cell_type": "code",
   "execution_count": null,
   "metadata": {
    "id": "0TsVCQoOpCsu"
   },
   "outputs": [],
   "source": [
    "# import pandas as pd\n",
    "# mergy = pd.read_csv('/content/drive/My Drive/devil.csv')\n",
    "\n",
    "# mergy.shape\n",
    "# Index([0'Mutation AA', 1'indice', 2'UP_POS', 3'Modification_name', 4'sliced AA']"
   ]
  },
  {
   "cell_type": "code",
   "execution_count": null,
   "metadata": {
    "colab": {
     "base_uri": "https://localhost:8080/",
     "height": 424
    },
    "id": "HZWHuaculHL_",
    "outputId": "7f0cfe51-32c4-4c0f-d345-6ff8be2e8dde"
   },
   "outputs": [
    {
     "data": {
      "text/html": [
       "\n",
       "  <div id=\"df-efcf2ddb-0038-4bf5-be6b-41627b06e5ed\">\n",
       "    <div class=\"colab-df-container\">\n",
       "      <div>\n",
       "<style scoped>\n",
       "    .dataframe tbody tr th:only-of-type {\n",
       "        vertical-align: middle;\n",
       "    }\n",
       "\n",
       "    .dataframe tbody tr th {\n",
       "        vertical-align: top;\n",
       "    }\n",
       "\n",
       "    .dataframe thead th {\n",
       "        text-align: right;\n",
       "    }\n",
       "</style>\n",
       "<table border=\"1\" class=\"dataframe\">\n",
       "  <thead>\n",
       "    <tr style=\"text-align: right;\">\n",
       "      <th></th>\n",
       "      <th>Mutation AA</th>\n",
       "      <th>indice</th>\n",
       "      <th>UP_POS</th>\n",
       "      <th>Modification_name</th>\n",
       "      <th>sliced AA</th>\n",
       "    </tr>\n",
       "  </thead>\n",
       "  <tbody>\n",
       "    <tr>\n",
       "      <th>0</th>\n",
       "      <td>p.G394C</td>\n",
       "      <td>1</td>\n",
       "      <td>346</td>\n",
       "      <td>PhosphoT</td>\n",
       "      <td>394</td>\n",
       "    </tr>\n",
       "    <tr>\n",
       "      <th>1</th>\n",
       "      <td>p.G394C</td>\n",
       "      <td>1</td>\n",
       "      <td>402</td>\n",
       "      <td>PhosphoT</td>\n",
       "      <td>394</td>\n",
       "    </tr>\n",
       "    <tr>\n",
       "      <th>2</th>\n",
       "      <td>p.V205A</td>\n",
       "      <td>144319</td>\n",
       "      <td>346</td>\n",
       "      <td>PhosphoT</td>\n",
       "      <td>205</td>\n",
       "    </tr>\n",
       "    <tr>\n",
       "      <th>3</th>\n",
       "      <td>p.V205A</td>\n",
       "      <td>144319</td>\n",
       "      <td>402</td>\n",
       "      <td>PhosphoT</td>\n",
       "      <td>205</td>\n",
       "    </tr>\n",
       "    <tr>\n",
       "      <th>4</th>\n",
       "      <td>p.K87N</td>\n",
       "      <td>407161</td>\n",
       "      <td>346</td>\n",
       "      <td>PhosphoT</td>\n",
       "      <td>87</td>\n",
       "    </tr>\n",
       "    <tr>\n",
       "      <th>...</th>\n",
       "      <td>...</td>\n",
       "      <td>...</td>\n",
       "      <td>...</td>\n",
       "      <td>...</td>\n",
       "      <td>...</td>\n",
       "    </tr>\n",
       "    <tr>\n",
       "      <th>37629923</th>\n",
       "      <td>p.Q252K</td>\n",
       "      <td>38182123</td>\n",
       "      <td>175</td>\n",
       "      <td>PhosphoS</td>\n",
       "      <td>252</td>\n",
       "    </tr>\n",
       "    <tr>\n",
       "      <th>37629924</th>\n",
       "      <td>p.Q252K</td>\n",
       "      <td>38182123</td>\n",
       "      <td>180</td>\n",
       "      <td>PhosphoS</td>\n",
       "      <td>252</td>\n",
       "    </tr>\n",
       "    <tr>\n",
       "      <th>37629925</th>\n",
       "      <td>p.Q252K</td>\n",
       "      <td>38182123</td>\n",
       "      <td>187</td>\n",
       "      <td>PhosphoS</td>\n",
       "      <td>252</td>\n",
       "    </tr>\n",
       "    <tr>\n",
       "      <th>37629926</th>\n",
       "      <td>p.Q252K</td>\n",
       "      <td>38182123</td>\n",
       "      <td>192</td>\n",
       "      <td>PhosphoS</td>\n",
       "      <td>252</td>\n",
       "    </tr>\n",
       "    <tr>\n",
       "      <th>37629927</th>\n",
       "      <td>p.A508V</td>\n",
       "      <td>44386879</td>\n",
       "      <td>452</td>\n",
       "      <td>PhosphoT</td>\n",
       "      <td>508</td>\n",
       "    </tr>\n",
       "  </tbody>\n",
       "</table>\n",
       "<p>37629928 rows × 5 columns</p>\n",
       "</div>\n",
       "      <button class=\"colab-df-convert\" onclick=\"convertToInteractive('df-efcf2ddb-0038-4bf5-be6b-41627b06e5ed')\"\n",
       "              title=\"Convert this dataframe to an interactive table.\"\n",
       "              style=\"display:none;\">\n",
       "        \n",
       "  <svg xmlns=\"http://www.w3.org/2000/svg\" height=\"24px\"viewBox=\"0 0 24 24\"\n",
       "       width=\"24px\">\n",
       "    <path d=\"M0 0h24v24H0V0z\" fill=\"none\"/>\n",
       "    <path d=\"M18.56 5.44l.94 2.06.94-2.06 2.06-.94-2.06-.94-.94-2.06-.94 2.06-2.06.94zm-11 1L8.5 8.5l.94-2.06 2.06-.94-2.06-.94L8.5 2.5l-.94 2.06-2.06.94zm10 10l.94 2.06.94-2.06 2.06-.94-2.06-.94-.94-2.06-.94 2.06-2.06.94z\"/><path d=\"M17.41 7.96l-1.37-1.37c-.4-.4-.92-.59-1.43-.59-.52 0-1.04.2-1.43.59L10.3 9.45l-7.72 7.72c-.78.78-.78 2.05 0 2.83L4 21.41c.39.39.9.59 1.41.59.51 0 1.02-.2 1.41-.59l7.78-7.78 2.81-2.81c.8-.78.8-2.07 0-2.86zM5.41 20L4 18.59l7.72-7.72 1.47 1.35L5.41 20z\"/>\n",
       "  </svg>\n",
       "      </button>\n",
       "      \n",
       "  <style>\n",
       "    .colab-df-container {\n",
       "      display:flex;\n",
       "      flex-wrap:wrap;\n",
       "      gap: 12px;\n",
       "    }\n",
       "\n",
       "    .colab-df-convert {\n",
       "      background-color: #E8F0FE;\n",
       "      border: none;\n",
       "      border-radius: 50%;\n",
       "      cursor: pointer;\n",
       "      display: none;\n",
       "      fill: #1967D2;\n",
       "      height: 32px;\n",
       "      padding: 0 0 0 0;\n",
       "      width: 32px;\n",
       "    }\n",
       "\n",
       "    .colab-df-convert:hover {\n",
       "      background-color: #E2EBFA;\n",
       "      box-shadow: 0px 1px 2px rgba(60, 64, 67, 0.3), 0px 1px 3px 1px rgba(60, 64, 67, 0.15);\n",
       "      fill: #174EA6;\n",
       "    }\n",
       "\n",
       "    [theme=dark] .colab-df-convert {\n",
       "      background-color: #3B4455;\n",
       "      fill: #D2E3FC;\n",
       "    }\n",
       "\n",
       "    [theme=dark] .colab-df-convert:hover {\n",
       "      background-color: #434B5C;\n",
       "      box-shadow: 0px 1px 3px 1px rgba(0, 0, 0, 0.15);\n",
       "      filter: drop-shadow(0px 1px 2px rgba(0, 0, 0, 0.3));\n",
       "      fill: #FFFFFF;\n",
       "    }\n",
       "  </style>\n",
       "\n",
       "      <script>\n",
       "        const buttonEl =\n",
       "          document.querySelector('#df-efcf2ddb-0038-4bf5-be6b-41627b06e5ed button.colab-df-convert');\n",
       "        buttonEl.style.display =\n",
       "          google.colab.kernel.accessAllowed ? 'block' : 'none';\n",
       "\n",
       "        async function convertToInteractive(key) {\n",
       "          const element = document.querySelector('#df-efcf2ddb-0038-4bf5-be6b-41627b06e5ed');\n",
       "          const dataTable =\n",
       "            await google.colab.kernel.invokeFunction('convertToInteractive',\n",
       "                                                     [key], {});\n",
       "          if (!dataTable) return;\n",
       "\n",
       "          const docLinkHtml = 'Like what you see? Visit the ' +\n",
       "            '<a target=\"_blank\" href=https://colab.research.google.com/notebooks/data_table.ipynb>data table notebook</a>'\n",
       "            + ' to learn more about interactive tables.';\n",
       "          element.innerHTML = '';\n",
       "          dataTable['output_type'] = 'display_data';\n",
       "          await google.colab.output.renderOutput(dataTable, element);\n",
       "          const docLink = document.createElement('div');\n",
       "          docLink.innerHTML = docLinkHtml;\n",
       "          element.appendChild(docLink);\n",
       "        }\n",
       "      </script>\n",
       "    </div>\n",
       "  </div>\n",
       "  "
      ],
      "text/plain": [
       "         Mutation AA    indice  UP_POS Modification_name  sliced AA\n",
       "0            p.G394C         1     346          PhosphoT        394\n",
       "1            p.G394C         1     402          PhosphoT        394\n",
       "2            p.V205A    144319     346          PhosphoT        205\n",
       "3            p.V205A    144319     402          PhosphoT        205\n",
       "4             p.K87N    407161     346          PhosphoT         87\n",
       "...              ...       ...     ...               ...        ...\n",
       "37629923     p.Q252K  38182123     175          PhosphoS        252\n",
       "37629924     p.Q252K  38182123     180          PhosphoS        252\n",
       "37629925     p.Q252K  38182123     187          PhosphoS        252\n",
       "37629926     p.Q252K  38182123     192          PhosphoS        252\n",
       "37629927     p.A508V  44386879     452          PhosphoT        508\n",
       "\n",
       "[37629928 rows x 5 columns]"
      ]
     },
     "execution_count": 5,
     "metadata": {},
     "output_type": "execute_result"
    }
   ],
   "source": [
    "mergy "
   ]
  },
  {
   "cell_type": "markdown",
   "metadata": {
    "id": "MhP0oK2H6ai_"
   },
   "source": [
    "#### (Don't use) Exact position"
   ]
  },
  {
   "cell_type": "markdown",
   "metadata": {
    "id": "9f0lpF2dx-gK"
   },
   "source": [
    "The 2 lines in the block just underneath provide exact position matches, not a ±5 window position match. It also saves this state of the dataframe. A post-AA match was also generated!"
   ]
  },
  {
   "cell_type": "code",
   "execution_count": null,
   "metadata": {
    "id": "xi2m3QhfoBdp"
   },
   "outputs": [],
   "source": [
    "# mergy_exact = mergy.loc[mergy['sliced AA'] == mergy['UP_POS']]\n",
    "# mergy_exact.to_csv('/content/drive/My Drive/exact position matched phosphosites pre-AA match.csv', encoding='utf-8', index=False)\n",
    "# mergy_exact.shape\n",
    "# (8119, 16)\n",
    "\n",
    "# Post AA\n",
    "# (8030, 19)"
   ]
  },
  {
   "cell_type": "markdown",
   "metadata": {
    "id": "FBFlOBM64KUP"
   },
   "source": [
    "#### Generate a ±5 AA window from the COSMIC AA position. Use it to match phosphosites provided from SCOP3P."
   ]
  },
  {
   "cell_type": "markdown",
   "metadata": {
    "id": "m4YDOH9UrsQl"
   },
   "source": [
    "From here onwards the resulting dataframe will yield matches of the phosphosites with a window of 5± Amino Acids according to the position provided by the COSMIC dataframe."
   ]
  },
  {
   "cell_type": "code",
   "execution_count": null,
   "metadata": {
    "id": "WpVZ-e38mRvQ"
   },
   "outputs": [],
   "source": [
    "def rango(x):\n",
    "    y = list(range((x-5), (x+6)))\n",
    "    return(y)\n",
    "\n",
    "\n",
    "#mergy['window'] = mergy['sliced AA'].apply(rango)\n",
    "# Generate a ±5 AA window from the COSMIC AA position. Use it to match phosphosites\n",
    "# provided from SCOP3P."
   ]
  },
  {
   "cell_type": "code",
   "execution_count": null,
   "metadata": {
    "colab": {
     "base_uri": "https://localhost:8080/"
    },
    "id": "Uy4de86KmcAf",
    "outputId": "0331699b-877d-4585-8aae-34dd7441199b"
   },
   "outputs": [
    {
     "data": {
      "text/plain": [
       "(4556, 16)"
      ]
     },
     "execution_count": 112,
     "metadata": {},
     "output_type": "execute_result"
    }
   ],
   "source": [
    "mergy = pfam_mergy[pfam_mergy.apply(lambda x: x['UP_POS'] in rango(x['sliced AA']),axis=1)]\n",
    "# Keep only phosphosites matching mutation positions (5± window) on COSMIC.\n",
    "\n",
    "mergy.shape\n",
    "# (57841, 17)\n",
    "\n",
    "# with window, no duplicates\n",
    "# (9131, 10)"
   ]
  },
  {
   "cell_type": "markdown",
   "metadata": {
    "id": "SZOLVHJ84dVq"
   },
   "source": [
    "Save post window matched merged df (contains duplicates)"
   ]
  },
  {
   "cell_type": "code",
   "execution_count": null,
   "metadata": {
    "id": "zLQaPKDvKceS"
   },
   "outputs": [],
   "source": [
    "# mergy.to_csv('/content/drive/My Drive/best indexed matched phosphosites window pre-AA match.csv', encoding='utf-8', index=False)\n",
    "# This state is the matched positions (using the ±5 Amino Acid window),\n",
    "# but without the Amino Acid matching.\n",
    "\n",
    "\n",
    "#### Work to be done- see if some amino acids from cosmic which are not\n",
    "# phosphorylatable mutate into phospho-residues!\n",
    "\n",
    "# Also, if phosphoresidues mutate into other phosphoresidues. In these cases,\n",
    "# use both the window and the exact positions just to have all of the \n",
    "# data available I guess."
   ]
  },
  {
   "cell_type": "markdown",
   "metadata": {
    "id": "WeVLbfPw4tj7"
   },
   "source": [
    "Use code underneath to drop duplicates if you want. Bear in mind they haven't been matched for AA."
   ]
  },
  {
   "cell_type": "code",
   "execution_count": null,
   "metadata": {
    "colab": {
     "base_uri": "https://localhost:8080/"
    },
    "id": "j3Z1lrb548ju",
    "outputId": "09add318-ee0b-412b-8f69-e35c63f7e733"
   },
   "outputs": [
    {
     "name": "stderr",
     "output_type": "stream",
     "text": [
      "/usr/local/lib/python3.7/dist-packages/ipykernel_launcher.py:1: SettingWithCopyWarning: \n",
      "A value is trying to be set on a copy of a slice from a DataFrame\n",
      "\n",
      "See the caveats in the documentation: https://pandas.pydata.org/pandas-docs/stable/user_guide/indexing.html#returning-a-view-versus-a-copy\n",
      "  \"\"\"Entry point for launching an IPython kernel.\n"
     ]
    }
   ],
   "source": [
    "# pfam_mergy.drop_duplicates(subset= ['indice'], keep='first', inplace=True, ignore_index=False)\n",
    "# mergy.set_index(['indice'], drop=True, append=False, inplace=True, verify_integrity=False) \n",
    "# mergy.sort_index(inplace = True)\n",
    "# print(mergy.shape, mergy.head(5))\n",
    "# (48891, 10) \n",
    "# mergy.head(5)"
   ]
  },
  {
   "cell_type": "code",
   "execution_count": null,
   "metadata": {
    "colab": {
     "base_uri": "https://localhost:8080/"
    },
    "id": "Y3nvF8uTrzWB",
    "outputId": "b9b24f8c-b712-4aa4-c8ea-3ab51e2842ac"
   },
   "outputs": [
    {
     "data": {
      "text/plain": [
       "(3782, 16)"
      ]
     },
     "execution_count": 86,
     "metadata": {},
     "output_type": "execute_result"
    }
   ],
   "source": [
    "pfam_mergy.shape"
   ]
  },
  {
   "cell_type": "markdown",
   "metadata": {
    "id": "kYAhm4JS5Bzy"
   },
   "source": [
    "#### Match Amino Acids"
   ]
  },
  {
   "cell_type": "code",
   "execution_count": null,
   "metadata": {
    "id": "i2W4OsbmyPEf"
   },
   "outputs": [],
   "source": [
    "pfam_mergy['modified AA'] = [x[2] for x in list(pfam_mergy['Mutation AA'])]\n",
    "# mergy['Modification_name_trial'] = [x[-1] for x in list(mergy['Modification_name'])]\n",
    "# Prepare columns from both original dataframes (COSMIC and combined phosphosite+mapping)\n",
    "# to identify matching AA substitutions."
   ]
  },
  {
   "cell_type": "code",
   "execution_count": null,
   "metadata": {
    "id": "o00LpmhI-ULk"
   },
   "outputs": [],
   "source": [
    "pfam_mergy['Modification_name_trial'] = [x[-1] for x in list(pfam_mergy['Modification_name'])]"
   ]
  },
  {
   "cell_type": "code",
   "execution_count": null,
   "metadata": {
    "colab": {
     "base_uri": "https://localhost:8080/"
    },
    "id": "X21OE-YDyPTN",
    "outputId": "d132f9a7-ebc0-4d42-fe8e-e3b9aeefd635"
   },
   "outputs": [
    {
     "data": {
      "text/plain": [
       "(449, 18)"
      ]
     },
     "execution_count": 118,
     "metadata": {},
     "output_type": "execute_result"
    }
   ],
   "source": [
    "pfam_mergy = pfam_mergy.loc[pfam_mergy['modified AA'] == pfam_mergy['Modification_name_trial']]\n",
    "# Final match! Same transcript, same position (WINDOW!), same Amino Acid. :)\n",
    "\n",
    "pfam_mergy.shape\n",
    "# (10756, 18)\n",
    "\n",
    "# usando el indice de coscmic para remover repetidos:\n",
    "# (9471, 15)"
   ]
  },
  {
   "cell_type": "markdown",
   "metadata": {
    "id": "ayzY3jor5HaW"
   },
   "source": [
    "Save window and AA matched merged df. Still has duplicates!"
   ]
  },
  {
   "cell_type": "code",
   "execution_count": null,
   "metadata": {
    "id": "KNhKTkeNyPax"
   },
   "outputs": [],
   "source": [
    "# mergy.to_csv('/content/drive/My Drive/best indexed matched phosphosites window post-AA match.csv', encoding='utf-8', index=False)\n",
    "# Creates (one of the) last version of the datafram with matched transcripts,\n",
    "# phosphosites (using a 5± AA window), and the identical amino acids. Cheers!"
   ]
  },
  {
   "cell_type": "code",
   "execution_count": null,
   "metadata": {
    "id": "7kv6Q6N9JJPm"
   },
   "outputs": [],
   "source": [
    "# code to store the csv in google drive :)\n",
    "# from google.colab import drive\n",
    "# drive.mount('drive')"
   ]
  },
  {
   "cell_type": "markdown",
   "metadata": {
    "id": "MBvltkoY1U9u"
   },
   "source": [
    "#### Reinstate Cosmic's Index & Drop repeats!"
   ]
  },
  {
   "cell_type": "code",
   "execution_count": null,
   "metadata": {
    "colab": {
     "base_uri": "https://localhost:8080/"
    },
    "id": "7OCvAloi5bJk",
    "outputId": "69dc532a-bca4-48ef-9f6f-16651f6c04a0"
   },
   "outputs": [
    {
     "name": "stdout",
     "output_type": "stream",
     "text": [
      "(345, 18)                   merger     Primary site  ... modified AA Modification_name_trial\n",
      "618    ENST00000396444.7             lung  ...           T                       T\n",
      "886    ENST00000396444.7           cervix  ...           S                       S\n",
      "25175  ENST00000371724.6             skin  ...           S                       S\n",
      "43493  ENST00000441024.6  large_intestine  ...           T                       T\n",
      "60309  ENST00000343225.4          stomach  ...           T                       T\n",
      "\n",
      "[5 rows x 18 columns]\n"
     ]
    }
   ],
   "source": [
    "pfam_mergy.drop_duplicates(subset= ['indice'], keep='first', inplace=True, ignore_index=False)\n",
    "mergy.set_index(['indice'], drop=True, append=False, inplace=True, verify_integrity=False) \n",
    "# mergy.sort_index(inplace = True)\n",
    "print(pfam_mergy.shape, pfam_mergy.head(5))"
   ]
  },
  {
   "cell_type": "markdown",
   "metadata": {
    "id": "lAtpKDRs5fg0"
   },
   "source": [
    "####Save this if you want. It has no duplicates."
   ]
  },
  {
   "cell_type": "code",
   "execution_count": null,
   "metadata": {
    "id": "pQMQlk-M5eva"
   },
   "outputs": [],
   "source": [
    "# mergy.to_csv('/content/drive/My Drive/non canon mergy no duplicates.csv', encoding='utf-8', index=False)"
   ]
  },
  {
   "cell_type": "markdown",
   "metadata": {
    "id": "ObqHk8c1_az1"
   },
   "source": [
    "# U're stuck here"
   ]
  },
  {
   "cell_type": "markdown",
   "metadata": {
    "id": "PBDe1WYH5o3E"
   },
   "source": [
    "Still need to eliminate non synonymous mutations, incorporate selenocysteines, count mets, considerer which of the duplicates you actually have to keep."
   ]
  },
  {
   "cell_type": "code",
   "execution_count": null,
   "metadata": {
    "colab": {
     "base_uri": "https://localhost:8080/"
    },
    "id": "bKZAvNe6-8xP",
    "outputId": "97849170-4b32-47fb-9245-17590afe90d9"
   },
   "outputs": [
    {
     "name": "stdout",
     "output_type": "stream",
     "text": [
      "(418723, 8)        Mutation AA  ... UniProtKB isoform ID\n",
      "indice              ...                     \n",
      "11        p.S1064L  ...                  NaN\n",
      "84        p.P1057H  ...                  NaN\n",
      "228        p.I251M  ...                  NaN\n",
      "257        p.V410E  ...                  NaN\n",
      "461        p.Q521R  ...                  NaN\n",
      "\n",
      "[5 rows x 8 columns]\n"
     ]
    }
   ],
   "source": [
    "# load mergy marched phospho window post aa match\n",
    "# add the tumour origin column, as well as gene name, and primary histo and primary site\n",
    "\n",
    "# from google.colab import drive\n",
    "# drive.mount('drive')\n",
    "\n",
    "# import pandas as pd\n",
    "# icaro = pd.read_csv('/content/drive/My Drive/index preserved df.csv')\n",
    "# icaro.shape\n",
    "# icaro.head(3)\n",
    "\n",
    "# icaro.drop_duplicates(subset= ['indice'], keep='first', inplace=True, ignore_index=False)\n",
    "# icaro.set_index(['indice'], drop=True, append=False, inplace=True, verify_integrity=False) \n",
    "# icaro.sort_index(inplace = True)\n",
    "# print(icaro.shape, icaro.head(5))\n",
    "# icaro.head(5)\n",
    "\n",
    "# col_Cosmic = pd.read_csv('/content/DECOMPcosmic.tsv', sep='\\t', usecols=[0,7,11,34])\n",
    "# col_Cosmic.head(10)\n",
    "\n",
    "# enhanced_Cosmic = icaro.merge(col_Cosmic, how='inner', left_index=True, right_index=True, validate='1:1' )"
   ]
  },
  {
   "cell_type": "code",
   "execution_count": null,
   "metadata": {
    "id": "1oRYinaFbhnf"
   },
   "outputs": [],
   "source": [
    "mergy['Tumour origin'].value_counts()\n",
    "\n",
    "# Both sets: with 5 AA window\n",
    "# pre AA match\n",
    "# primary                                   26320\n",
    "# metastasis                                 2933\n",
    "# recurrent                                   580\n",
    "# secondary                                    16\n",
    "\n",
    "# post AA match\n",
    "# primary                                   4818\n",
    "# metastasis                                 607\n",
    "# recurrent                                   89\n",
    "# secondary                                    1"
   ]
  },
  {
   "cell_type": "code",
   "execution_count": null,
   "metadata": {
    "id": "j5diK9NhrFOd"
   },
   "outputs": [],
   "source": [
    "# pd.set_option('display.max_rows', 500)\n",
    "# pd.set_option('display.max_columns', 19)"
   ]
  },
  {
   "cell_type": "code",
   "execution_count": null,
   "metadata": {
    "id": "S95YAPVnlG_g"
   },
   "outputs": [],
   "source": [
    "# tm_origin_grp = mergy.groupby(['Primary site'])\n",
    "# tm_origin_grp[\"Gene name\"].apply(lambda x: x.value_counts()).head(150)#.nlargest(8))\n",
    "# mergy.head(150)"
   ]
  },
  {
   "cell_type": "code",
   "execution_count": null,
   "metadata": {
    "id": "e5LwZcGssyXN"
   },
   "outputs": [],
   "source": [
    "# cantabria = mergy.loc[mergy['Primary site'].str.contains('liver')]\n",
    "\n",
    "# cantabria.shape\n",
    "# (972, 19)\n",
    "\n",
    "# cantabria.head(150)\n",
    "# cantabria['Gene name'].value_counts().head(100)"
   ]
  },
  {
   "cell_type": "markdown",
   "metadata": {
    "id": "pE6kXJE29UUG"
   },
   "source": [
    "# COSMIC analysis"
   ]
  },
  {
   "cell_type": "markdown",
   "metadata": {
    "id": "AHjx-e64yY6O"
   },
   "source": [
    "Find most frequently mutated genes (per tumor origin / per cancer type)."
   ]
  },
  {
   "cell_type": "markdown",
   "metadata": {
    "id": "fSONWU39ynnN"
   },
   "source": [
    "What are the most represented AA pairs? (per tumor origin / per cancer type)."
   ]
  },
  {
   "cell_type": "code",
   "execution_count": null,
   "metadata": {
    "id": "VGi8-nYYf3cz"
   },
   "outputs": [],
   "source": [
    "import pandas as pd\n",
    "df_Cosmic = pd.read_csv('/content/drive/My Drive/mergy no duplicates.csv')"
   ]
  },
  {
   "cell_type": "code",
   "execution_count": null,
   "metadata": {
    "colab": {
     "base_uri": "https://localhost:8080/"
    },
    "id": "uiDf6l2eg7Qs",
    "outputId": "7a3f4485-0850-4285-80f1-8a2cbdd0873a"
   },
   "outputs": [
    {
     "data": {
      "text/plain": [
       "(9471, 15)"
      ]
     },
     "execution_count": 5,
     "metadata": {},
     "output_type": "execute_result"
    }
   ],
   "source": [
    "df_Cosmic.shape"
   ]
  },
  {
   "cell_type": "code",
   "execution_count": null,
   "metadata": {
    "id": "CfiG6pDrzE9P"
   },
   "outputs": [],
   "source": [
    "# pd.set_option('display.max_rows', 500)\n",
    "# pd.set_option('display.max_columns', 10)\n",
    "# df_Cosmic = df_Cosmic.loc[~df_Cosmic['Primary site'].str.contains('NS')]\n",
    "# df_Cosmic = df_Cosmic.loc[~df_Cosmic['Primary histology'].str.contains('NS')]\n",
    "# grupo_sitio = df_Cosmic.groupby(['Primary site'])\n",
    "# grupo_sitio['Gene name'].apply(lambda x: x.value_counts()).head(300)"
   ]
  },
  {
   "cell_type": "code",
   "execution_count": null,
   "metadata": {
    "id": "lPDyes7Py796"
   },
   "outputs": [],
   "source": [
    "# Homogenize to quantifiable format of substituted AAs\n",
    "def standard_format(x):\n",
    "    if x[1] == '.':\n",
    "        return x.replace(x , (f'{x[2]} to {x[-1]}'))\n",
    "\n",
    "\n",
    "\n",
    "df_Cosmic['Mutation AA'] = df_Cosmic['Mutation AA'].apply(standard_format)\n"
   ]
  },
  {
   "cell_type": "code",
   "execution_count": null,
   "metadata": {
    "id": "nYxiswGOvuS5"
   },
   "outputs": [],
   "source": [
    "# histograms for these groups to visualize frequencies\n",
    "# //for the entire cosmic database\n",
    "# //also for the phosphodata"
   ]
  },
  {
   "cell_type": "markdown",
   "metadata": {
    "id": "9rxtJ9MFYx3t"
   },
   "source": [
    "## Groupies"
   ]
  },
  {
   "cell_type": "code",
   "execution_count": null,
   "metadata": {
    "id": "pB_yuansXlc2"
   },
   "outputs": [],
   "source": [
    "# df_Cosmic['Primary site'].value_counts()\n",
    "\n",
    "# top ten\n",
    "\n",
    "# skin                                           1754674\n",
    "# large_intestine                                1588714\n",
    "# lung                                            899525\n",
    "# stomach                                         697025\n",
    "# endometrium                                     592289\n",
    "# liver                                           535557\n",
    "# upper_aerodigestive_tract                       399039\n",
    "# breast                                          382435\n",
    "# thyroid                                         360961\n",
    "# urinary_tract                                   302655\n",
    "# central_nervous_system                          295983\n",
    "# haematopoietic_and_lymphoid_tissue              278589"
   ]
  },
  {
   "cell_type": "code",
   "execution_count": null,
   "metadata": {
    "id": "rohh89u9YKGa"
   },
   "outputs": [],
   "source": [
    "# df_Cosmic['Primary histology'].value_counts().nlargest(5)\n",
    "\n",
    "# top 5\n",
    "\n",
    "# carcinoma                                           6917500\n",
    "# malignant_melanoma                                  1386706\n",
    "# glioma                                               281197\n",
    "# other                                                276070\n",
    "# lymphoid_neoplasm                                    184435"
   ]
  },
  {
   "cell_type": "code",
   "execution_count": null,
   "metadata": {
    "colab": {
     "base_uri": "https://localhost:8080/"
    },
    "id": "2XZ297cwYvCv",
    "outputId": "59397a19-be0e-47ca-b59c-054adf22d01f"
   },
   "outputs": [
    {
     "data": {
      "text/plain": [
       "S to F    1591\n",
       "S to P    1447\n",
       "S to L     580\n",
       "S to Y     511\n",
       "S to C     400\n",
       "S to N     210\n",
       "S to G     208\n",
       "T to A     171\n",
       "T to M     166\n",
       "S to T     156\n",
       "S to A     149\n",
       "S to R     148\n",
       "T to I     125\n",
       "Y to C     119\n",
       "S to I     109\n",
       "T to P      64\n",
       "T to S      50\n",
       "Y to H      37\n",
       "T to R      21\n",
       "Y to S      19\n",
       "T to K      16\n",
       "T to N      15\n",
       "Y to F      13\n",
       "S to W      12\n",
       "Y to N      12\n",
       "Y to D       9\n",
       "Name: Mutation AA, dtype: int64"
      ]
     },
     "execution_count": 14,
     "metadata": {},
     "output_type": "execute_result"
    }
   ],
   "source": [
    "# GENERATED A NEW DF WITH GROUPED BY SITE/HISTOLOGY/AA MUTATION COUNTS\n",
    "pd.set_option('display.max_rows', 500)\n",
    "pd.set_option('display.max_columns', 10)\n",
    "\n",
    "# grupo_sh = df_Cosmic.groupby(['Primary site', 'Primary histology'])\n",
    "# first_graph = grupo_sh['Gene name'].value_counts().to_frame()\n",
    "# first_graph = grupo_sh['Mutation AA'].apply(lambda x: x.value_counts().nlargest(3)).to_frame()\n",
    "# first_graph.to_csv('/content/drive/My Drive/first graph.csv', encoding='utf-8', index=True)\n",
    "\n",
    "grupo = df_Cosmic[df_Cosmic['Primary histology']== 'carcinoma']\n",
    "grupo['Mutation AA'].value_counts().head(500)"
   ]
  },
  {
   "cell_type": "code",
   "execution_count": null,
   "metadata": {
    "colab": {
     "base_uri": "https://localhost:8080/",
     "height": 419
    },
    "id": "lkKMBR71lXdJ",
    "outputId": "9151cb08-7196-44df-83fc-806fa621d331"
   },
   "outputs": [
    {
     "data": {
      "text/html": [
       "<div>\n",
       "<style scoped>\n",
       "    .dataframe tbody tr th:only-of-type {\n",
       "        vertical-align: middle;\n",
       "    }\n",
       "\n",
       "    .dataframe tbody tr th {\n",
       "        vertical-align: top;\n",
       "    }\n",
       "\n",
       "    .dataframe thead th {\n",
       "        text-align: right;\n",
       "    }\n",
       "</style>\n",
       "<table border=\"1\" class=\"dataframe\">\n",
       "  <thead>\n",
       "    <tr style=\"text-align: right;\">\n",
       "      <th></th>\n",
       "      <th>Primary site</th>\n",
       "      <th>Primary histology</th>\n",
       "      <th>Mutation AA</th>\n",
       "      <th>Mutation AA.1</th>\n",
       "    </tr>\n",
       "  </thead>\n",
       "  <tbody>\n",
       "    <tr>\n",
       "      <th>0</th>\n",
       "      <td>adrenal_gland</td>\n",
       "      <td>adrenal_cortical_adenoma</td>\n",
       "      <td>S to P</td>\n",
       "      <td>867</td>\n",
       "    </tr>\n",
       "    <tr>\n",
       "      <th>1</th>\n",
       "      <td>adrenal_gland</td>\n",
       "      <td>adrenal_cortical_adenoma</td>\n",
       "      <td>S to F</td>\n",
       "      <td>580</td>\n",
       "    </tr>\n",
       "    <tr>\n",
       "      <th>2</th>\n",
       "      <td>adrenal_gland</td>\n",
       "      <td>adrenal_cortical_adenoma</td>\n",
       "      <td>R to C</td>\n",
       "      <td>204</td>\n",
       "    </tr>\n",
       "    <tr>\n",
       "      <th>3</th>\n",
       "      <td>adrenal_gland</td>\n",
       "      <td>adrenal_cortical_adenoma</td>\n",
       "      <td>R to H</td>\n",
       "      <td>171</td>\n",
       "    </tr>\n",
       "    <tr>\n",
       "      <th>4</th>\n",
       "      <td>adrenal_gland</td>\n",
       "      <td>adrenal_cortical_adenoma</td>\n",
       "      <td>P to L</td>\n",
       "      <td>159</td>\n",
       "    </tr>\n",
       "    <tr>\n",
       "      <th>...</th>\n",
       "      <td>...</td>\n",
       "      <td>...</td>\n",
       "      <td>...</td>\n",
       "      <td>...</td>\n",
       "    </tr>\n",
       "    <tr>\n",
       "      <th>10626</th>\n",
       "      <td>urinary_tract</td>\n",
       "      <td>carcinoma</td>\n",
       "      <td>I to K</td>\n",
       "      <td>65</td>\n",
       "    </tr>\n",
       "    <tr>\n",
       "      <th>10627</th>\n",
       "      <td>urinary_tract</td>\n",
       "      <td>carcinoma</td>\n",
       "      <td>I to R</td>\n",
       "      <td>53</td>\n",
       "    </tr>\n",
       "    <tr>\n",
       "      <th>10628</th>\n",
       "      <td>urinary_tract</td>\n",
       "      <td>carcinoma</td>\n",
       "      <td>L to W</td>\n",
       "      <td>47</td>\n",
       "    </tr>\n",
       "    <tr>\n",
       "      <th>10629</th>\n",
       "      <td>urinary_tract</td>\n",
       "      <td>carcinoma</td>\n",
       "      <td>E to L</td>\n",
       "      <td>2</td>\n",
       "    </tr>\n",
       "    <tr>\n",
       "      <th>10630</th>\n",
       "      <td>urinary_tract</td>\n",
       "      <td>carcinoma</td>\n",
       "      <td>H to C</td>\n",
       "      <td>1</td>\n",
       "    </tr>\n",
       "  </tbody>\n",
       "</table>\n",
       "<p>10631 rows × 4 columns</p>\n",
       "</div>"
      ],
      "text/plain": [
       "        Primary site         Primary histology Mutation AA  Mutation AA.1\n",
       "0      adrenal_gland  adrenal_cortical_adenoma      S to P            867\n",
       "1      adrenal_gland  adrenal_cortical_adenoma      S to F            580\n",
       "2      adrenal_gland  adrenal_cortical_adenoma      R to C            204\n",
       "3      adrenal_gland  adrenal_cortical_adenoma      R to H            171\n",
       "4      adrenal_gland  adrenal_cortical_adenoma      P to L            159\n",
       "...              ...                       ...         ...            ...\n",
       "10626  urinary_tract                 carcinoma      I to K             65\n",
       "10627  urinary_tract                 carcinoma      I to R             53\n",
       "10628  urinary_tract                 carcinoma      L to W             47\n",
       "10629  urinary_tract                 carcinoma      E to L              2\n",
       "10630  urinary_tract                 carcinoma      H to C              1\n",
       "\n",
       "[10631 rows x 4 columns]"
      ]
     },
     "execution_count": 59,
     "metadata": {},
     "output_type": "execute_result"
    }
   ],
   "source": [
    "# graphy = pd.read_csv('/content/drive/My Drive/first graph.csv')\n",
    "# graphy"
   ]
  },
  {
   "cell_type": "code",
   "execution_count": null,
   "metadata": {
    "colab": {
     "base_uri": "https://localhost:8080/"
    },
    "id": "BECAEzWymrJp",
    "outputId": "5b1a43e2-c480-49c7-dbd2-63466c137c76"
   },
   "outputs": [
    {
     "name": "stdout",
     "output_type": "stream",
     "text": [
      "DONE!\n"
     ]
    }
   ],
   "source": [
    "# GENERATED A NEW DF WITH GROUPED BY SITE/HISTOLOGY/AA MUTATION COUNTS\n",
    "\n",
    "# grupo_sh = df_Cosmic.groupby(['Primary site', 'Primary histology'])\n",
    "# second_graph = grupo_sh['Gene name'].value_counts().to_frame()\n",
    "# second_graph.to_csv('/content/drive/My Drive/second graph.csv', encoding='utf-8', index=True)\n",
    "# print('DONE!')"
   ]
  },
  {
   "cell_type": "code",
   "execution_count": null,
   "metadata": {
    "id": "yEmHLo2_7wpg"
   },
   "outputs": [],
   "source": [
    "# graphy_2 = pd.read_csv('/content/drive/My Drive/second graph.csv')\n",
    "# graphy_2.head(4)"
   ]
  },
  {
   "cell_type": "code",
   "execution_count": null,
   "metadata": {
    "colab": {
     "base_uri": "https://localhost:8080/"
    },
    "id": "Et5Y1bqtm_Ud",
    "outputId": "ef97861b-cba7-419a-d5dd-41d5614a3428"
   },
   "outputs": [
    {
     "name": "stdout",
     "output_type": "stream",
     "text": [
      "DONE!\n"
     ]
    }
   ],
   "source": [
    "# GENERATED A NEW DF WITH GROUPED BY SITE/HISTOLOGY/AA MUTATION COUNTS\n",
    "\n",
    "# grupo_sh = mergy.groupby(['Primary site', 'Primary histology'])\n",
    "# third_graph = grupo_sh['ACC_ID'].value_counts().to_frame()\n",
    "# third_graph.to_csv('/content/drive/My Drive/third graph.csv', encoding='utf-8', index=True)\n",
    "# print('DONE!')"
   ]
  },
  {
   "cell_type": "code",
   "execution_count": null,
   "metadata": {
    "colab": {
     "base_uri": "https://localhost:8080/",
     "height": 173
    },
    "id": "6hEecw3Qr_NB",
    "outputId": "6f241ddf-6881-44f4-bd2c-732088363825"
   },
   "outputs": [
    {
     "data": {
      "text/html": [
       "<div>\n",
       "<style scoped>\n",
       "    .dataframe tbody tr th:only-of-type {\n",
       "        vertical-align: middle;\n",
       "    }\n",
       "\n",
       "    .dataframe tbody tr th {\n",
       "        vertical-align: top;\n",
       "    }\n",
       "\n",
       "    .dataframe thead th {\n",
       "        text-align: right;\n",
       "    }\n",
       "</style>\n",
       "<table border=\"1\" class=\"dataframe\">\n",
       "  <thead>\n",
       "    <tr style=\"text-align: right;\">\n",
       "      <th></th>\n",
       "      <th>Primary site</th>\n",
       "      <th>Primary histology</th>\n",
       "      <th>ACC_ID</th>\n",
       "      <th>ACC_ID.1</th>\n",
       "    </tr>\n",
       "  </thead>\n",
       "  <tbody>\n",
       "    <tr>\n",
       "      <th>0</th>\n",
       "      <td>NS</td>\n",
       "      <td>NS</td>\n",
       "      <td>P13489</td>\n",
       "      <td>7</td>\n",
       "    </tr>\n",
       "    <tr>\n",
       "      <th>1</th>\n",
       "      <td>NS</td>\n",
       "      <td>carcinoma</td>\n",
       "      <td>Q99676</td>\n",
       "      <td>2</td>\n",
       "    </tr>\n",
       "    <tr>\n",
       "      <th>2</th>\n",
       "      <td>NS</td>\n",
       "      <td>malignant_melanoma</td>\n",
       "      <td>P35222</td>\n",
       "      <td>69</td>\n",
       "    </tr>\n",
       "    <tr>\n",
       "      <th>3</th>\n",
       "      <td>NS</td>\n",
       "      <td>malignant_melanoma</td>\n",
       "      <td>P24534</td>\n",
       "      <td>16</td>\n",
       "    </tr>\n",
       "  </tbody>\n",
       "</table>\n",
       "</div>"
      ],
      "text/plain": [
       "  Primary site   Primary histology  ACC_ID  ACC_ID.1\n",
       "0           NS                  NS  P13489         7\n",
       "1           NS           carcinoma  Q99676         2\n",
       "2           NS  malignant_melanoma  P35222        69\n",
       "3           NS  malignant_melanoma  P24534        16"
      ]
     },
     "execution_count": 62,
     "metadata": {},
     "output_type": "execute_result"
    }
   ],
   "source": [
    "# graphy_3 = pd.read_csv('/content/drive/My Drive/third graph.csv')\n",
    "# graphy_3.head(4)"
   ]
  },
  {
   "cell_type": "markdown",
   "metadata": {
    "id": "eAsEzTqozFrh"
   },
   "source": [
    "Distribution of primary site / primary histology."
   ]
  },
  {
   "cell_type": "code",
   "execution_count": null,
   "metadata": {
    "id": "ZX2AbOKtzf1n"
   },
   "outputs": [],
   "source": [
    "# First, group data by site or type\n",
    "# cancer_type_grp = df_Cosmic.groupby(['Primary histology'])\n",
    "# tm_origin_grp = df_Cosmic.groupby(['Primary site']) \n",
    "\n",
    "# ?Second, show the other column as percentages\n",
    "# tm_origin_grp['Primary histology'].value_counts(normalize=True)\n",
    "# cancer_type_grp['Primary histology'].value_counts(normalize=True)\n",
    "\n",
    "# Third, show total counts for the whole dataframe of sites and types\n",
    "# df_Cosmic['Primary histology'].value_counts(normalize=True)\n",
    "# df_Cosmic['Primary site'].value_counts(normalize=True)"
   ]
  },
  {
   "cell_type": "markdown",
   "metadata": {
    "id": "ormfrOvszpEm"
   },
   "source": [
    "How many SNPs with FATHMM > 0.5?"
   ]
  },
  {
   "cell_type": "code",
   "execution_count": null,
   "metadata": {
    "id": "KrteoMxtzqQm"
   },
   "outputs": [],
   "source": []
  },
  {
   "cell_type": "code",
   "execution_count": null,
   "metadata": {
    "id": "XduPGwvHtbnZ"
   },
   "outputs": [],
   "source": [
    "# Mutation AA == T,S,y\n",
    "#  1) if cosmic originally had one of these three and remains the same\n",
    "#  2) if cosmic originally had one of these three but changed into another one of them\n",
    "#  3) if it didnt have one of those and turned into any of them\n"
   ]
  }
 ],
 "metadata": {
  "colab": {
   "collapsed_sections": [],
   "name": "Exercise.ipynb",
   "provenance": [],
   "toc_visible": true
  },
  "kernelspec": {
   "display_name": "Python 3",
   "language": "python",
   "name": "python3"
  },
  "language_info": {
   "codemirror_mode": {
    "name": "ipython",
    "version": 3
   },
   "file_extension": ".py",
   "mimetype": "text/x-python",
   "name": "python",
   "nbconvert_exporter": "python",
   "pygments_lexer": "ipython3",
   "version": "3.8.5"
  }
 },
 "nbformat": 4,
 "nbformat_minor": 1
}
